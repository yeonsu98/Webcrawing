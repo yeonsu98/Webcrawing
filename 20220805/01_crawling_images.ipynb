{
 "cells": [
  {
   "cell_type": "code",
   "execution_count": 1,
   "id": "6c755efa-96a1-44aa-9caf-63656436dc22",
   "metadata": {},
   "outputs": [],
   "source": [
    "import pandas as pd\n",
    "import requests, os"
   ]
  },
  {
   "cell_type": "code",
   "execution_count": null,
   "id": "4bf2988b-b9d8-4956-9575-1afb870e06c3",
   "metadata": {},
   "outputs": [],
   "source": [
    "# 1. 디렉토리 생성 : data"
   ]
  },
  {
   "cell_type": "code",
   "execution_count": 2,
   "id": "73900d17-5eff-4113-85d9-7da09ba2f93d",
   "metadata": {},
   "outputs": [],
   "source": [
    "path = \"data\"\n",
    "if not os.path.exists(path): # 디렉토리 존재 유무 확인\n",
    "    os.makedirs(path)"
   ]
  },
  {
   "cell_type": "code",
   "execution_count": null,
   "id": "90ba3c95-701f-4dc7-90dd-b01446375c60",
   "metadata": {},
   "outputs": [],
   "source": [
    "# 2. csv 파일 로드 : image link"
   ]
  },
  {
   "cell_type": "code",
   "execution_count": 4,
   "id": "931c8adc-0f03-4f84-812a-68dad3e8d08c",
   "metadata": {},
   "outputs": [
    {
     "data": {
      "text/html": [
       "<div>\n",
       "<style scoped>\n",
       "    .dataframe tbody tr th:only-of-type {\n",
       "        vertical-align: middle;\n",
       "    }\n",
       "\n",
       "    .dataframe tbody tr th {\n",
       "        vertical-align: top;\n",
       "    }\n",
       "\n",
       "    .dataframe thead th {\n",
       "        text-align: right;\n",
       "    }\n",
       "</style>\n",
       "<table border=\"1\" class=\"dataframe\">\n",
       "  <thead>\n",
       "    <tr style=\"text-align: right;\">\n",
       "      <th></th>\n",
       "      <th>title</th>\n",
       "      <th>o_price</th>\n",
       "      <th>s_price</th>\n",
       "      <th>img</th>\n",
       "    </tr>\n",
       "  </thead>\n",
       "  <tbody>\n",
       "    <tr>\n",
       "      <th>0</th>\n",
       "      <td>3900원 균일가 시즌오프 블라우스/티셔츠/원피스/팬츠 外</td>\n",
       "      <td>13,000원</td>\n",
       "      <td>3,900원</td>\n",
       "      <td>http://gdimg.gmarket.co.kr/2266434001/still/30...</td>\n",
       "    </tr>\n",
       "    <tr>\n",
       "      <th>1</th>\n",
       "      <td>청정우 양지 300gX3팩</td>\n",
       "      <td>31,800원</td>\n",
       "      <td>15,900원</td>\n",
       "      <td>http://gdimg.gmarket.co.kr/1587075039/still/30...</td>\n",
       "    </tr>\n",
       "    <tr>\n",
       "      <th>2</th>\n",
       "      <td>[한상궁김치]한상궁김치 국산 겉절이 2kg 출고당일생산</td>\n",
       "      <td>NaN</td>\n",
       "      <td>15,900원</td>\n",
       "      <td>http://gdimg.gmarket.co.kr/1798110680/still/30...</td>\n",
       "    </tr>\n",
       "    <tr>\n",
       "      <th>3</th>\n",
       "      <td>[키스포]12%쿠폰 아동 주니어 여름 클리어런스+가을 프리뷰 모음전</td>\n",
       "      <td>22,000원</td>\n",
       "      <td>6,600원</td>\n",
       "      <td>http://gdimg.gmarket.co.kr/336394693/still/300...</td>\n",
       "    </tr>\n",
       "    <tr>\n",
       "      <th>4</th>\n",
       "      <td>DCOVERS/디커버스/반팔티/티셔츠/여성/남자/빅사이즈</td>\n",
       "      <td>26,300원</td>\n",
       "      <td>7,900원</td>\n",
       "      <td>http://gdimg.gmarket.co.kr/2514963907/still/30...</td>\n",
       "    </tr>\n",
       "    <tr>\n",
       "      <th>...</th>\n",
       "      <td>...</td>\n",
       "      <td>...</td>\n",
       "      <td>...</td>\n",
       "      <td>...</td>\n",
       "    </tr>\n",
       "    <tr>\n",
       "      <th>195</th>\n",
       "      <td>[게스]누구나 22% 게스 여름 티셔츠/데님 파이널 세일</td>\n",
       "      <td>56,000원</td>\n",
       "      <td>17,000원</td>\n",
       "      <td>http://gdimg.gmarket.co.kr/1829738400/still/30...</td>\n",
       "    </tr>\n",
       "    <tr>\n",
       "      <th>196</th>\n",
       "      <td>[스파클]스파클생수 2L 30병</td>\n",
       "      <td>NaN</td>\n",
       "      <td>15,900원</td>\n",
       "      <td>http://gdimg.gmarket.co.kr/2007982106/still/30...</td>\n",
       "    </tr>\n",
       "    <tr>\n",
       "      <th>197</th>\n",
       "      <td>[G7]베트남 G7 블랙 2g x 200입 (무료배송+랜덤 사은품)</td>\n",
       "      <td>19,900원</td>\n",
       "      <td>13,500원</td>\n",
       "      <td>http://gdimg.gmarket.co.kr/1692723853/still/30...</td>\n",
       "    </tr>\n",
       "    <tr>\n",
       "      <th>198</th>\n",
       "      <td>[미래생활]순수PURE천연펄프 25m 30롤 x 3팩 휴지</td>\n",
       "      <td>31,900원</td>\n",
       "      <td>28,900원</td>\n",
       "      <td>http://gdimg.gmarket.co.kr/1899274105/still/30...</td>\n",
       "    </tr>\n",
       "    <tr>\n",
       "      <th>199</th>\n",
       "      <td>탑모델 여름신상 BEST 특가+10%쿠폰</td>\n",
       "      <td>32,900원</td>\n",
       "      <td>9,900원</td>\n",
       "      <td>http://gdimg.gmarket.co.kr/1787483503/still/30...</td>\n",
       "    </tr>\n",
       "  </tbody>\n",
       "</table>\n",
       "<p>200 rows × 4 columns</p>\n",
       "</div>"
      ],
      "text/plain": [
       "                                     title  o_price  s_price  \\\n",
       "0         3900원 균일가 시즌오프 블라우스/티셔츠/원피스/팬츠 外  13,000원   3,900원   \n",
       "1                           청정우 양지 300gX3팩  31,800원  15,900원   \n",
       "2           [한상궁김치]한상궁김치 국산 겉절이 2kg 출고당일생산      NaN  15,900원   \n",
       "3    [키스포]12%쿠폰 아동 주니어 여름 클리어런스+가을 프리뷰 모음전  22,000원   6,600원   \n",
       "4          DCOVERS/디커버스/반팔티/티셔츠/여성/남자/빅사이즈  26,300원   7,900원   \n",
       "..                                     ...      ...      ...   \n",
       "195        [게스]누구나 22% 게스 여름 티셔츠/데님 파이널 세일  56,000원  17,000원   \n",
       "196                      [스파클]스파클생수 2L 30병      NaN  15,900원   \n",
       "197  [G7]베트남 G7 블랙 2g x 200입 (무료배송+랜덤 사은품)  19,900원  13,500원   \n",
       "198       [미래생활]순수PURE천연펄프 25m 30롤 x 3팩 휴지  31,900원  28,900원   \n",
       "199                 탑모델 여름신상 BEST 특가+10%쿠폰  32,900원   9,900원   \n",
       "\n",
       "                                                   img  \n",
       "0    http://gdimg.gmarket.co.kr/2266434001/still/30...  \n",
       "1    http://gdimg.gmarket.co.kr/1587075039/still/30...  \n",
       "2    http://gdimg.gmarket.co.kr/1798110680/still/30...  \n",
       "3    http://gdimg.gmarket.co.kr/336394693/still/300...  \n",
       "4    http://gdimg.gmarket.co.kr/2514963907/still/30...  \n",
       "..                                                 ...  \n",
       "195  http://gdimg.gmarket.co.kr/1829738400/still/30...  \n",
       "196  http://gdimg.gmarket.co.kr/2007982106/still/30...  \n",
       "197  http://gdimg.gmarket.co.kr/1692723853/still/30...  \n",
       "198  http://gdimg.gmarket.co.kr/1899274105/still/30...  \n",
       "199  http://gdimg.gmarket.co.kr/1787483503/still/30...  \n",
       "\n",
       "[200 rows x 4 columns]"
      ]
     },
     "execution_count": 4,
     "metadata": {},
     "output_type": "execute_result"
    }
   ],
   "source": [
    "df = pd.read_csv(\"gmarket.csv\")\n",
    "df"
   ]
  },
  {
   "cell_type": "code",
   "execution_count": 6,
   "id": "bbed2549-a02c-4673-bfdd-d1f62a8b4e03",
   "metadata": {},
   "outputs": [
    {
     "data": {
      "text/plain": [
       "'http://gdimg.gmarket.co.kr/2266434001/still/300?ver=2022080509'"
      ]
     },
     "execution_count": 6,
     "metadata": {},
     "output_type": "execute_result"
    }
   ],
   "source": [
    "img_link = df.loc[0, \"img\"]\n",
    "img_link"
   ]
  },
  {
   "cell_type": "code",
   "execution_count": null,
   "id": "0c215ab9-1687-4e58-bcf4-e10e2c510c71",
   "metadata": {},
   "outputs": [],
   "source": [
    "# 3. download images : requests"
   ]
  },
  {
   "cell_type": "code",
   "execution_count": 9,
   "id": "f5c1b4ea-7651-4e4f-87b0-30c19be62092",
   "metadata": {},
   "outputs": [
    {
     "data": {
      "text/plain": [
       "<Response [200]>"
      ]
     },
     "execution_count": 9,
     "metadata": {},
     "output_type": "execute_result"
    }
   ],
   "source": [
    "response = requests.get(img_link)\n",
    "response"
   ]
  },
  {
   "cell_type": "code",
   "execution_count": 11,
   "id": "2fe3975a-1eb7-4a4f-b9b5-9ae1ff9f7447",
   "metadata": {},
   "outputs": [],
   "source": [
    "# img 저장 => wb\n",
    "with open(f\"{path}/test.png\", \"wb\") as file:\n",
    "    file.write(response.content)"
   ]
  },
  {
   "cell_type": "code",
   "execution_count": 12,
   "id": "a3b39fd6-0527-417e-8f9b-49a90e0ef941",
   "metadata": {},
   "outputs": [
    {
     "data": {
      "text/plain": [
       "0      http://gdimg.gmarket.co.kr/2266434001/still/30...\n",
       "1      http://gdimg.gmarket.co.kr/1587075039/still/30...\n",
       "2      http://gdimg.gmarket.co.kr/1798110680/still/30...\n",
       "3      http://gdimg.gmarket.co.kr/336394693/still/300...\n",
       "4      http://gdimg.gmarket.co.kr/2514963907/still/30...\n",
       "                             ...                        \n",
       "195    http://gdimg.gmarket.co.kr/1829738400/still/30...\n",
       "196    http://gdimg.gmarket.co.kr/2007982106/still/30...\n",
       "197    http://gdimg.gmarket.co.kr/1692723853/still/30...\n",
       "198    http://gdimg.gmarket.co.kr/1899274105/still/30...\n",
       "199    http://gdimg.gmarket.co.kr/1787483503/still/30...\n",
       "Name: img, Length: 200, dtype: object"
      ]
     },
     "execution_count": 12,
     "metadata": {},
     "output_type": "execute_result"
    }
   ],
   "source": [
    "img_links = df[\"img\"]\n",
    "img_links"
   ]
  },
  {
   "cell_type": "code",
   "execution_count": null,
   "id": "06523991-21c9-4a10-afc5-67b1e8f46e46",
   "metadata": {},
   "outputs": [],
   "source": [
    "# 4. 이미지 보기"
   ]
  },
  {
   "cell_type": "code",
   "execution_count": 13,
   "id": "a8a6b11e-4ef5-47e4-b6c8-c6f12faf9744",
   "metadata": {},
   "outputs": [],
   "source": [
    "from PIL import Image as pil"
   ]
  },
  {
   "cell_type": "code",
   "execution_count": 14,
   "id": "21474673-3c54-42d1-bc33-7a75ac98141e",
   "metadata": {},
   "outputs": [
    {
     "data": {
      "image/png": "[encoded data removed]",
      "text/plain": [
       "<PIL.JpegImagePlugin.JpegImageFile image mode=RGB size=300x300 at 0x250895FFA30>"
      ]
     },
     "execution_count": 14,
     "metadata": {},
     "output_type": "execute_result"
    }
   ],
   "source": [
    "pil.open(f\"{path}/test.png\")"
   ]
  },
  {
   "cell_type": "code",
   "execution_count": null,
   "id": "2a45b3d0-e8a2-4dd3-a054-5fdb2e8a845d",
   "metadata": {},
   "outputs": [],
   "source": [
    "# 5. 여러개 다운로드"
   ]
  },
  {
   "cell_type": "code",
   "execution_count": 19,
   "id": "e5e10d89-a1eb-487b-b8bb-485f054782fb",
   "metadata": {},
   "outputs": [
    {
     "name": "stdout",
     "output_type": "stream",
     "text": [
      "0 000.png http://gdimg.gmarket.co.kr/2266434001/still/300?ver=2022080509\n",
      "1 001.png http://gdimg.gmarket.co.kr/1587075039/still/300?ver=2022080509\n",
      "2 002.png http://gdimg.gmarket.co.kr/1798110680/still/300?ver=2022080509\n",
      "3 003.png http://gdimg.gmarket.co.kr/336394693/still/300?ver=2022080509\n",
      "4 004.png http://gdimg.gmarket.co.kr/2514963907/still/300?ver=2022080509\n"
     ]
    }
   ],
   "source": [
    "for idx, data in df[:5].iterrows():\n",
    "    filename = \"0\"*(3 - len(str(idx))) + str(idx) + \".png\"\n",
    "    print(idx, filename, data[\"img\"])\n",
    "    response = requests.get(data[\"img\"])\n",
    "    with open(f\"{path}/{filename}\", \"wb\") as file:\n",
    "        file.write(response.content)"
   ]
  },
  {
   "cell_type": "code",
   "execution_count": null,
   "id": "b8dd1091-f2dd-40ef-b8f9-646d615b5e6f",
   "metadata": {},
   "outputs": [],
   "source": [
    "for idx, data in df[:5].iterrows():\n",
    "    filename = \"0\" * (3 - len(str(idx))) + str(idx) + \".png\"\n",
    "    response = requests.get(data[\"img\"])\n",
    "    with open(f\"{path}/{filename}\") as file:\n",
    "        file.write(response.content)"
   ]
  },
  {
   "cell_type": "code",
   "execution_count": null,
   "id": "2d6a6d28-3d2b-4132-b7bb-127c2e747bf4",
   "metadata": {},
   "outputs": [],
   "source": [
    "# % 한줄에 적용\n",
    "# %% 전체 셀에 적용"
   ]
  },
  {
   "cell_type": "code",
   "execution_count": null,
   "id": "113e1017-5540-4b58-b2c0-d9ffb8fe8aab",
   "metadata": {},
   "outputs": [],
   "source": [
    "# setting startup file"
   ]
  },
  {
   "cell_type": "code",
   "execution_count": null,
   "id": "5de6b7a0-b622-485a-80f5-75ed19fdb10a",
   "metadata": {},
   "outputs": [],
   "source": [
    "# 1. make ipython profile : os"
   ]
  },
  {
   "cell_type": "code",
   "execution_count": 20,
   "id": "ed96166c-2c0b-4e9c-a625-1335a4dc3268",
   "metadata": {
    "collapsed": true,
    "jupyter": {
     "outputs_hidden": true
    },
    "tags": []
   },
   "outputs": [
    {
     "name": "stderr",
     "output_type": "stream",
     "text": [
      "[ProfileCreate] Generating default config file: 'C:\\\\Users\\\\User\\\\.ipython\\\\profile_default\\\\ipython_config.py'\n",
      "[ProfileCreate] Generating default config file: 'C:\\\\Users\\\\User\\\\.ipython\\\\profile_default\\\\ipython_kernel_config.py'\n"
     ]
    }
   ],
   "source": [
    "!ipython profile create"
   ]
  },
  {
   "cell_type": "code",
   "execution_count": null,
   "id": "e3a96b8c-72bf-468e-8c4b-ee2221dee981",
   "metadata": {},
   "outputs": [],
   "source": [
    "# 2. make .py file in startup directory"
   ]
  },
  {
   "cell_type": "code",
   "execution_count": 22,
   "id": "cd140429-6d4c-4df4-bf60-728cc469f593",
   "metadata": {},
   "outputs": [
    {
     "name": "stdout",
     "output_type": "stream",
     "text": [
      " C 드라이브의 볼륨에는 이름이 없습니다.\n",
      " 볼륨 일련 번호: 7C6C-FC35\n",
      "\n",
      " C:\\Users\\User\\.ipython 디렉터리\n",
      "\n",
      "2022-07-28  오전 10:06    <DIR>          .\n",
      "2022-07-28  오전 10:06    <DIR>          ..\n",
      "2022-07-28  오전 10:06    <DIR>          extensions\n",
      "2022-07-28  오전 10:06    <DIR>          nbextensions\n",
      "2022-08-05  오전 10:50    <DIR>          profile_default\n",
      "               0개 파일                   0 바이트\n",
      "               5개 디렉터리  134,726,156,288 바이트 남음\n"
     ]
    }
   ],
   "source": [
    "!dir C:\\Users\\User\\.ipython"
   ]
  },
  {
   "cell_type": "code",
   "execution_count": 23,
   "id": "7d308598-f046-4497-a55c-21ac03330b8a",
   "metadata": {},
   "outputs": [
    {
     "name": "stdout",
     "output_type": "stream",
     "text": [
      " C 드라이브의 볼륨에는 이름이 없습니다.\n",
      " 볼륨 일련 번호: 7C6C-FC35\n",
      "\n",
      " C:\\Users\\User\\.ipython\\profile_default\\startup 디렉터리\n",
      "\n",
      "2022-07-28  오전 10:06    <DIR>          .\n",
      "2022-07-28  오전 10:06    <DIR>          ..\n",
      "2022-07-28  오전 10:06               371 README\n",
      "               1개 파일                 371 바이트\n",
      "               2개 디렉터리  134,725,500,928 바이트 남음\n"
     ]
    }
   ],
   "source": [
    "!dir C:\\Users\\User\\.ipython\\profile_default\\startup"
   ]
  },
  {
   "cell_type": "code",
   "execution_count": 24,
   "id": "4c35d2b1-0f02-4ca1-bdc0-d8d67cefa671",
   "metadata": {},
   "outputs": [],
   "source": [
    "# %load C:\\Users\\User\\.ipython\\profile_default\\startup\\README\n",
    "This is the IPython startup directory\n",
    "\n",
    ".py and .ipy files in this directory will be run *prior* to any code or files specified\n",
    "via the exec_lines or exec_files configurables whenever you load this profile.\n",
    "\n",
    "Files will be run in lexicographical order, so you can control the execution order of files\n",
    "with a prefix, e.g.::\n",
    "\n",
    "    00-first.py\n",
    "    50-middle.py\n",
    "    99-last.ipy\n"
   ]
  },
  {
   "cell_type": "code",
   "execution_count": 27,
   "id": "d3a1c90b-f398-4293-9aee-d6f9d4dfa163",
   "metadata": {},
   "outputs": [
    {
     "name": "stdout",
     "output_type": "stream",
     "text": [
      "Writing C:\\Users\\User\\.ipython\\profile_default\\startup\\00-first.py\n"
     ]
    }
   ],
   "source": [
    "%%writefile C:\\Users\\User\\.ipython\\profile_default\\startup\\00-first.py\n",
    "import pandas as pd\n",
    "import numpy as np\n",
    "import requests"
   ]
  },
  {
   "cell_type": "code",
   "execution_count": 28,
   "id": "49fc1a2d-08ec-4e33-87a7-6eb37e26820a",
   "metadata": {},
   "outputs": [
    {
     "name": "stdout",
     "output_type": "stream",
     "text": [
      " C 드라이브의 볼륨에는 이름이 없습니다.\n",
      " 볼륨 일련 번호: 7C6C-FC35\n",
      "\n",
      " C:\\Users\\User\\.ipython\\profile_default\\startup 디렉터리\n",
      "\n",
      "2022-08-05  오전 10:58    <DIR>          .\n",
      "2022-08-05  오전 10:58    <DIR>          ..\n",
      "2022-08-05  오전 10:58                58 00-first.py\n",
      "2022-07-28  오전 10:06               371 README\n",
      "               2개 파일                 429 바이트\n",
      "               2개 디렉터리  134,720,929,792 바이트 남음\n"
     ]
    }
   ],
   "source": [
    "!dir C:\\Users\\User\\.ipython\\profile_default\\startup"
   ]
  },
  {
   "cell_type": "code",
   "execution_count": null,
   "id": "5db19017-5113-4484-a2d7-5323778a53ed",
   "metadata": {},
   "outputs": [],
   "source": []
  }
 ],
 "metadata": {
  "kernelspec": {
   "display_name": "Python 3",
   "language": "python",
   "name": "python3"
  },
  "language_info": {
   "codemirror_mode": {
    "name": "ipython",
    "version": 3
   },
   "file_extension": ".py",
   "mimetype": "text/x-python",
   "name": "python",
   "nbconvert_exporter": "python",
   "pygments_lexer": "ipython3",
   "version": "3.8.8"
  }
 },
 "nbformat": 4,
 "nbformat_minor": 5
}
