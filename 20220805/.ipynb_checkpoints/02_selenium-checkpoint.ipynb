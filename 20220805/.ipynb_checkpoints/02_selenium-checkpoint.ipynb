{
 "cells": [
  {
   "cell_type": "markdown",
   "id": "b2353595-3fe6-4704-bc60-014c085f1c65",
   "metadata": {},
   "source": [
    "#### Selenium\n",
    "- 브라우저의 자동화 목적으로 만들어진 다양한 브라우져와 언어를 지원하는 라이브러리\n",
    "- 브라우저를 파이썬 코드로 컨트롤 해서 브라우저에 있는 데이터 수집\n",
    "- 단점 : 데이터 수집 속도가 느려짐\n",
    "- 그럼에도 사용하는 이유는 실제 브라우저를 사용하기 때문에 requests로 수집하지 못하는 데이터 수집 가능"
   ]
  },
  {
   "cell_type": "markdown",
   "id": "1a8f0796-36a0-4e86-b22d-e86b10792330",
   "metadata": {},
   "source": [
    "#### 크롤링 방법\n",
    "- 1. requests > json : 웹페이지의 API 트래픽 분석해서 데이터 수집 : naver stock\n",
    "- 2. requests > json : 공식적으로 제공하는 API를 application key 받아서 데이터 수집 : naver API(papago, trend)\n",
    "- 3. requests > html, BeautifulSoup(css selector) : 웹페이지 html 코드 받아서 데이터 수집\n",
    "- 4. selenium : browser - python : 브라우저를 파이썬 코드로 컨트롤해서 수집 : ted\n",
    "- 크롤링 시 좋은 순서 : 2 > 1(html(코드 내에 필요없는 코드 많음..)과 json 코드의 양 차이) > 3 > 4"
   ]
  },
  {
   "cell_type": "markdown",
   "id": "3b1a0187-5a49-4025-9469-d3ffe4f3883e",
   "metadata": {},
   "source": [
    "#### 환경설정\n",
    "- 크롬 브라우져 설치\n",
    "- 크롬 브라우져 드라이버 다운로드 : 크롬 브라우져 버전과 일치\n",
    "- selenium 패키지 설치\n",
    "- .opt : 크롬 브라우져의 드라이버 파일을 환경변수로 등록하면 조금 쉽게 사용"
   ]
  },
  {
   "cell_type": "code",
   "execution_count": 2,
   "id": "3fb111b2-3205-4ccc-a20f-d914af7d5ce6",
   "metadata": {
    "collapsed": true,
    "jupyter": {
     "outputs_hidden": true
    },
    "tags": []
   },
   "outputs": [
    {
     "name": "stdout",
     "output_type": "stream",
     "text": [
      "Collecting selenium\n",
      "  Downloading selenium-4.3.0-py3-none-any.whl (981 kB)\n",
      "Requirement already satisfied: urllib3[secure,socks]~=1.26 in c:\\users\\user\\anaconda3\\lib\\site-packages (from selenium) (1.26.4)\n",
      "Collecting trio-websocket~=0.9\n",
      "  Downloading trio_websocket-0.9.2-py3-none-any.whl (16 kB)\n",
      "Collecting trio~=0.17\n",
      "  Downloading trio-0.21.0-py3-none-any.whl (358 kB)\n",
      "Requirement already satisfied: attrs>=19.2.0 in c:\\users\\user\\anaconda3\\lib\\site-packages (from trio~=0.17->selenium) (20.3.0)\n",
      "Requirement already satisfied: sortedcontainers in c:\\users\\user\\anaconda3\\lib\\site-packages (from trio~=0.17->selenium) (2.3.0)\n",
      "Requirement already satisfied: idna in c:\\users\\user\\anaconda3\\lib\\site-packages (from trio~=0.17->selenium) (2.10)\n",
      "Collecting outcome\n",
      "  Downloading outcome-1.2.0-py2.py3-none-any.whl (9.7 kB)\n",
      "Requirement already satisfied: sniffio in c:\\users\\user\\anaconda3\\lib\\site-packages (from trio~=0.17->selenium) (1.2.0)\n",
      "Requirement already satisfied: async-generator>=1.9 in c:\\users\\user\\anaconda3\\lib\\site-packages (from trio~=0.17->selenium) (1.10)\n",
      "Requirement already satisfied: cffi>=1.14 in c:\\users\\user\\anaconda3\\lib\\site-packages (from trio~=0.17->selenium) (1.14.5)\n",
      "Requirement already satisfied: pycparser in c:\\users\\user\\anaconda3\\lib\\site-packages (from cffi>=1.14->trio~=0.17->selenium) (2.20)\n",
      "Collecting wsproto>=0.14\n",
      "  Downloading wsproto-1.1.0-py3-none-any.whl (24 kB)\n",
      "Requirement already satisfied: cryptography>=1.3.4 in c:\\users\\user\\anaconda3\\lib\\site-packages (from urllib3[secure,socks]~=1.26->selenium) (3.4.7)\n",
      "Requirement already satisfied: pyOpenSSL>=0.14 in c:\\users\\user\\anaconda3\\lib\\site-packages (from urllib3[secure,socks]~=1.26->selenium) (20.0.1)\n",
      "Requirement already satisfied: certifi in c:\\users\\user\\anaconda3\\lib\\site-packages (from urllib3[secure,socks]~=1.26->selenium) (2020.12.5)\n",
      "Requirement already satisfied: PySocks!=1.5.7,<2.0,>=1.5.6 in c:\\users\\user\\anaconda3\\lib\\site-packages (from urllib3[secure,socks]~=1.26->selenium) (1.7.1)\n",
      "Requirement already satisfied: six>=1.5.2 in c:\\users\\user\\anaconda3\\lib\\site-packages (from pyOpenSSL>=0.14->urllib3[secure,socks]~=1.26->selenium) (1.15.0)\n",
      "Collecting h11<1,>=0.9.0\n",
      "  Downloading h11-0.13.0-py3-none-any.whl (58 kB)\n",
      "Installing collected packages: outcome, h11, wsproto, trio, trio-websocket, selenium\n",
      "Successfully installed h11-0.13.0 outcome-1.2.0 selenium-4.3.0 trio-0.21.0 trio-websocket-0.9.2 wsproto-1.1.0\n"
     ]
    }
   ],
   "source": [
    "!pip install selenium"
   ]
  },
  {
   "cell_type": "code",
   "execution_count": 3,
   "id": "107aa42f-a3aa-4b55-9068-f14245bc804d",
   "metadata": {},
   "outputs": [],
   "source": [
    "from selenium import webdriver\n",
    "from selenium.webdriver.common.by import By"
   ]
  },
  {
   "cell_type": "code",
   "execution_count": 19,
   "id": "e22ef129-33b0-4d24-8c2d-016bbab6d6a6",
   "metadata": {},
   "outputs": [],
   "source": [
    "# 1. 브라우저 띄우기\n",
    "driver = webdriver.Chrome()"
   ]
  },
  {
   "cell_type": "code",
   "execution_count": 20,
   "id": "4e783e90-e73e-46ad-a631-a8e97f7cad1d",
   "metadata": {},
   "outputs": [],
   "source": [
    "# 2. 페이지 이동\n",
    "driver.get(\"https://daum.net\")"
   ]
  },
  {
   "cell_type": "code",
   "execution_count": 21,
   "id": "894ae064-cd5f-4808-91e0-3d3a1c6d784a",
   "metadata": {},
   "outputs": [],
   "source": [
    "# 3. 브라우저 사이즈 조절(브라우저는 파이썬 코드로만 컨트롤하는게 좋음 에러날 수 있음)\n",
    "driver.set_window_size(200, 600)"
   ]
  },
  {
   "cell_type": "code",
   "execution_count": 22,
   "id": "85cb5f9d-3585-474b-aab7-fd493d5443c8",
   "metadata": {},
   "outputs": [],
   "source": [
    "# 4. 브라우저 스크롤 조절(JS 코드 실행)\n",
    "driver.execute_script(\"window.scrollTo(200, 300);\")"
   ]
  },
  {
   "cell_type": "code",
   "execution_count": 23,
   "id": "8d26d5ce-18f4-4ced-95d2-b6a0f12b4a29",
   "metadata": {},
   "outputs": [],
   "source": [
    "# 5. alert 다루기(alert창이 뜨면 작동 안됨)\n",
    "driver.execute_script(\"alert('hello selenium!');\") # alert 창 띄우기"
   ]
  },
  {
   "cell_type": "code",
   "execution_count": 24,
   "id": "33f9b778-18a4-4586-ae9d-bbf7af0864a3",
   "metadata": {},
   "outputs": [],
   "source": [
    "alert = driver.switch_to.alert"
   ]
  },
  {
   "cell_type": "code",
   "execution_count": 25,
   "id": "f4e10bc5-12b8-432b-a1b6-738f044d3e54",
   "metadata": {},
   "outputs": [],
   "source": [
    "alert.accept()"
   ]
  },
  {
   "cell_type": "code",
   "execution_count": 26,
   "id": "13b3826a-487c-4179-9dd3-39fd745af272",
   "metadata": {},
   "outputs": [],
   "source": [
    "driver.execute_script(\"window.scrollTo(0, 0);\")"
   ]
  },
  {
   "cell_type": "code",
   "execution_count": 27,
   "id": "ac2bf51e-efd7-4554-931e-9cfa15b1c2d4",
   "metadata": {},
   "outputs": [],
   "source": [
    "# 6. input 창에 문자열 입력\n",
    "driver.find_element(By.CSS_SELECTOR, \"#q\").send_keys(\"파이썬\")"
   ]
  },
  {
   "cell_type": "code",
   "execution_count": 30,
   "id": "fd43a59d-f3a1-4db7-b49f-983e632d9d49",
   "metadata": {},
   "outputs": [],
   "source": [
    "# 7. 검색 버튼 클릭\n",
    "driver.find_element(By.CSS_SELECTOR, \".inner_search > .ico_pctop.btn_search\").click()"
   ]
  },
  {
   "cell_type": "code",
   "execution_count": 31,
   "id": "29290f12-07fc-4cfb-9ec4-e065e88c90e7",
   "metadata": {},
   "outputs": [],
   "source": [
    "# 8. 브라우저 종료\n",
    "driver.quit()"
   ]
  },
  {
   "cell_type": "code",
   "execution_count": 32,
   "id": "964e9497-e6d2-4335-85fd-ff884375b248",
   "metadata": {},
   "outputs": [],
   "source": [
    "# 브라우저 자동화\n",
    "driver = webdriver.Chrome()\n",
    "driver.get(\"https://daum.net\")\n",
    "driver.set_window_size(200, 600)\n",
    "driver.execute_script(\"alert('hello selenium!');\")\n",
    "alert = driver.switch_to.alert\n",
    "alert.accept()\n",
    "driver.execute_script(\"window.scrollTo(0, 0);\")\n",
    "driver.find_element(By.CSS_SELECTOR, \"#q\").send_keys(\"파이썬\")\n",
    "driver.find_element(By.CSS_SELECTOR, \".inner_search > .ico_pctop.btn_search\").click()\n",
    "driver.quit()"
   ]
  },
  {
   "cell_type": "code",
   "execution_count": 33,
   "id": "b6b8b922-1139-4238-99b3-0e37d538304c",
   "metadata": {},
   "outputs": [],
   "source": [
    "# 간단하게 머신러닝 사용"
   ]
  },
  {
   "cell_type": "code",
   "execution_count": 34,
   "id": "b32b97b7-a174-44c0-b35c-88d41f6b6c87",
   "metadata": {},
   "outputs": [
    {
     "name": "stdout",
     "output_type": "stream",
     "text": [
      " C 드라이브의 볼륨에는 이름이 없습니다.\n",
      " 볼륨 일련 번호: 7C6C-FC35\n",
      "\n",
      " C:\\Users\\User\\Webcrawing\\20220805 디렉터리\n",
      "\n",
      "2022-08-05  오후 12:03               477 premierleague.csv\n",
      "               1개 파일                 477 바이트\n",
      "               0개 디렉터리  134,178,185,216 바이트 남음\n"
     ]
    }
   ],
   "source": [
    "%ls premierleague.csv"
   ]
  },
  {
   "cell_type": "code",
   "execution_count": 37,
   "id": "ed4ca678-364a-47cb-8219-720e37dd5faa",
   "metadata": {
    "tags": []
   },
   "outputs": [
    {
     "data": {
      "text/html": [
       "<div>\n",
       "<style scoped>\n",
       "    .dataframe tbody tr th:only-of-type {\n",
       "        vertical-align: middle;\n",
       "    }\n",
       "\n",
       "    .dataframe tbody tr th {\n",
       "        vertical-align: top;\n",
       "    }\n",
       "\n",
       "    .dataframe thead th {\n",
       "        text-align: right;\n",
       "    }\n",
       "</style>\n",
       "<table border=\"1\" class=\"dataframe\">\n",
       "  <thead>\n",
       "    <tr style=\"text-align: right;\">\n",
       "      <th></th>\n",
       "      <th>name</th>\n",
       "      <th>gf</th>\n",
       "      <th>ga</th>\n",
       "      <th>points</th>\n",
       "    </tr>\n",
       "  </thead>\n",
       "  <tbody>\n",
       "    <tr>\n",
       "      <th>0</th>\n",
       "      <td>Manchester City</td>\n",
       "      <td>106</td>\n",
       "      <td>27</td>\n",
       "      <td>100</td>\n",
       "    </tr>\n",
       "    <tr>\n",
       "      <th>1</th>\n",
       "      <td>Manchester United</td>\n",
       "      <td>68</td>\n",
       "      <td>28</td>\n",
       "      <td>81</td>\n",
       "    </tr>\n",
       "    <tr>\n",
       "      <th>2</th>\n",
       "      <td>Tottenham Hotspur</td>\n",
       "      <td>74</td>\n",
       "      <td>36</td>\n",
       "      <td>77</td>\n",
       "    </tr>\n",
       "    <tr>\n",
       "      <th>3</th>\n",
       "      <td>Liverpool</td>\n",
       "      <td>84</td>\n",
       "      <td>38</td>\n",
       "      <td>75</td>\n",
       "    </tr>\n",
       "    <tr>\n",
       "      <th>4</th>\n",
       "      <td>Chelsea</td>\n",
       "      <td>62</td>\n",
       "      <td>38</td>\n",
       "      <td>70</td>\n",
       "    </tr>\n",
       "  </tbody>\n",
       "</table>\n",
       "</div>"
      ],
      "text/plain": [
       "                name   gf  ga  points\n",
       "0    Manchester City  106  27     100\n",
       "1  Manchester United   68  28      81\n",
       "2  Tottenham Hotspur   74  36      77\n",
       "3          Liverpool   84  38      75\n",
       "4            Chelsea   62  38      70"
      ]
     },
     "execution_count": 37,
     "metadata": {},
     "output_type": "execute_result"
    }
   ],
   "source": [
    "df = pd.read_csv(\"premierleague.csv\")\n",
    "df.head()"
   ]
  },
  {
   "cell_type": "code",
   "execution_count": null,
   "id": "e30295d4-a954-4fb8-a94d-a7ebd8c83c53",
   "metadata": {},
   "outputs": [],
   "source": [
    "# 득점과 실점 데이터 입력 시 승점 데이터 예측 "
   ]
  },
  {
   "cell_type": "code",
   "execution_count": 40,
   "id": "1ef70b9c-9ea0-442e-a853-5990bf060bbb",
   "metadata": {
    "collapsed": true,
    "jupyter": {
     "outputs_hidden": true
    },
    "tags": []
   },
   "outputs": [
    {
     "data": {
      "text/plain": [
       "(     gf  ga\n",
       " 0   106  27\n",
       " 1    68  28\n",
       " 2    74  36\n",
       " 3    84  38\n",
       " 4    62  38\n",
       " 5    74  51\n",
       " 6    36  39\n",
       " 7    44  58\n",
       " 8    56  60\n",
       " 9    39  47\n",
       " 10   45  55\n",
       " 11   45  61\n",
       " 12   48  68\n",
       " 13   44  64\n",
       " 14   34  54\n",
       " 15   28  58\n",
       " 16   37  56\n",
       " 17   28  56\n",
       " 18   35  68\n",
       " 19   31  56,\n",
       " 0     100\n",
       " 1      81\n",
       " 2      77\n",
       " 3      75\n",
       " 4      70\n",
       " 5      63\n",
       " 6      54\n",
       " 7      49\n",
       " 8      47\n",
       " 9      44\n",
       " 10     44\n",
       " 11     44\n",
       " 12     42\n",
       " 13     41\n",
       " 14     40\n",
       " 15     37\n",
       " 16     36\n",
       " 17     33\n",
       " 18     33\n",
       " 19     31\n",
       " Name: points, dtype: int64)"
      ]
     },
     "execution_count": 40,
     "metadata": {},
     "output_type": "execute_result"
    }
   ],
   "source": [
    "feature = df[[\"gf\", \"ga\"]]\n",
    "target = df[\"points\"]\n",
    "feature, target"
   ]
  },
  {
   "cell_type": "code",
   "execution_count": 41,
   "id": "1c631d7a-71f3-4a35-b028-8b7704d75850",
   "metadata": {},
   "outputs": [],
   "source": [
    "from sklearn.linear_model import LinearRegression\n",
    "model = LinearRegression().fit(feature, target)"
   ]
  },
  {
   "cell_type": "code",
   "execution_count": 44,
   "id": "3c0ef21a-e5b2-4762-ba32-b2bf6e91445d",
   "metadata": {},
   "outputs": [
    {
     "data": {
      "text/plain": [
       "array([79.])"
      ]
     },
     "execution_count": 44,
     "metadata": {},
     "output_type": "execute_result"
    }
   ],
   "source": [
    "# 데이터 예측 : 득점 80, 실점 36 \n",
    "np.round(model.predict([[80, 36]]))\n",
    "# 결과 : Tottenham Hotspur은 득점을 80점으로 더 하더라도 승점이 79점이기 때문에 Manchester United(승점 : 81)는 못이길 것이다"
   ]
  },
  {
   "cell_type": "code",
   "execution_count": 46,
   "id": "3715e501-0674-4c1b-931a-4751240d1800",
   "metadata": {},
   "outputs": [],
   "source": [
    "# warning 메시지 안뜨게\n",
    "import warnings\n",
    "warnings.filterwarnings(\"ignore\")"
   ]
  },
  {
   "cell_type": "code",
   "execution_count": null,
   "id": "1a1e2ef4-7184-44a1-ada1-4b0939798e24",
   "metadata": {},
   "outputs": [],
   "source": [
    "# data > train(8h) > model(ram) > computer off (모델 날라감)\n",
    "# model > ssd(hdd)에 저장해서 사용"
   ]
  },
  {
   "cell_type": "code",
   "execution_count": 48,
   "id": "959043e5-bdee-447d-ad3f-80fa58cd9af5",
   "metadata": {},
   "outputs": [],
   "source": [
    "import pickle"
   ]
  },
  {
   "cell_type": "code",
   "execution_count": 50,
   "id": "6337c93e-d1d4-4f92-8231-ef09967944af",
   "metadata": {},
   "outputs": [],
   "source": [
    "# ram > ssd\n",
    "with open(\"model.pkl\", \"wb\") as file:\n",
    "    pickle.dump(model, file)"
   ]
  },
  {
   "cell_type": "code",
   "execution_count": 51,
   "id": "156107b5-c8b9-47d1-bae9-88ef6da1b007",
   "metadata": {},
   "outputs": [
    {
     "name": "stdout",
     "output_type": "stream",
     "text": [
      " C 드라이브의 볼륨에는 이름이 없습니다.\n",
      " 볼륨 일련 번호: 7C6C-FC35\n",
      "\n",
      " C:\\Users\\User\\Webcrawing\\20220805 디렉터리\n",
      "\n",
      "2022-08-05  오후 12:15    <DIR>          .\n",
      "2022-08-05  오후 12:15    <DIR>          ..\n",
      "2022-08-05  오전 11:00    <DIR>          .ipynb_checkpoints\n",
      "2022-08-05  오전 10:31             5,165 00_kakao_address.ipynb\n",
      "2022-08-05  오전 11:02           123,970 01_crawling_images.ipynb\n",
      "2022-08-05  오후 12:15            16,423 02_selenium.ipynb\n",
      "2022-07-18  오후 09:56        11,775,488 chromedriver.exe\n",
      "2022-08-05  오전 10:21    <DIR>          data\n",
      "2022-08-05  오전 09:58            31,275 gmarket.csv\n",
      "2022-08-05  오후 12:15               480 model.pkl\n",
      "2022-08-05  오후 12:03               477 premierleague.csv\n",
      "               7개 파일          11,953,278 바이트\n",
      "               4개 디렉터리  134,221,737,984 바이트 남음\n"
     ]
    }
   ],
   "source": [
    "%ls"
   ]
  },
  {
   "cell_type": "code",
   "execution_count": 52,
   "id": "a04b270c-3620-47d0-b3a3-cd1584918f02",
   "metadata": {},
   "outputs": [],
   "source": [
    "# ssd > ram\n",
    "with open(\"model.pkl\", \"rb\") as file:\n",
    "    load_model = pickle.load(file)"
   ]
  },
  {
   "cell_type": "code",
   "execution_count": 53,
   "id": "a1caf484-6865-45cc-9592-58a106a5e4d6",
   "metadata": {},
   "outputs": [
    {
     "data": {
      "text/plain": [
       "array([79.])"
      ]
     },
     "execution_count": 53,
     "metadata": {},
     "output_type": "execute_result"
    }
   ],
   "source": [
    "np.round(load_model.predict([[80, 36]]))"
   ]
  },
  {
   "cell_type": "markdown",
   "id": "d0e25c99-9c2b-4019-9b9d-618a9eb7fcec",
   "metadata": {},
   "source": [
    "#### 텍스트 데이터 수집\n",
    "- 테드 사이트 : https://ted.com/talks"
   ]
  },
  {
   "cell_type": "code",
   "execution_count": null,
   "id": "aca69484-5a0f-4bd0-b40a-4d953680966e",
   "metadata": {},
   "outputs": [],
   "source": [
    "# 1. 브라우저 열기"
   ]
  },
  {
   "cell_type": "code",
   "execution_count": 56,
   "id": "f7612f82-fd02-417f-8257-fcef3f019c7c",
   "metadata": {},
   "outputs": [],
   "source": [
    "driver = webdriver.Chrome()"
   ]
  },
  {
   "cell_type": "code",
   "execution_count": 57,
   "id": "9b7be5f2-5529-42a9-a396-bd0190a4e3ba",
   "metadata": {},
   "outputs": [],
   "source": [
    "# 2. 페이지 이동"
   ]
  },
  {
   "cell_type": "code",
   "execution_count": 58,
   "id": "c677342e-95b1-4602-926d-5d5dcbfb1c61",
   "metadata": {},
   "outputs": [],
   "source": [
    "driver.get(\"https://ted.com/talks\")"
   ]
  },
  {
   "cell_type": "code",
   "execution_count": null,
   "id": "e44b44e6-3b67-4cfd-97ff-dac01afd7d8a",
   "metadata": {},
   "outputs": [],
   "source": [
    "# 3. 제목 데이터 텍스트 수집"
   ]
  },
  {
   "cell_type": "code",
   "execution_count": 67,
   "id": "b92af21f-dfdd-4605-8114-0150502f08f1",
   "metadata": {},
   "outputs": [
    {
     "data": {
      "text/plain": [
       "'Join TED Recommends to get the best ideas, selected just for you'"
      ]
     },
     "execution_count": 67,
     "metadata": {},
     "output_type": "execute_result"
    }
   ],
   "source": [
    "sub_title = driver.find_element(By.CSS_SELECTOR, \"#banner-secondary\").text\n",
    "sub_title"
   ]
  },
  {
   "cell_type": "code",
   "execution_count": 68,
   "id": "5d10a88f-eb52-4da8-9692-5c75af78d4f3",
   "metadata": {},
   "outputs": [],
   "source": [
    "# 4. select box에서 한국어 메뉴 클릭"
   ]
  },
  {
   "cell_type": "code",
   "execution_count": 80,
   "id": "e808a8fa-4fd1-4b9e-b1c1-34b6cc159fa3",
   "metadata": {
    "tags": []
   },
   "outputs": [],
   "source": [
    "driver.find_element(By.CSS_SELECTOR, '#languages [lang=\"ko\"]').click()\n",
    "# languages > [lang=\"ko\"]"
   ]
  },
  {
   "cell_type": "code",
   "execution_count": 81,
   "id": "c66d9384-c68e-4648-b51b-f6ec2f81d9c6",
   "metadata": {},
   "outputs": [],
   "source": [
    "# 5. 전체 데이터의 제목과 링크 데이터 수집"
   ]
  },
  {
   "cell_type": "code",
   "execution_count": 82,
   "id": "f0d30dea-b139-4d55-89ec-d41de0e5ec74",
   "metadata": {},
   "outputs": [
    {
     "data": {
      "text/plain": [
       "36"
      ]
     },
     "execution_count": 82,
     "metadata": {},
     "output_type": "execute_result"
    }
   ],
   "source": [
    "elements = driver.find_elements(By.CSS_SELECTOR, \"#browse-results > .row > div\")\n",
    "len(elements)"
   ]
  },
  {
   "cell_type": "code",
   "execution_count": 83,
   "id": "b582d3aa-c94e-4231-8e81-572c84a3ae92",
   "metadata": {},
   "outputs": [
    {
     "data": {
      "text/plain": [
       "('스페인어의 역사 - 일란 스타반스(Ilan Stavans)',\n",
       " 'https://www.ted.com/talks/ilan_stavans_a_brief_history_of_spanish?language=ko')"
      ]
     },
     "execution_count": 83,
     "metadata": {},
     "output_type": "execute_result"
    }
   ],
   "source": [
    "element = elements[0]\n",
    "title = element.find_element(By.CSS_SELECTOR, \"h4 > .ga-link\").text\n",
    "link = element.find_element(By.CSS_SELECTOR, \"h4 > .ga-link\").get_attribute(\"href\")\n",
    "title, link"
   ]
  },
  {
   "cell_type": "code",
   "execution_count": null,
   "id": "b686bd54-fed7-46fe-ae58-41d6153f1d27",
   "metadata": {},
   "outputs": [],
   "source": [
    "# 6. 데이터 프레임으로 만들기"
   ]
  },
  {
   "cell_type": "code",
   "execution_count": 86,
   "id": "16ccc151-b3b1-4f0f-9442-130ea1b128d2",
   "metadata": {},
   "outputs": [
    {
     "data": {
      "text/html": [
       "<div>\n",
       "<style scoped>\n",
       "    .dataframe tbody tr th:only-of-type {\n",
       "        vertical-align: middle;\n",
       "    }\n",
       "\n",
       "    .dataframe tbody tr th {\n",
       "        vertical-align: top;\n",
       "    }\n",
       "\n",
       "    .dataframe thead th {\n",
       "        text-align: right;\n",
       "    }\n",
       "</style>\n",
       "<table border=\"1\" class=\"dataframe\">\n",
       "  <thead>\n",
       "    <tr style=\"text-align: right;\">\n",
       "      <th></th>\n",
       "      <th>title</th>\n",
       "      <th>link</th>\n",
       "    </tr>\n",
       "  </thead>\n",
       "  <tbody>\n",
       "    <tr>\n",
       "      <th>34</th>\n",
       "      <td>두려움을 극복하기 위한 올림픽 챔피언의 사고방식</td>\n",
       "      <td>https://www.ted.com/talks/allyson_felix_an_oly...</td>\n",
       "    </tr>\n",
       "    <tr>\n",
       "      <th>35</th>\n",
       "      <td>바퀴벌레를 없애는 것은 왜 이렇게 어려울까요? - 아메야 곤달레카르</td>\n",
       "      <td>https://www.ted.com/talks/ameya_gondhalekar_wh...</td>\n",
       "    </tr>\n",
       "  </tbody>\n",
       "</table>\n",
       "</div>"
      ],
      "text/plain": [
       "                                    title  \\\n",
       "34             두려움을 극복하기 위한 올림픽 챔피언의 사고방식   \n",
       "35  바퀴벌레를 없애는 것은 왜 이렇게 어려울까요? - 아메야 곤달레카르   \n",
       "\n",
       "                                                 link  \n",
       "34  https://www.ted.com/talks/allyson_felix_an_oly...  \n",
       "35  https://www.ted.com/talks/ameya_gondhalekar_wh...  "
      ]
     },
     "execution_count": 86,
     "metadata": {},
     "output_type": "execute_result"
    }
   ],
   "source": [
    "data = []\n",
    "for element in elements:\n",
    "    data.append({\n",
    "        \"title\" : element.find_element(By.CSS_SELECTOR, \"h4 > .ga-link\").text,\n",
    "        \"link\" : element.find_element(By.CSS_SELECTOR, \"h4 > .ga-link\").get_attribute(\"href\"),\n",
    "    })\n",
    "df = pd.DataFrame(data)\n",
    "df.tail(2)"
   ]
  },
  {
   "cell_type": "code",
   "execution_count": 87,
   "id": "d7f60321-c774-4131-8006-67bb4c4a4235",
   "metadata": {},
   "outputs": [],
   "source": [
    "driver.quit()"
   ]
  },
  {
   "cell_type": "markdown",
   "id": "51211a8d-ea1a-40f7-972b-3c8de3400717",
   "metadata": {},
   "source": [
    "#### Headless\n",
    "- 브라우저를 화면에 띄우지 않고 메모리 상에서만 브라우저를 실행하여 크롤링하는 방법\n",
    "- window가 지원되지 않는 환경에서 selenium 사용 가능\n",
    "- 크롬 버전 : 60 이상부터 사용 가능"
   ]
  },
  {
   "cell_type": "code",
   "execution_count": 91,
   "id": "db8cb0c1-201a-450c-85b0-8d84fd5e2c4d",
   "metadata": {},
   "outputs": [
    {
     "data": {
      "text/plain": [
       "'103.0.5060.134'"
      ]
     },
     "execution_count": 91,
     "metadata": {},
     "output_type": "execute_result"
    }
   ],
   "source": [
    "# 크롬 버전 확인\n",
    "driver = webdriver.Chrome()\n",
    "version = driver.capabilities[\"browserVersion\"]\n",
    "driver.quit()\n",
    "version"
   ]
  },
  {
   "cell_type": "code",
   "execution_count": 94,
   "id": "e10339f7-912c-4715-b9e2-6bc47c3d8fd8",
   "metadata": {},
   "outputs": [
    {
     "data": {
      "text/plain": [
       "'Join TED Recommends to get the best ideas, selected just for you'"
      ]
     },
     "execution_count": 94,
     "metadata": {},
     "output_type": "execute_result"
    }
   ],
   "source": [
    "options = webdriver.ChromeOptions()\n",
    "options.add_argument(\"headless\")\n",
    "\n",
    "driver = webdriver.Chrome(options=options)\n",
    "\n",
    "driver.get(\"https://ted.com/talks\")\n",
    "sub_title = driver.find_element(By.CSS_SELECTOR, \"#banner-secondary\").text\n",
    "driver.quit()\n",
    "\n",
    "sub_title"
   ]
  },
  {
   "cell_type": "code",
   "execution_count": null,
   "id": "5ec593ea-ee52-43cf-8cc4-29e23664b854",
   "metadata": {},
   "outputs": [],
   "source": []
  },
  {
   "cell_type": "code",
   "execution_count": null,
   "id": "95c62d0b-1ceb-47ab-b5d1-a02431c55036",
   "metadata": {},
   "outputs": [],
   "source": []
  },
  {
   "cell_type": "code",
   "execution_count": null,
   "id": "5d6c9314-2879-4476-816b-0589c722b645",
   "metadata": {},
   "outputs": [],
   "source": []
  },
  {
   "cell_type": "code",
   "execution_count": null,
   "id": "8c7fb610-2e89-4577-9ebb-4df0b37206f6",
   "metadata": {},
   "outputs": [],
   "source": []
  },
  {
   "cell_type": "code",
   "execution_count": null,
   "id": "4ebf07ca-cc68-4625-a61e-cab979d51c97",
   "metadata": {},
   "outputs": [],
   "source": []
  },
  {
   "cell_type": "code",
   "execution_count": null,
   "id": "41ed0f0e-7bbd-43e4-b897-67624f894984",
   "metadata": {},
   "outputs": [],
   "source": []
  },
  {
   "cell_type": "code",
   "execution_count": null,
   "id": "98be6d90-e785-4041-b227-d93e8485926a",
   "metadata": {},
   "outputs": [],
   "source": []
  },
  {
   "cell_type": "code",
   "execution_count": null,
   "id": "a659caf4-3649-4b98-881f-9a943f467c82",
   "metadata": {},
   "outputs": [],
   "source": []
  },
  {
   "cell_type": "code",
   "execution_count": null,
   "id": "0a7ec20f-efd3-44a1-811b-b396bf34a404",
   "metadata": {},
   "outputs": [],
   "source": []
  },
  {
   "cell_type": "code",
   "execution_count": null,
   "id": "3a020346-0241-4982-9274-3a0fce6cbe38",
   "metadata": {},
   "outputs": [],
   "source": []
  }
 ],
 "metadata": {
  "kernelspec": {
   "display_name": "Python 3",
   "language": "python",
   "name": "python3"
  },
  "language_info": {
   "codemirror_mode": {
    "name": "ipython",
    "version": 3
   },
   "file_extension": ".py",
   "mimetype": "text/x-python",
   "name": "python",
   "nbconvert_exporter": "python",
   "pygments_lexer": "ipython3",
   "version": "3.8.8"
  }
 },
 "nbformat": 4,
 "nbformat_minor": 5
}
