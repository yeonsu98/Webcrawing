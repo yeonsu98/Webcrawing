{
 "cells": [
  {
   "cell_type": "code",
   "execution_count": 1,
   "id": "410a232a-3652-4545-953a-1f2fc422998f",
   "metadata": {},
   "outputs": [],
   "source": [
    "import requests, json\n",
    "import pandas as pd"
   ]
  },
  {
   "cell_type": "code",
   "execution_count": 2,
   "id": "519aad9b-280d-49ff-bb9a-ab2d3084950d",
   "metadata": {},
   "outputs": [],
   "source": [
    "# 과제 : 카카오 API 사용해 주소 > 위도, 경도, 우편번호 또는 반대 API 사용\n",
    "# - REST API 키 사용\n",
    "# - https://developers.kakao.com/docs/latest/ko/local/dev-guide"
   ]
  },
  {
   "cell_type": "code",
   "execution_count": 3,
   "id": "e634631a-c3e9-41b9-b5ef-d9038b3cf2c2",
   "metadata": {},
   "outputs": [],
   "source": [
    "REST_API = \"1293cad00a3e1aa2ba7d2acd91092f35\""
   ]
  },
  {
   "cell_type": "code",
   "execution_count": null,
   "id": "4280becd-ba87-413b-8cfb-90fffbf181c6",
   "metadata": {
    "tags": []
   },
   "outputs": [],
   "source": [
    "# 1. 주소 > 위도, 경도, 우편번호"
   ]
  },
  {
   "cell_type": "code",
   "execution_count": 5,
   "id": "ec91942a-c955-4660-93a8-5c1c6ad70e45",
   "metadata": {},
   "outputs": [],
   "source": [
    "url = \"https://dapi.kakao.com/v2/local/search/address.json\"\n",
    "addr = \"고덕로 360\"\n",
    "params = {\n",
    "    \"query\" : addr,\n",
    "}\n",
    "headers = {\n",
    "    \"Authorization\": f\"KakaoAK {REST_API}\",\n",
    "}"
   ]
  },
  {
   "cell_type": "code",
   "execution_count": 6,
   "id": "175a409e-ba57-4510-b938-3fa97149f15c",
   "metadata": {},
   "outputs": [
    {
     "data": {
      "text/plain": [
       "<Response [200]>"
      ]
     },
     "execution_count": 6,
     "metadata": {},
     "output_type": "execute_result"
    }
   ],
   "source": [
    "response = requests.get(url, params=params, headers=headers)\n",
    "response"
   ]
  },
  {
   "cell_type": "code",
   "execution_count": 8,
   "id": "807cc357-1d52-45bb-8941-9fdd7e018b8f",
   "metadata": {
    "tags": []
   },
   "outputs": [],
   "source": [
    "data = response.json()"
   ]
  },
  {
   "cell_type": "code",
   "execution_count": 9,
   "id": "b3ff3ed5-a9d4-4d1c-a4d0-32cfff1bdaed",
   "metadata": {},
   "outputs": [],
   "source": [
    "data = response.json()[\"documents\"][0]['road_address']"
   ]
  },
  {
   "cell_type": "code",
   "execution_count": 10,
   "id": "29643071-a9a7-4153-b3f2-8969f5347deb",
   "metadata": {},
   "outputs": [
    {
     "data": {
      "text/plain": [
       "('127.169527259453', '37.5566829127291', '05274')"
      ]
     },
     "execution_count": 10,
     "metadata": {},
     "output_type": "execute_result"
    }
   ],
   "source": [
    "lat, lng, zone_no = data['x'], data['y'], data['zone_no']\n",
    "lat, lng, zone_no"
   ]
  },
  {
   "cell_type": "code",
   "execution_count": 11,
   "id": "0079195b-7b7b-4aad-bf91-e949437346f8",
   "metadata": {},
   "outputs": [],
   "source": [
    "# 2. 위도, 경도 > 주소"
   ]
  },
  {
   "cell_type": "code",
   "execution_count": 12,
   "id": "30a3afd9-990f-47a6-b566-25022706ce3f",
   "metadata": {},
   "outputs": [],
   "source": [
    "url = f\"https://dapi.kakao.com/v2/local/geo/coord2address.json?x={lat}&y={lng}\"\n",
    "headers = {\n",
    "    \"Authorization\": f\"KakaoAK {REST_API}\",\n",
    "}"
   ]
  },
  {
   "cell_type": "code",
   "execution_count": 13,
   "id": "4bde05c1-bc6b-46c6-a8a5-fb80e1ef3359",
   "metadata": {},
   "outputs": [
    {
     "data": {
      "text/plain": [
       "<Response [200]>"
      ]
     },
     "execution_count": 13,
     "metadata": {},
     "output_type": "execute_result"
    }
   ],
   "source": [
    "response = requests.get(url, headers=headers)\n",
    "response"
   ]
  },
  {
   "cell_type": "code",
   "execution_count": 22,
   "id": "06e032b8-4f51-4d7f-b112-64ea20f3b6c5",
   "metadata": {},
   "outputs": [
    {
     "data": {
      "text/plain": [
       "'서울특별시 강동구 고덕로 360'"
      ]
     },
     "execution_count": 22,
     "metadata": {},
     "output_type": "execute_result"
    }
   ],
   "source": [
    "address = response.json()[\"documents\"][0][\"road_address\"][\"address_name\"]\n",
    "address"
   ]
  },
  {
   "cell_type": "code",
   "execution_count": null,
   "id": "dfb24564-04dc-40aa-b268-7fa68e5184a7",
   "metadata": {},
   "outputs": [],
   "source": []
  },
  {
   "cell_type": "code",
   "execution_count": null,
   "id": "2f8c1940-5d92-41be-a92e-9f26dad7b79c",
   "metadata": {},
   "outputs": [],
   "source": []
  },
  {
   "cell_type": "code",
   "execution_count": null,
   "id": "70f06ef4-b9d0-4ca5-94a1-6dbafee0b2d5",
   "metadata": {},
   "outputs": [],
   "source": []
  }
 ],
 "metadata": {
  "kernelspec": {
   "display_name": "Python 3",
   "language": "python",
   "name": "python3"
  },
  "language_info": {
   "codemirror_mode": {
    "name": "ipython",
    "version": 3
   },
   "file_extension": ".py",
   "mimetype": "text/x-python",
   "name": "python",
   "nbconvert_exporter": "python",
   "pygments_lexer": "ipython3",
   "version": "3.8.8"
  }
 },
 "nbformat": 4,
 "nbformat_minor": 5
}
