{
 "cells": [
  {
   "cell_type": "markdown",
   "id": "668932a3-8642-4728-8ac0-2afb1ddf3925",
   "metadata": {},
   "source": [
    "#### CSS Selector\n",
    "- css 스타일을 적용시킬 HTML 엘리먼트를 선택하는 방법"
   ]
  },
  {
   "cell_type": "code",
   "execution_count": 1,
   "id": "ce4ce3e5-bd01-4459-bb1f-f83284de601c",
   "metadata": {},
   "outputs": [],
   "source": [
    "# 1. 엘리먼트 태그 이름으로 선택\n",
    "# css selector : span : python 3 선택"
   ]
  },
  {
   "cell_type": "code",
   "execution_count": 5,
   "id": "114bf3cb-21fe-40f3-91eb-0e5632227c08",
   "metadata": {},
   "outputs": [
    {
     "data": {
      "text/html": [
       "<div class=\"kt\">\n",
       "    <div>python 1</div>\n",
       "    <p>python 2</p>\n",
       "    <span>python 3</span>\n",
       "</div\n"
      ],
      "text/plain": [
       "<IPython.core.display.HTML object>"
      ]
     },
     "metadata": {},
     "output_type": "display_data"
    }
   ],
   "source": [
    "%%html\n",
    "<div class=\"kt\">\n",
    "    <div>python 1</div>\n",
    "    <p>python 2</p>\n",
    "    <span>python 3</span>\n",
    "</div"
   ]
  },
  {
   "cell_type": "code",
   "execution_count": null,
   "id": "06b20f5c-9111-4e09-9baa-b36384607f4e",
   "metadata": {},
   "outputs": [],
   "source": [
    "# 2. Tag의 id 값으로 선택\n",
    "# css selector : #kt2 : python 2 선택"
   ]
  },
  {
   "cell_type": "code",
   "execution_count": 6,
   "id": "55a2740c-f887-4616-9a30-3268fdfea869",
   "metadata": {},
   "outputs": [
    {
     "data": {
      "text/html": [
       "<div class=\"kt\">\n",
       "    <p id=\"kt1\">python 1</p>\n",
       "    <p id=\"kt2\">python 2</p>\n",
       "    <p id=\"kt3\">python 3</p>\n",
       "</div>\n"
      ],
      "text/plain": [
       "<IPython.core.display.HTML object>"
      ]
     },
     "metadata": {},
     "output_type": "display_data"
    }
   ],
   "source": [
    "%%html\n",
    "<div class=\"kt\">\n",
    "    <p id=\"kt1\">python 1</p>\n",
    "    <p id=\"kt2\">python 2</p>\n",
    "    <p id=\"kt3\">python 3</p>\n",
    "</div>"
   ]
  },
  {
   "cell_type": "code",
   "execution_count": null,
   "id": "fbcf47fb-ed06-43fb-ba8e-9173706aa876",
   "metadata": {},
   "outputs": [],
   "source": [
    "# 3. tag의 class 값으로 선택\n",
    "# css selector : .kt2 : python 2 선택\n",
    "# css selector : .kt : python 1, python 2, python 3 선택"
   ]
  },
  {
   "cell_type": "code",
   "execution_count": 8,
   "id": "39b8bf91-3027-47ab-9a88-cce4f428d22e",
   "metadata": {},
   "outputs": [
    {
     "data": {
      "text/html": [
       "    <p class=\"kt kt1\">python 1</p>\n",
       "    <p class=\"kt kt2\">python 2</p>\n",
       "    <p class=\"kt kt3\">python 3</p>\n"
      ],
      "text/plain": [
       "<IPython.core.display.HTML object>"
      ]
     },
     "metadata": {},
     "output_type": "display_data"
    }
   ],
   "source": [
    "%%html\n",
    "    <p class=\"kt kt1\">python 1</p>\n",
    "    <p class=\"kt kt2\">python 2</p>\n",
    "    <p class=\"kt kt3\">python 3</p>"
   ]
  },
  {
   "cell_type": "code",
   "execution_count": null,
   "id": "4836f1c0-b75f-474d-8b39-e47259183e5b",
   "metadata": {},
   "outputs": [],
   "source": [
    "# 4. tag의 attr 값으로 선택\n",
    "# css selector : [value=\"no1\"] : python 1 선택"
   ]
  },
  {
   "cell_type": "code",
   "execution_count": 9,
   "id": "19162548-5cd1-4e19-981f-586a28150a85",
   "metadata": {},
   "outputs": [
    {
     "data": {
      "text/html": [
       "<p value=\"no1\">python 1</p>\n",
       "<p value=\"no2\">python 2</p>\n",
       "<p value=\"no3\">python 3</p>\n"
      ],
      "text/plain": [
       "<IPython.core.display.HTML object>"
      ]
     },
     "metadata": {},
     "output_type": "display_data"
    }
   ],
   "source": [
    "%%html\n",
    "<p value=\"no1\">python 1</p>\n",
    "<p value=\"no2\">python 2</p>\n",
    "<p value=\"no3\">python 3</p>"
   ]
  },
  {
   "cell_type": "code",
   "execution_count": null,
   "id": "603b5c20-c3c6-4d1e-b664-a43268e3ac68",
   "metadata": {},
   "outputs": [],
   "source": [
    "# tag 이름 : span\n",
    "# id : kt\n",
    "# class .kt\n",
    "# attr : [value=\"kt\"]"
   ]
  },
  {
   "cell_type": "code",
   "execution_count": null,
   "id": "0bd5888f-63cb-4495-aecb-94e90acf1a5f",
   "metadata": {},
   "outputs": [],
   "source": [
    "# 5. 여러 개의 엘리먼트 선택"
   ]
  },
  {
   "cell_type": "code",
   "execution_count": null,
   "id": "f1513ea0-d792-4e2e-8ed5-0ad285c034cf",
   "metadata": {},
   "outputs": [],
   "source": [
    "# not selector\n",
    "# class no element를 모두 선택하고, \n",
    "# no2 클래스를 갖는 엘리먼트만 제외\n",
    "# css selector : .no:not(.no2)"
   ]
  },
  {
   "cell_type": "code",
   "execution_count": 10,
   "id": "4c58e802-df1a-4450-9c8a-1aa81b529483",
   "metadata": {},
   "outputs": [
    {
     "data": {
      "text/html": [
       "<p class=\"no no1\">python 1</p>\n",
       "<p class=\"no no2\">python 2</p>\n",
       "<p class=\"no no3\">python 3</p>\n"
      ],
      "text/plain": [
       "<IPython.core.display.HTML object>"
      ]
     },
     "metadata": {},
     "output_type": "display_data"
    }
   ],
   "source": [
    "%%html\n",
    "<p class=\"no no1\">python 1</p>\n",
    "<p class=\"no no2\">python 2</p>\n",
    "<p class=\"no no3\">python 3</p>"
   ]
  },
  {
   "cell_type": "code",
   "execution_count": null,
   "id": "799140f2-7985-4877-907f-57bfe99c077a",
   "metadata": {},
   "outputs": [],
   "source": [
    "# n번째 엘리먼트 선택 : nth-child\n",
    "# css seletor : .py:nth-chlid(2)(1부터 시작) : python 2 선택\n",
    "# .py 엘리먼트 중에서 2번째 : X\n",
    "# 2번째 엘리먼트 중에서 .py 클래스를 갖는 : 0"
   ]
  },
  {
   "cell_type": "code",
   "execution_count": 15,
   "id": "0cfb3664-cc18-47d9-8f12-04cdcba3911e",
   "metadata": {},
   "outputs": [
    {
     "data": {
      "text/html": [
       "<div>\n",
       "    <p class=\"py\">python 1</p>\n",
       "    <span>python 0</span>\n",
       "    <p class=\"py\">python 2</p>\n",
       "    <p class=\"py\">python 3</p>\n",
       "</div>\n"
      ],
      "text/plain": [
       "<IPython.core.display.HTML object>"
      ]
     },
     "metadata": {},
     "output_type": "display_data"
    }
   ],
   "source": [
    "%%html\n",
    "<div>\n",
    "    <p class=\"py\">python 1</p>\n",
    "    <span>python 0</span>\n",
    "    <p class=\"py\">python 2</p>\n",
    "    <p class=\"py\">python 3</p>\n",
    "</div>"
   ]
  },
  {
   "cell_type": "code",
   "execution_count": null,
   "id": "7f9629a4-5f4f-4be3-9903-2e890cb21eb5",
   "metadata": {},
   "outputs": [],
   "source": [
    "# 6. 계층적으로 엘리먼트 선택\n",
    "# .wrap > p : inner 1\n",
    "# .wrap p : inner 1, inner 2 선택"
   ]
  },
  {
   "cell_type": "code",
   "execution_count": 18,
   "id": "7bc5e392-30fb-456c-9607-722fd5148cfe",
   "metadata": {},
   "outputs": [
    {
     "data": {
      "text/html": [
       "<div>\n",
       "    <p>inner 1</p>\n",
       "    <div>\n",
       "        <p>inner 2</p>\n",
       "    </div>\n",
       "</div>\n"
      ],
      "text/plain": [
       "<IPython.core.display.HTML object>"
      ]
     },
     "metadata": {},
     "output_type": "display_data"
    }
   ],
   "source": [
    "%%html\n",
    "<div>\n",
    "    <p>inner 1</p>\n",
    "    <div>\n",
    "        <p>inner 2</p>\n",
    "    </div>\n",
    "</div>"
   ]
  },
  {
   "cell_type": "code",
   "execution_count": null,
   "id": "9f5c3790-8909-4ed9-9be8-5fb9fb1ba2ed",
   "metadata": {},
   "outputs": [],
   "source": [
    "# 여러 개의 엘리먼트 선택\n",
    "# .py1, .py3 : python 1, python 3 선택"
   ]
  },
  {
   "cell_type": "code",
   "execution_count": 20,
   "id": "8a2ef9c9-97eb-4c59-9c6a-e6197646a371",
   "metadata": {},
   "outputs": [
    {
     "data": {
      "text/html": [
       "<p class=\"py1\">python 1</p>\n",
       "<p class=\"py2\">python 2</p>\n",
       "<p class=\"py3\">python 3</p>\n"
      ],
      "text/plain": [
       "<IPython.core.display.HTML object>"
      ]
     },
     "metadata": {},
     "output_type": "display_data"
    }
   ],
   "source": [
    "%%html\n",
    "<p class=\"py1\">python 1</p>\n",
    "<p class=\"py2\">python 2</p>\n",
    "<p class=\"py3\">python 3</p>"
   ]
  },
  {
   "cell_type": "code",
   "execution_count": null,
   "id": "f1d94b20-d446-4dca-a180-5b62712df3fb",
   "metadata": {},
   "outputs": [],
   "source": [
    "# 엘리먼트 하나 선택\n",
    "# tag 이름 : span\n",
    "# id : kt\n",
    "# class .kt\n",
    "# attr : [value=\"kt\"]\n",
    "\n",
    "# 여러개 선택\n",
    "#:not(.kt1)\n",
    "#:nth-child(n)\n",
    "#.wrap > p : 한단계 하위 엘리먼트\n",
    "#.wrap p : 모든 하위 엘리먼트\n",
    "#.kt1, .kt2 : 선택하는 모든 엘리먼트 선택"
   ]
  },
  {
   "cell_type": "code",
   "execution_count": null,
   "id": "d8907924-3d87-497c-83d9-39826b521f26",
   "metadata": {},
   "outputs": [],
   "source": []
  },
  {
   "cell_type": "code",
   "execution_count": null,
   "id": "77129417-e96a-4a4a-b8e2-a044e7fdaffd",
   "metadata": {},
   "outputs": [],
   "source": []
  },
  {
   "cell_type": "code",
   "execution_count": null,
   "id": "2aba7953-67f8-41dd-ac1d-e34c132c9e48",
   "metadata": {},
   "outputs": [],
   "source": []
  }
 ],
 "metadata": {
  "kernelspec": {
   "display_name": "Python 3",
   "language": "python",
   "name": "python3"
  },
  "language_info": {
   "codemirror_mode": {
    "name": "ipython",
    "version": 3
   },
   "file_extension": ".py",
   "mimetype": "text/x-python",
   "name": "python",
   "nbconvert_exporter": "python",
   "pygments_lexer": "ipython3",
   "version": "3.8.8"
  }
 },
 "nbformat": 4,
 "nbformat_minor": 5
}
