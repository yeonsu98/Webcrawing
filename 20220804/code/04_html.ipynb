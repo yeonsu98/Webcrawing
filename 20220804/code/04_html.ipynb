{
 "cells": [
  {
   "cell_type": "markdown",
   "id": "f7f0217c-a4e4-467d-a977-831816407741",
   "metadata": {},
   "source": [
    "#### html\n",
    "- 웹 문서를 작성하는 언어\n",
    "- 구성요소\n",
    "    - Document : 한페이지를 나타내는 코드\n",
    "    - Element : 하나의 레이아웃 > Element가 모여서 Document 만듦\n",
    "    - Tag : Element의 종류를 정의 : 시작태그 + 끝태그 = Element\n",
    "    - Attribute : 속성값\n",
    "        - id : element를 지정하는 페이지 내에서 유일한 값\n",
    "        - class : element를 지정하는 값으로 페이지 내에서 여러개 사용 가능\n",
    "        - attr : id, class를 제외한 나머지 속성값\n",
    "    - Text : 시작태그와 끝태그 사이의 문자열\n",
    "- element는 계층적 구조를 갖는다."
   ]
  },
  {
   "cell_type": "code",
   "execution_count": 4,
   "id": "30f104b9-363b-4a36-89d4-49124d6843ca",
   "metadata": {},
   "outputs": [
    {
     "data": {
      "text/html": [
       "<div class=\"wrapper\">\n",
       "    <button id=\"b1\" class=\"btn no1\" value=\"1\">HTML 1</button>\n",
       "    <button id=\"b2\" class=\"btn no2\" valke=\"2\">HTML 2</button>\n",
       "    <p>HTML 3</p>\n",
       "</div>\n"
      ],
      "text/plain": [
       "<IPython.core.display.HTML object>"
      ]
     },
     "metadata": {},
     "output_type": "display_data"
    }
   ],
   "source": [
    "%%html\n",
    "<div class=\"wrapper\">\n",
    "    <button id=\"b1\" class=\"btn no1\" value=\"1\">HTML 1</button>\n",
    "    <button id=\"b2\" class=\"btn no2\" valke=\"2\">HTML 2</button>\n",
    "    <p>HTML 3</p>\n",
    "</div>"
   ]
  },
  {
   "cell_type": "markdown",
   "id": "3c1d6d72-f3ed-4baf-af79-f2e3218654db",
   "metadata": {},
   "source": [
    "#### HTML 태그 종류"
   ]
  },
  {
   "cell_type": "code",
   "execution_count": null,
   "id": "3f01db96-5025-4a37-a449-fcee6fcd5955",
   "metadata": {},
   "outputs": [],
   "source": [
    "# p : 한줄의 문자열 출력"
   ]
  },
  {
   "cell_type": "code",
   "execution_count": 7,
   "id": "18d4e77d-ac7c-4a30-9dc5-b8317d045f9a",
   "metadata": {},
   "outputs": [
    {
     "data": {
      "text/html": [
       "<p>python 1</p>\n",
       "<p>python 2</p>\n"
      ],
      "text/plain": [
       "<IPython.core.display.HTML object>"
      ]
     },
     "metadata": {},
     "output_type": "display_data"
    }
   ],
   "source": [
    "%%html\n",
    "<p>python 1</p>\n",
    "<p>python 2</p>"
   ]
  },
  {
   "cell_type": "code",
   "execution_count": null,
   "id": "c88ca8cf-c8e2-467f-b0af-621827d2c041",
   "metadata": {},
   "outputs": [],
   "source": [
    "# span : 한블럭의 문자열 출력"
   ]
  },
  {
   "cell_type": "code",
   "execution_count": 8,
   "id": "512e24b8-3809-49b2-8a32-6ce6836611bb",
   "metadata": {},
   "outputs": [
    {
     "data": {
      "text/html": [
       "<span>python 1</span>\n",
       "<span>python 2</span>\n"
      ],
      "text/plain": [
       "<IPython.core.display.HTML object>"
      ]
     },
     "metadata": {},
     "output_type": "display_data"
    }
   ],
   "source": [
    "%%html\n",
    "<span>python 1</span>\n",
    "<span>python 2</span>"
   ]
  },
  {
   "cell_type": "code",
   "execution_count": null,
   "id": "873fd91a-b468-4863-bae4-4d43fcb3f386",
   "metadata": {},
   "outputs": [],
   "source": [
    "# ul, li : 리스트 문자열을 출력"
   ]
  },
  {
   "cell_type": "code",
   "execution_count": 9,
   "id": "c11fea75-8115-43f9-8743-a55a4dcee865",
   "metadata": {},
   "outputs": [
    {
     "data": {
      "text/html": [
       "<ul>\n",
       "    <li>python 1</li>\n",
       "    <li>python 1</li>\n",
       "</ul>\n",
       "<span>python 1</span>\n",
       "<span>python 2</span>\n"
      ],
      "text/plain": [
       "<IPython.core.display.HTML object>"
      ]
     },
     "metadata": {},
     "output_type": "display_data"
    }
   ],
   "source": [
    "%%html\n",
    "<ul>\n",
    "    <li>python 1</li>\n",
    "    <li>python 1</li>\n",
    "</ul>"
   ]
  },
  {
   "cell_type": "code",
   "execution_count": null,
   "id": "b53ba9c2-8474-43e8-ad1e-1e1c491e8d3b",
   "metadata": {},
   "outputs": [],
   "source": [
    "# a : 링크를 나타내는 태그"
   ]
  },
  {
   "cell_type": "code",
   "execution_count": 13,
   "id": "ad79dafd-a75e-461b-9903-6e91065a5ef8",
   "metadata": {},
   "outputs": [
    {
     "data": {
      "text/html": [
       "<a href=\"https://kt.com\" target=\"_blink\">Click</a>\n"
      ],
      "text/plain": [
       "<IPython.core.display.HTML object>"
      ]
     },
     "metadata": {},
     "output_type": "display_data"
    }
   ],
   "source": [
    "%%html\n",
    "<a href=\"https://kt.com\" target=\"_blink\">Click</a>"
   ]
  },
  {
   "cell_type": "code",
   "execution_count": null,
   "id": "85b7e336-2eac-4d06-a470-458df50de9b5",
   "metadata": {},
   "outputs": [],
   "source": [
    "# img : 이미지를 출력하는 태그"
   ]
  },
  {
   "cell_type": "code",
   "execution_count": 14,
   "id": "dbb3914e-8cd8-40a6-a83a-c852d3a0233d",
   "metadata": {},
   "outputs": [
    {
     "data": {
      "text/html": [
       "<img src=\"https://cfm.kt.com/images/v2/layout/gnb-ktlogo.png\">\n"
      ],
      "text/plain": [
       "<IPython.core.display.HTML object>"
      ]
     },
     "metadata": {},
     "output_type": "display_data"
    }
   ],
   "source": [
    "%%html\n",
    "<img src=\"https://cfm.kt.com/images/v2/layout/gnb-ktlogo.png\">"
   ]
  },
  {
   "cell_type": "code",
   "execution_count": null,
   "id": "928ff261-9c15-4a35-9d66-7b0ee1cb5ef9",
   "metadata": {},
   "outputs": [],
   "source": [
    "# iframe : 외부 URL 링크에 해당하는 웹페이지를 출력"
   ]
  },
  {
   "cell_type": "code",
   "execution_count": 16,
   "id": "f6193731-4ce9-47c1-8bf9-8f5999db85b8",
   "metadata": {
    "collapsed": true,
    "jupyter": {
     "outputs_hidden": true
    },
    "tags": []
   },
   "outputs": [
    {
     "data": {
      "text/html": [
       "<iframe src=\"https://kt.com\" width=\"100%\" height=\"400px;\">\n"
      ],
      "text/plain": [
       "<IPython.core.display.HTML object>"
      ]
     },
     "metadata": {},
     "output_type": "display_data"
    }
   ],
   "source": [
    "%%html\n",
    "<iframe src=\"https://kt.com\" width=\"100%\" height=\"400px;\">"
   ]
  },
  {
   "cell_type": "code",
   "execution_count": null,
   "id": "b5187873-c0e0-4905-bb9b-08a41f6543bf",
   "metadata": {},
   "outputs": [],
   "source": [
    "# div : 레이아웃의 영역을 나타내는 태그"
   ]
  },
  {
   "cell_type": "code",
   "execution_count": 17,
   "id": "b7787897-07bf-4420-b00a-722aa5df6ea3",
   "metadata": {},
   "outputs": [
    {
     "data": {
      "text/html": [
       "<div>\n",
       "    <p>python 1</p>\n",
       "    <p>python 2</p>\n",
       "</div>\n",
       "<div>\n",
       "    <p>python 3</p>\n",
       "    <p>python 4</p>\n",
       "</div>\n"
      ],
      "text/plain": [
       "<IPython.core.display.HTML object>"
      ]
     },
     "metadata": {},
     "output_type": "display_data"
    }
   ],
   "source": [
    "%%html\n",
    "<div>\n",
    "    <p>python 1</p>\n",
    "    <p>python 2</p>\n",
    "</div>\n",
    "<div>\n",
    "    <p>python 3</p>\n",
    "    <p>python 4</p>\n",
    "</div>"
   ]
  },
  {
   "cell_type": "code",
   "execution_count": null,
   "id": "2c603d1e-8a9a-4f6a-8f3c-469712765e8c",
   "metadata": {},
   "outputs": [],
   "source": [
    "# table : 행열 데이터를 출력"
   ]
  },
  {
   "cell_type": "code",
   "execution_count": 19,
   "id": "593d5cff-72bd-49d3-9490-e09bfce7b3fb",
   "metadata": {},
   "outputs": [
    {
     "data": {
      "text/html": [
       "<table>\n",
       "    <caption>제목</caption>\n",
       "    <thead>\n",
       "        <tr>\n",
       "            <th>column 1</th>\n",
       "            <th>column 2</th>\n",
       "        </tr>\n",
       "    </thead>\n",
       "    <tbody>\n",
       "        <tr>\n",
       "            <td>data 1</th>\n",
       "            <td>data 2</th>\n",
       "        </tr>\n",
       "        <tr>\n",
       "            <td>data 1</th>\n",
       "            <td>data 2</th>\n",
       "        </tr>\n",
       "    </tbody>\n",
       "</table>\n"
      ],
      "text/plain": [
       "<IPython.core.display.HTML object>"
      ]
     },
     "metadata": {},
     "output_type": "display_data"
    }
   ],
   "source": [
    "%%html\n",
    "<table>\n",
    "    <caption>제목</caption>\n",
    "    <thead>\n",
    "        <tr>\n",
    "            <th>column 1</th>\n",
    "            <th>column 2</th>\n",
    "        </tr>\n",
    "    </thead>\n",
    "    <tbody>\n",
    "        <tr>\n",
    "            <td>data 1</th>\n",
    "            <td>data 2</th>\n",
    "        </tr>\n",
    "        <tr>\n",
    "            <td>data 1</th>\n",
    "            <td>data 2</th>\n",
    "        </tr>\n",
    "    </tbody>\n",
    "</table>"
   ]
  },
  {
   "cell_type": "code",
   "execution_count": null,
   "id": "64ae6d7c-d8c0-437a-a8ff-fd282334b59c",
   "metadata": {},
   "outputs": [],
   "source": [
    "# 부동소수점 에러"
   ]
  },
  {
   "cell_type": "code",
   "execution_count": 20,
   "id": "90133d3a-3ae6-4b47-acab-8cc2612d845f",
   "metadata": {},
   "outputs": [
    {
     "data": {
      "text/plain": [
       "(0.1, 0.2)"
      ]
     },
     "execution_count": 20,
     "metadata": {},
     "output_type": "execute_result"
    }
   ],
   "source": [
    "data1, data2 = 0.1, 0.2\n",
    "data1, data2"
   ]
  },
  {
   "cell_type": "code",
   "execution_count": 21,
   "id": "77a9f76e-ac18-4b39-bda8-e42877d34a78",
   "metadata": {},
   "outputs": [
    {
     "data": {
      "text/plain": [
       "False"
      ]
     },
     "execution_count": 21,
     "metadata": {},
     "output_type": "execute_result"
    }
   ],
   "source": [
    "(data1 + data2) == 0.3"
   ]
  },
  {
   "cell_type": "code",
   "execution_count": 22,
   "id": "4e93ca96-510c-4cc1-8a84-f17710477c99",
   "metadata": {},
   "outputs": [
    {
     "data": {
      "text/plain": [
       "0.30000000000000004"
      ]
     },
     "execution_count": 22,
     "metadata": {},
     "output_type": "execute_result"
    }
   ],
   "source": [
    "data1 + data2"
   ]
  },
  {
   "cell_type": "code",
   "execution_count": 23,
   "id": "d44924c6-868f-4b4c-960e-33e7b0ccfcf1",
   "metadata": {},
   "outputs": [
    {
     "data": {
      "text/plain": [
       "(0.3, True)"
      ]
     },
     "execution_count": 23,
     "metadata": {},
     "output_type": "execute_result"
    }
   ],
   "source": [
    "# 1. 해결방법 1: 반올림 사용 > round => 대부분 많이 사용함(연산속도가 더 빠름)\n",
    "# 단점 : 소수점 자릿수를 설정해주어야 함\n",
    "round(data1 + data2, 1), round(data1 + data2, 1) == 0.3"
   ]
  },
  {
   "cell_type": "code",
   "execution_count": 25,
   "id": "b9c43b5b-c013-4ccd-a324-e055d0ee9daa",
   "metadata": {},
   "outputs": [
    {
     "data": {
      "text/plain": [
       "(0.3, True)"
      ]
     },
     "execution_count": 25,
     "metadata": {},
     "output_type": "execute_result"
    }
   ],
   "source": [
    "# 2. 해결방법 2: 고정소수점 방식으로 연산\n",
    "from decimal import Decimal\n",
    "float(Decimal(str(data1)) + Decimal(str(data2))), float(Decimal(str(data1)) + Decimal(str(data2))) == 0.3"
   ]
  },
  {
   "cell_type": "code",
   "execution_count": null,
   "id": "5c8e5aee-105b-43d9-959f-f1c1e6942aaf",
   "metadata": {},
   "outputs": [],
   "source": []
  }
 ],
 "metadata": {
  "kernelspec": {
   "display_name": "Python 3",
   "language": "python",
   "name": "python3"
  },
  "language_info": {
   "codemirror_mode": {
    "name": "ipython",
    "version": 3
   },
   "file_extension": ".py",
   "mimetype": "text/x-python",
   "name": "python",
   "nbconvert_exporter": "python",
   "pygments_lexer": "ipython3",
   "version": "3.8.8"
  }
 },
 "nbformat": 4,
 "nbformat_minor": 5
}
