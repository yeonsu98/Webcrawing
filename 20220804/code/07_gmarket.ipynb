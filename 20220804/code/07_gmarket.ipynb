{
 "cells": [
  {
   "cell_type": "markdown",
   "id": "bcf4e738-75e4-413f-8d09-f3d1d5641c05",
   "metadata": {},
   "source": [
    "#### gmarket\n",
    "- 베스트 상품 200개 수집"
   ]
  },
  {
   "cell_type": "code",
   "execution_count": 2,
   "id": "3c37c6d7-87be-4211-8203-32c45d11fe89",
   "metadata": {},
   "outputs": [],
   "source": [
    "import pandas as pd\n",
    "import requests\n",
    "from bs4 import BeautifulSoup"
   ]
  },
  {
   "cell_type": "code",
   "execution_count": 3,
   "id": "3c160f90-a63d-42b8-a028-6e088d351793",
   "metadata": {},
   "outputs": [],
   "source": [
    "# 1. URL"
   ]
  },
  {
   "cell_type": "code",
   "execution_count": 4,
   "id": "90927845-b6e5-43a5-a867-7f8774082f61",
   "metadata": {},
   "outputs": [],
   "source": [
    "url = \"http://corners.gmarket.co.kr/Bestsellers\""
   ]
  },
  {
   "cell_type": "code",
   "execution_count": 5,
   "id": "e5b55a45-6db6-4d12-9471-bb8d9f56d086",
   "metadata": {},
   "outputs": [],
   "source": [
    "# 2. request > response : HTML"
   ]
  },
  {
   "cell_type": "code",
   "execution_count": 6,
   "id": "b41706ae-ee86-436c-9d7c-5dd091e6a562",
   "metadata": {},
   "outputs": [
    {
     "data": {
      "text/plain": [
       "'<!DOCTYPE HTML PUBLIC \"-//W3C//DTD HTML 4.01 Transitional//EN\" \"http://www.w3.org/TR/html4/loose.dtd\">\\r\\n<html lang=\"ko\">\\r\\n<head>\\r\\n\\t<title>G마켓 - G마켓 베스트</title>\\r\\n\\t<meta http-equiv=\"X-UA-Compatible\" content=\"IE=edge\" />\\r\\n\\t<meta http-equiv=\"content-type\" content=\"text/html; charset=utf-8\" />\\r\\n\\t<meta http-equiv=\"content-style-type\" content=\"text/css\" />\\r\\n\\t<meta http-equiv=\"content-script-type\" content=\"text/javascript\" />\\r\\n\\t<meta http-equiv=\"imagetoolbar\" content=\"no\" />\\r\\n\\t<meta id=\"viewport\" name=\"'"
      ]
     },
     "execution_count": 6,
     "metadata": {},
     "output_type": "execute_result"
    }
   ],
   "source": [
    "response = requests.get(url)\n",
    "response.text[:500]"
   ]
  },
  {
   "cell_type": "code",
   "execution_count": 7,
   "id": "a72909a2-9615-4c8c-a0f1-9ed030b10d1e",
   "metadata": {},
   "outputs": [],
   "source": [
    "# 3. HTML(str) > BeautifulSoup Object"
   ]
  },
  {
   "cell_type": "code",
   "execution_count": 8,
   "id": "ad8272b2-0893-4cfc-a66e-14ae89d37f9c",
   "metadata": {},
   "outputs": [
    {
     "data": {
      "text/plain": [
       "bs4.BeautifulSoup"
      ]
     },
     "execution_count": 8,
     "metadata": {},
     "output_type": "execute_result"
    }
   ],
   "source": [
    "dom = BeautifulSoup(response.text, \"html.parser\")\n",
    "type(dom)"
   ]
  },
  {
   "cell_type": "code",
   "execution_count": 9,
   "id": "2ae11ef3-580f-4d44-8fa2-1f700d6bd5bc",
   "metadata": {},
   "outputs": [],
   "source": [
    "# 4. BeautifulSoup Object > CSS-Selector > DataFrame"
   ]
  },
  {
   "cell_type": "code",
   "execution_count": 10,
   "id": "fd07c197-84ad-42ee-b14d-0ae9565f73de",
   "metadata": {},
   "outputs": [],
   "source": [
    "# 200개의 상품 엘리먼트 선택(copy selector)"
   ]
  },
  {
   "cell_type": "code",
   "execution_count": 11,
   "id": "57861063-00a0-426d-b7e8-595705dd2a0b",
   "metadata": {},
   "outputs": [
    {
     "data": {
      "text/plain": [
       "200"
      ]
     },
     "execution_count": 11,
     "metadata": {},
     "output_type": "execute_result"
    }
   ],
   "source": [
    "elements = dom.select(\"#gBestWrap > div > div:nth-child(5) > div > ul > li\")\n",
    "len(elements)"
   ]
  },
  {
   "cell_type": "code",
   "execution_count": 12,
   "id": "4c67947e-12a8-4562-813b-bbfaaced8a66",
   "metadata": {},
   "outputs": [
    {
     "data": {
      "text/plain": [
       "<li class=\"first\">\n",
       "<p class=\"no1\" id=\"no1\">1</p>\n",
       "<div class=\"thumb\">\n",
       "<a href=\"http://item.gmarket.co.kr/Item?goodscode=1798110680&amp;ver=637952303729533398\" onclick=\"pdsClickLog('200000680', 'Item', {'ASN': 1, 'goodsCode': '1798110680'});\"><img alt=\"[한상궁김치]한상궁김치 국산 겉절이 2kg 출고당일생산\" class=\"lazy\" data-original=\"//gdimg.gmarket.co.kr/1798110680/still/300?ver=2022080417\" height=\"210\" src=\"//image.gmarket.co.kr/challenge/neo_image/no_image.gif\" width=\"210\"/></a>\n",
       "</div>\n",
       "<!--div class=\"goods-view\">\n",
       "\t\t\t\t\t\t\t\t\t<a href=\"http://minishop.gmarket.co.kr/hansanggungfood\"><span class=\"view\">판매자 다른상품 보기</span>맛있는한상궁</a>\n",
       "\t\t\t\t\t\t\t\t</div-->\n",
       "<a class=\"itemname\" href=\"http://item.gmarket.co.kr/Item?goodscode=1798110680&amp;ver=637952303729533398\" onclick=\"pdsClickLog('200000680', 'Item', {'ASN': 1, 'goodsCode': '1798110680'});\">[한상궁김치]한상궁김치 국산 겉절이 2kg 출고당일생산</a>\n",
       "<div class=\"item_price\">\n",
       "<div class=\"o-price\"><span><span>23,400원</span></span></div>\n",
       "<div class=\"s-price\">\n",
       "<strong><span><span>11,000원</span></span></strong>\n",
       "<span><span class=\"sale\"></span><em>52%</em></span>\n",
       "</div>\n",
       "<div class=\"icon\">\n",
       "<img alt=\"무료배송\" src=\"//pics.gmkt.kr/pc/ko/corner/gbest/ic_freeshipping.gif\"/>\n",
       "</div>\n",
       "</div>\n",
       "</li>"
      ]
     },
     "execution_count": 12,
     "metadata": {},
     "output_type": "execute_result"
    }
   ],
   "source": [
    "element = elements[0]\n",
    "element"
   ]
  },
  {
   "cell_type": "code",
   "execution_count": 13,
   "id": "b6bbad86-e469-40b3-b7e8-4a18943252ce",
   "metadata": {},
   "outputs": [
    {
     "data": {
      "text/plain": [
       "{'title': '[한상궁김치]한상궁김치 국산 겉절이 2kg 출고당일생산',\n",
       " 'o-price': '23,400원',\n",
       " 's-price': '11,000원',\n",
       " 'img': 'http://gdimg.gmarket.co.kr/1798110680/still/300?ver=2022080417'}"
      ]
     },
     "execution_count": 13,
     "metadata": {},
     "output_type": "execute_result"
    }
   ],
   "source": [
    "data = {\n",
    "    \"title\" : element.select_one(\".itemname\").text,\n",
    "    \"o-price\" : element.select_one(\".o-price\").text,\n",
    "    \"s-price\" : element.select_one(\".s-price > strong\").text,\n",
    "    \"img\" : \"http:\" + element.select_one(\"img\").get(\"data-original\"),\n",
    "}\n",
    "data"
   ]
  },
  {
   "cell_type": "code",
   "execution_count": 14,
   "id": "a4846a96-45c0-42a2-a0e2-bcb0cff465c7",
   "metadata": {},
   "outputs": [
    {
     "data": {
      "text/plain": [
       "[{'title': '[한상궁김치]한상궁김치 국산 겉절이 2kg 출고당일생산',\n",
       "  'o_price': '23,400원',\n",
       "  's_price': '11,000원',\n",
       "  'img': 'http://gdimg.gmarket.co.kr/1798110680/still/300?ver=2022080417'},\n",
       " {'title': '[바디스토리]남성 누디5매 냉감 쿨 드로즈 남자 아이스 사각 팬티 / 무료반품+10%+15%할인',\n",
       "  'o_price': '39,600원',\n",
       "  's_price': '11,900원',\n",
       "  'img': 'http://gdimg.gmarket.co.kr/2520900839/still/300?ver=2022080417'}]"
      ]
     },
     "execution_count": 14,
     "metadata": {},
     "output_type": "execute_result"
    }
   ],
   "source": [
    "items = []\n",
    "for element in elements:\n",
    "    data = {\n",
    "        \"title\": element.select_one(\".itemname\").text,\n",
    "        \"o_price\": element.select_one(\".o-price\").text,\n",
    "        \"s_price\": element.select_one(\".s-price > strong\").text,\n",
    "        \"img\": \"http:\" + element.select_one(\"img\").get(\"data-original\"),\n",
    "    }\n",
    "    items.append(data)\n",
    "items[:2]"
   ]
  },
  {
   "cell_type": "code",
   "execution_count": 15,
   "id": "b7c5d57f-3735-4f98-8bc0-c98ec7ca25c3",
   "metadata": {},
   "outputs": [],
   "source": [
    "df = pd.DataFrame(items)"
   ]
  },
  {
   "cell_type": "code",
   "execution_count": 16,
   "id": "a7d278d4-45ed-4bb6-8c78-93338e470c72",
   "metadata": {},
   "outputs": [
    {
     "data": {
      "text/html": [
       "<div>\n",
       "<style scoped>\n",
       "    .dataframe tbody tr th:only-of-type {\n",
       "        vertical-align: middle;\n",
       "    }\n",
       "\n",
       "    .dataframe tbody tr th {\n",
       "        vertical-align: top;\n",
       "    }\n",
       "\n",
       "    .dataframe thead th {\n",
       "        text-align: right;\n",
       "    }\n",
       "</style>\n",
       "<table border=\"1\" class=\"dataframe\">\n",
       "  <thead>\n",
       "    <tr style=\"text-align: right;\">\n",
       "      <th></th>\n",
       "      <th>title</th>\n",
       "      <th>o_price</th>\n",
       "      <th>s_price</th>\n",
       "      <th>img</th>\n",
       "    </tr>\n",
       "  </thead>\n",
       "  <tbody>\n",
       "    <tr>\n",
       "      <th>0</th>\n",
       "      <td>[한상궁김치]한상궁김치 국산 겉절이 2kg 출고당일생산</td>\n",
       "      <td>23,400원</td>\n",
       "      <td>11,000원</td>\n",
       "      <td>http://gdimg.gmarket.co.kr/1798110680/still/30...</td>\n",
       "    </tr>\n",
       "    <tr>\n",
       "      <th>1</th>\n",
       "      <td>[바디스토리]남성 누디5매 냉감 쿨 드로즈 남자 아이스 사각 팬티 / 무료반품+10...</td>\n",
       "      <td>39,600원</td>\n",
       "      <td>11,900원</td>\n",
       "      <td>http://gdimg.gmarket.co.kr/2520900839/still/30...</td>\n",
       "    </tr>\n",
       "    <tr>\n",
       "      <th>2</th>\n",
       "      <td>(쌀가게) (광주신세계)[주문폭증으로 순차적 출고 예정] [2021년 햅쌀] 쌀가게...</td>\n",
       "      <td>33,900원</td>\n",
       "      <td>28,140원</td>\n",
       "      <td>http://gdimg.gmarket.co.kr/2443817026/still/30...</td>\n",
       "    </tr>\n",
       "    <tr>\n",
       "      <th>3</th>\n",
       "      <td>[광동]아이스웨일 레몬라임 탄산수 500ml 40pet/음료/음료수</td>\n",
       "      <td>17,300원</td>\n",
       "      <td>13,900원</td>\n",
       "      <td>http://gdimg.gmarket.co.kr/2355814801/still/30...</td>\n",
       "    </tr>\n",
       "    <tr>\n",
       "      <th>4</th>\n",
       "      <td>국내산 감자 5kg (대)/햇감자/쿠폰11510</td>\n",
       "      <td>27,800원</td>\n",
       "      <td>12,900원</td>\n",
       "      <td>http://gdimg.gmarket.co.kr/2207237625/still/30...</td>\n",
       "    </tr>\n",
       "    <tr>\n",
       "      <th>...</th>\n",
       "      <td>...</td>\n",
       "      <td>...</td>\n",
       "      <td>...</td>\n",
       "      <td>...</td>\n",
       "    </tr>\n",
       "    <tr>\n",
       "      <th>195</th>\n",
       "      <td>[전립소]전립소 쏘팔메토 2개월 (60캡슐) x2(4개월)</td>\n",
       "      <td>32,900원</td>\n",
       "      <td>26,320원</td>\n",
       "      <td>http://gdimg.gmarket.co.kr/1250896437/still/30...</td>\n",
       "    </tr>\n",
       "    <tr>\n",
       "      <th>196</th>\n",
       "      <td>바이오가이아 베이비 드롭 10ml 1+1</td>\n",
       "      <td>51,500원</td>\n",
       "      <td>45,320원</td>\n",
       "      <td>http://gdimg.gmarket.co.kr/2402158675/still/30...</td>\n",
       "    </tr>\n",
       "    <tr>\n",
       "      <th>197</th>\n",
       "      <td>[리큐]진한겔 알카파워 세탁세제 2.1L 6개 (일반)</td>\n",
       "      <td></td>\n",
       "      <td>28,900원</td>\n",
       "      <td>http://gdimg.gmarket.co.kr/1472313400/still/30...</td>\n",
       "    </tr>\n",
       "    <tr>\n",
       "      <th>198</th>\n",
       "      <td>[힐링팩토리]쿨넥 넥커버 야외작업 아이스 쿨 스카프 1+1세트</td>\n",
       "      <td>39,800원</td>\n",
       "      <td>19,900원</td>\n",
       "      <td>http://gdimg.gmarket.co.kr/1845175154/still/30...</td>\n",
       "    </tr>\n",
       "    <tr>\n",
       "      <th>199</th>\n",
       "      <td>태극기 시리즈 전3권 태극기를 든 소녀1+2+나는 태극기 입니다</td>\n",
       "      <td>39,000원</td>\n",
       "      <td>35,100원</td>\n",
       "      <td>http://gdimg.gmarket.co.kr/1868017755/still/30...</td>\n",
       "    </tr>\n",
       "  </tbody>\n",
       "</table>\n",
       "<p>200 rows × 4 columns</p>\n",
       "</div>"
      ],
      "text/plain": [
       "                                                 title  o_price  s_price  \\\n",
       "0                       [한상궁김치]한상궁김치 국산 겉절이 2kg 출고당일생산  23,400원  11,000원   \n",
       "1    [바디스토리]남성 누디5매 냉감 쿨 드로즈 남자 아이스 사각 팬티 / 무료반품+10...  39,600원  11,900원   \n",
       "2    (쌀가게) (광주신세계)[주문폭증으로 순차적 출고 예정] [2021년 햅쌀] 쌀가게...  33,900원  28,140원   \n",
       "3                [광동]아이스웨일 레몬라임 탄산수 500ml 40pet/음료/음료수  17,300원  13,900원   \n",
       "4                           국내산 감자 5kg (대)/햇감자/쿠폰11510  27,800원  12,900원   \n",
       "..                                                 ...      ...      ...   \n",
       "195                   [전립소]전립소 쏘팔메토 2개월 (60캡슐) x2(4개월)  32,900원  26,320원   \n",
       "196                             바이오가이아 베이비 드롭 10ml 1+1  51,500원  45,320원   \n",
       "197                     [리큐]진한겔 알카파워 세탁세제 2.1L 6개 (일반)           28,900원   \n",
       "198                 [힐링팩토리]쿨넥 넥커버 야외작업 아이스 쿨 스카프 1+1세트  39,800원  19,900원   \n",
       "199                태극기 시리즈 전3권 태극기를 든 소녀1+2+나는 태극기 입니다  39,000원  35,100원   \n",
       "\n",
       "                                                   img  \n",
       "0    http://gdimg.gmarket.co.kr/1798110680/still/30...  \n",
       "1    http://gdimg.gmarket.co.kr/2520900839/still/30...  \n",
       "2    http://gdimg.gmarket.co.kr/2443817026/still/30...  \n",
       "3    http://gdimg.gmarket.co.kr/2355814801/still/30...  \n",
       "4    http://gdimg.gmarket.co.kr/2207237625/still/30...  \n",
       "..                                                 ...  \n",
       "195  http://gdimg.gmarket.co.kr/1250896437/still/30...  \n",
       "196  http://gdimg.gmarket.co.kr/2402158675/still/30...  \n",
       "197  http://gdimg.gmarket.co.kr/1472313400/still/30...  \n",
       "198  http://gdimg.gmarket.co.kr/1845175154/still/30...  \n",
       "199  http://gdimg.gmarket.co.kr/1868017755/still/30...  \n",
       "\n",
       "[200 rows x 4 columns]"
      ]
     },
     "execution_count": 16,
     "metadata": {},
     "output_type": "execute_result"
    }
   ],
   "source": [
    "df"
   ]
  },
  {
   "cell_type": "code",
   "execution_count": null,
   "id": "485ad8df-13b3-4dc9-b3d9-85de42e158c2",
   "metadata": {},
   "outputs": [],
   "source": []
  }
 ],
 "metadata": {
  "kernelspec": {
   "display_name": "Python 3",
   "language": "python",
   "name": "python3"
  },
  "language_info": {
   "codemirror_mode": {
    "name": "ipython",
    "version": 3
   },
   "file_extension": ".py",
   "mimetype": "text/x-python",
   "name": "python",
   "nbconvert_exporter": "python",
   "pygments_lexer": "ipython3",
   "version": "3.8.8"
  }
 },
 "nbformat": 4,
 "nbformat_minor": 5
}
