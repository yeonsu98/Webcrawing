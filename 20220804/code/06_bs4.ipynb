{
 "cells": [
  {
   "cell_type": "markdown",
   "id": "b8766d83-c671-46c9-bef8-b49728bceb35",
   "metadata": {},
   "source": [
    "#### 정적 페이지 데이터 수집\n",
    "- 네이버 연관 검색어 수집\n",
    "- bs4 : BeautifulSoup : HTML(str) > CSS Selector를 이용하여 엘리먼트 선택"
   ]
  },
  {
   "cell_type": "code",
   "execution_count": 1,
   "id": "04dc32c9-8885-43b7-8db0-d7c92fca47e5",
   "metadata": {},
   "outputs": [],
   "source": [
    "import pandas as pd\n",
    "import requests\n",
    "from bs4 import BeautifulSoup"
   ]
  },
  {
   "cell_type": "code",
   "execution_count": null,
   "id": "c41acd8f-17b4-4c78-b00b-ebd56809c595",
   "metadata": {},
   "outputs": [],
   "source": [
    "#  1. 웹서비스 분석 : URL"
   ]
  },
  {
   "cell_type": "code",
   "execution_count": 33,
   "id": "8ea1926b-a52c-4a37-86e8-5483f511e984",
   "metadata": {},
   "outputs": [],
   "source": [
    "keyword = \"peach\"\n",
    "url = f\"https://search.naver.com/search.naver?query={keyword}\""
   ]
  },
  {
   "cell_type": "code",
   "execution_count": 34,
   "id": "a9c59f66-f1ed-44ed-9f37-98bac505ac53",
   "metadata": {},
   "outputs": [],
   "source": [
    "# 2. requests(url) > response(html) : HTML(str)"
   ]
  },
  {
   "cell_type": "code",
   "execution_count": 35,
   "id": "464d8f5d-0297-4375-bc09-01928b669f93",
   "metadata": {
    "tags": []
   },
   "outputs": [
    {
     "data": {
      "text/plain": [
       "<Response [200]>"
      ]
     },
     "execution_count": 35,
     "metadata": {},
     "output_type": "execute_result"
    }
   ],
   "source": [
    "response = requests.get(url)\n",
    "response"
   ]
  },
  {
   "cell_type": "code",
   "execution_count": 36,
   "id": "66f3c396-9144-48a4-94cf-a7f5642f1991",
   "metadata": {},
   "outputs": [],
   "source": [
    "# 3. HTML(str) > BeautifulSoup Object > BS(CSS Selector) > Data"
   ]
  },
  {
   "cell_type": "code",
   "execution_count": 37,
   "id": "0bbef876-28e1-4f31-add3-fd24753fd10f",
   "metadata": {},
   "outputs": [
    {
     "data": {
      "text/plain": [
       "bs4.BeautifulSoup"
      ]
     },
     "execution_count": 37,
     "metadata": {},
     "output_type": "execute_result"
    }
   ],
   "source": [
    "dom = BeautifulSoup(response.text, \"html.parser\")\n",
    "type(dom)"
   ]
  },
  {
   "cell_type": "code",
   "execution_count": 38,
   "id": "224aad38-4fac-4272-95c7-6de3d3a9ea5b",
   "metadata": {},
   "outputs": [],
   "source": [
    "# select() : 엘리먼트 여러개 선택\n",
    "# select_one() : 엘리먼트 한 개 선택"
   ]
  },
  {
   "cell_type": "code",
   "execution_count": 39,
   "id": "fbbbe0ce-9c89-4ea4-ab9d-bbe9b29ade2c",
   "metadata": {},
   "outputs": [
    {
     "data": {
      "text/plain": [
       "<li class=\"item\"> <a class=\"keyword\" href=\"?where=nexearch&amp;query=%ED%94%BC%EC%B9%98&amp;ie=utf8&amp;sm=tab_she&amp;qdt=0\" onclick=\"return goOtherCR(this, 'a=rsk_top*q.list1&amp;r=1&amp;u=' + urlencode(this.href))\"> <div class=\"tit\">피치</div> </a> </li>"
      ]
     },
     "execution_count": 39,
     "metadata": {},
     "output_type": "execute_result"
    }
   ],
   "source": [
    "elements = dom.select(\".lst_related_srch > .item\")\n",
    "elements[0]"
   ]
  },
  {
   "cell_type": "code",
   "execution_count": 40,
   "id": "6e490230-88f6-46d1-8911-722b7928082d",
   "metadata": {},
   "outputs": [
    {
     "data": {
      "text/plain": [
       "['피치',\n",
       " 'peache',\n",
       " 'peachy',\n",
       " 'pitch',\n",
       " 'nectarine',\n",
       " 'apeach',\n",
       " 'peace',\n",
       " '도산공원 피치',\n",
       " 'peaches']"
      ]
     },
     "execution_count": 40,
     "metadata": {},
     "output_type": "execute_result"
    }
   ],
   "source": [
    "keywords = []\n",
    "for element in elements:\n",
    "    keyword = element.select_one(\".tit\").text\n",
    "    keywords.append(keyword)\n",
    "\n",
    "keywords"
   ]
  },
  {
   "cell_type": "code",
   "execution_count": 41,
   "id": "771d988c-2335-454b-af71-53f141efd3dd",
   "metadata": {},
   "outputs": [
    {
     "name": "stdout",
     "output_type": "stream",
     "text": [
      "['피치', 'peache', 'peachy', 'pitch', 'nectarine', 'apeach', 'peace', '도산공원 피치', 'peaches']\n"
     ]
    }
   ],
   "source": [
    "keyword = [element.select_one(\".tit\").text for element in elements]\n",
    "print(keyword)"
   ]
  },
  {
   "cell_type": "code",
   "execution_count": null,
   "id": "a00035fb-630a-49d3-b47c-bda38992af88",
   "metadata": {},
   "outputs": [],
   "source": []
  },
  {
   "cell_type": "code",
   "execution_count": null,
   "id": "b9df22ab-82e0-4a9e-8988-5d8064ca3528",
   "metadata": {},
   "outputs": [],
   "source": []
  }
 ],
 "metadata": {
  "kernelspec": {
   "display_name": "Python 3",
   "language": "python",
   "name": "python3"
  },
  "language_info": {
   "codemirror_mode": {
    "name": "ipython",
    "version": 3
   },
   "file_extension": ".py",
   "mimetype": "text/x-python",
   "name": "python",
   "nbconvert_exporter": "python",
   "pygments_lexer": "ipython3",
   "version": "3.8.8"
  }
 },
 "nbformat": 4,
 "nbformat_minor": 5
}
