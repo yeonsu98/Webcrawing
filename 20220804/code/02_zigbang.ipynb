{
 "cells": [
  {
   "cell_type": "markdown",
   "id": "5a877d0a-09bf-4f22-83c3-6295378c85e7",
   "metadata": {},
   "source": [
    "#### 직방의 원룸 매물정보 수집\n",
    "- 절차\n",
    "    - 동이름 > 위도, 경도\n",
    "    - 위도, 경도 > geohash(영역) 변환\n",
    "    - 매물 아이디 > 매물 정보"
   ]
  },
  {
   "cell_type": "code",
   "execution_count": 3,
   "id": "48bd64c1-3abf-4e01-a267-2270224a6ce6",
   "metadata": {},
   "outputs": [],
   "source": [
    "import requests\n",
    "import pandas as pd\n",
    "import geohash2"
   ]
  },
  {
   "cell_type": "code",
   "execution_count": 2,
   "id": "613d9a90-69ac-4633-b8af-c76e05f657d5",
   "metadata": {},
   "outputs": [
    {
     "name": "stdout",
     "output_type": "stream",
     "text": [
      "Collecting geohash2\n",
      "  Downloading geohash2-1.1.tar.gz (15 kB)\n",
      "Requirement already satisfied: docutils>=0.3 in c:\\users\\user\\anaconda3\\lib\\site-packages (from geohash2) (0.17)\n",
      "Building wheels for collected packages: geohash2\n",
      "  Building wheel for geohash2 (setup.py): started\n",
      "  Building wheel for geohash2 (setup.py): finished with status 'done'\n",
      "  Created wheel for geohash2: filename=geohash2-1.1-py3-none-any.whl size=15544 sha256=8a65922cefa73cecb9d9c4d44934c8ee660d0baf4895dde1fb6273cae147a932\n",
      "  Stored in directory: c:\\users\\user\\appdata\\local\\pip\\cache\\wheels\\2d\\0c\\66\\dcd768c9e7c26fc81ec59bfe24af9d780fc9dbdf7f90b0cf00\n",
      "Successfully built geohash2\n",
      "Installing collected packages: geohash2\n",
      "Successfully installed geohash2-1.1\n"
     ]
    }
   ],
   "source": [
    "!pip install geohash2"
   ]
  },
  {
   "cell_type": "code",
   "execution_count": null,
   "id": "653c8b10-a8f0-4475-ba53-603a1f1f972d",
   "metadata": {},
   "outputs": [],
   "source": [
    "# 1. 동이름 > 위도, 경도"
   ]
  },
  {
   "cell_type": "code",
   "execution_count": 4,
   "id": "9dc5a2c0-c3df-4e20-bc38-09e2d7fb5ac8",
   "metadata": {},
   "outputs": [
    {
     "data": {
      "text/plain": [
       "<Response [200]>"
      ]
     },
     "execution_count": 4,
     "metadata": {},
     "output_type": "execute_result"
    }
   ],
   "source": [
    "# url 인코딩 : https://meyerweb.com/eric/tools/dencoder/\n",
    "addr = \"강남구 역삼동\"\n",
    "url = f\"https://apis.zigbang.com/v2/search?leaseYn=N&q={addr}&serviceType=원룸\"\n",
    "response = requests.get(url)\n",
    "response"
   ]
  },
  {
   "cell_type": "code",
   "execution_count": 16,
   "id": "000f72ed-465b-4e17-b1cd-927a844cfa6e",
   "metadata": {},
   "outputs": [
    {
     "data": {
      "text/plain": [
       "(37.495365142822266, 127.03306579589844)"
      ]
     },
     "execution_count": 16,
     "metadata": {},
     "output_type": "execute_result"
    }
   ],
   "source": [
    "data = response.json()['items'][0]\n",
    "lat, lng = data['lat'], data['lng']\n",
    "lat, lng"
   ]
  },
  {
   "cell_type": "code",
   "execution_count": null,
   "id": "638bab9f-8b80-49ba-aed3-ea0088d1c838",
   "metadata": {},
   "outputs": [],
   "source": [
    "# 2. 위도, 경도 > geohash(영역) 변환"
   ]
  },
  {
   "cell_type": "code",
   "execution_count": 19,
   "id": "144cefc2-d9af-4c5e-8f11-9cfc052780da",
   "metadata": {},
   "outputs": [
    {
     "data": {
      "text/plain": [
       "'wydm6'"
      ]
     },
     "execution_count": 19,
     "metadata": {},
     "output_type": "execute_result"
    }
   ],
   "source": [
    "# precision이 커질수록 영역이 작아짐\n",
    "geohash = geohash2.encode(lat, lng, precision=5)\n",
    "geohash"
   ]
  },
  {
   "cell_type": "code",
   "execution_count": null,
   "id": "3fc5ebf4-f0d4-4a94-b10e-318dda64eb1c",
   "metadata": {},
   "outputs": [],
   "source": [
    "# 3. geohash > 매물 아이디"
   ]
  },
  {
   "cell_type": "code",
   "execution_count": 22,
   "id": "38861398-2edd-4d87-ba2f-8c1c527caaf3",
   "metadata": {},
   "outputs": [
    {
     "data": {
      "text/plain": [
       "<Response [200]>"
      ]
     },
     "execution_count": 22,
     "metadata": {},
     "output_type": "execute_result"
    }
   ],
   "source": [
    "url = f\"https://apis.zigbang.com/v2/items?deposit_gteq=0&domain=zigbang\\\n",
    "&geohash={geohash}&needHasNoFiltered=true&rent_gteq=0&sales_type_in=전세|월세&service_type_eq=원룸\"\n",
    "\n",
    "response = requests.get(url)\n",
    "response"
   ]
  },
  {
   "cell_type": "code",
   "execution_count": 28,
   "id": "8fa6a5bb-a4e3-4c6d-8b8c-f0ab9d52a139",
   "metadata": {},
   "outputs": [
    {
     "data": {
      "text/plain": [
       "(2344,\n",
       " [{'lat': 37.485141261794524, 'lng': 127.01296495741643, 'item_id': 32819635},\n",
       "  {'lat': 37.485627384450254, 'lng': 127.0136283391101, 'item_id': 32838798}])"
      ]
     },
     "execution_count": 28,
     "metadata": {},
     "output_type": "execute_result"
    }
   ],
   "source": [
    "items = response.json()['items']\n",
    "len(items), items[:2]"
   ]
  },
  {
   "cell_type": "code",
   "execution_count": 33,
   "id": "32e18278-4fa7-4e96-9937-e604462899ba",
   "metadata": {},
   "outputs": [
    {
     "data": {
      "text/plain": [
       "[32819635, 32838798, 32872608]"
      ]
     },
     "execution_count": 33,
     "metadata": {},
     "output_type": "execute_result"
    }
   ],
   "source": [
    "ids = [item['item_id'] for item in items]\n",
    "ids[:3]"
   ]
  },
  {
   "cell_type": "code",
   "execution_count": null,
   "id": "f85c775d-baf1-4357-b01a-69aa9a61b114",
   "metadata": {},
   "outputs": [],
   "source": [
    "# 4. 매물 아이디 > 매물 정보"
   ]
  },
  {
   "cell_type": "code",
   "execution_count": 36,
   "id": "f93aa74c-f63c-422e-b926-354b8d7190f9",
   "metadata": {},
   "outputs": [
    {
     "data": {
      "text/plain": [
       "<Response [200]>"
      ]
     },
     "execution_count": 36,
     "metadata": {},
     "output_type": "execute_result"
    }
   ],
   "source": [
    "url = \"https://apis.zigbang.com/v2/items/list\"\n",
    "params = {\n",
    "    \"domain\" : \"zigbang\",\n",
    "    \"withCoalition\": \"true\",\n",
    "    \"item_ids\" : ids[:900]\n",
    "}\n",
    "response = requests.post(url, params)\n",
    "response"
   ]
  },
  {
   "cell_type": "code",
   "execution_count": 37,
   "id": "10213c6a-be2d-49f2-b8c5-43f03298a58b",
   "metadata": {},
   "outputs": [
    {
     "data": {
      "text/plain": [
       "'{\"items\":[{\"section_type\":null,\"item_id\":32819635,\"images_thumbnail\":\"https://ic.zigbang.com/ic/items/32819635/1.jpg\",\"sales_type\":\"전세\",\"sales_title\":\"전세\",\"deposit\":16500,\"rent\":0,\"size_m2\":39.89,\"공급면적\":{\"m2\":39.89,\"p\":\"12.1\"},\"전용면적\":{\"m2\":20.82,\"p\":\"6.3\"},\"계약면적\":null,\"room_type_title\":null,\"floor\":'"
      ]
     },
     "execution_count": 37,
     "metadata": {},
     "output_type": "execute_result"
    }
   ],
   "source": [
    "response.text[:300]"
   ]
  },
  {
   "cell_type": "code",
   "execution_count": 45,
   "id": "59277d68-74c0-40d3-aefb-990094fe8b91",
   "metadata": {},
   "outputs": [],
   "source": [
    "# max row, max column 설정\n",
    "pd.options.display.max_columns = 50"
   ]
  },
  {
   "cell_type": "code",
   "execution_count": 49,
   "id": "eb58f443-93f9-42b3-93b9-aad374d07a98",
   "metadata": {},
   "outputs": [
    {
     "data": {
      "text/html": [
       "<div>\n",
       "<style scoped>\n",
       "    .dataframe tbody tr th:only-of-type {\n",
       "        vertical-align: middle;\n",
       "    }\n",
       "\n",
       "    .dataframe tbody tr th {\n",
       "        vertical-align: top;\n",
       "    }\n",
       "\n",
       "    .dataframe thead th {\n",
       "        text-align: right;\n",
       "    }\n",
       "</style>\n",
       "<table border=\"1\" class=\"dataframe\">\n",
       "  <thead>\n",
       "    <tr style=\"text-align: right;\">\n",
       "      <th></th>\n",
       "      <th>item_id</th>\n",
       "      <th>sales_type</th>\n",
       "      <th>deposit</th>\n",
       "      <th>rent</th>\n",
       "      <th>size_m2</th>\n",
       "      <th>address1</th>\n",
       "      <th>manage_cost</th>\n",
       "    </tr>\n",
       "  </thead>\n",
       "  <tbody>\n",
       "    <tr>\n",
       "      <th>895</th>\n",
       "      <td>32850137</td>\n",
       "      <td>월세</td>\n",
       "      <td>300</td>\n",
       "      <td>260</td>\n",
       "      <td>32.91</td>\n",
       "      <td>서울시 강남구 역삼동</td>\n",
       "      <td>10</td>\n",
       "    </tr>\n",
       "    <tr>\n",
       "      <th>896</th>\n",
       "      <td>32852414</td>\n",
       "      <td>월세</td>\n",
       "      <td>130</td>\n",
       "      <td>250</td>\n",
       "      <td>33.44</td>\n",
       "      <td>서울시 강남구 역삼동</td>\n",
       "      <td>10</td>\n",
       "    </tr>\n",
       "    <tr>\n",
       "      <th>897</th>\n",
       "      <td>32809154</td>\n",
       "      <td>월세</td>\n",
       "      <td>120</td>\n",
       "      <td>70</td>\n",
       "      <td>19.83</td>\n",
       "      <td>서울시 강남구 역삼동</td>\n",
       "      <td>9</td>\n",
       "    </tr>\n",
       "    <tr>\n",
       "      <th>898</th>\n",
       "      <td>32844154</td>\n",
       "      <td>월세</td>\n",
       "      <td>100</td>\n",
       "      <td>100</td>\n",
       "      <td>29.75</td>\n",
       "      <td>서울시 강남구 역삼동</td>\n",
       "      <td>9</td>\n",
       "    </tr>\n",
       "    <tr>\n",
       "      <th>899</th>\n",
       "      <td>32656329</td>\n",
       "      <td>전세</td>\n",
       "      <td>24000</td>\n",
       "      <td>0</td>\n",
       "      <td>59.50</td>\n",
       "      <td>서울시 강남구 역삼동</td>\n",
       "      <td>10</td>\n",
       "    </tr>\n",
       "  </tbody>\n",
       "</table>\n",
       "</div>"
      ],
      "text/plain": [
       "      item_id sales_type  deposit  rent  size_m2     address1 manage_cost\n",
       "895  32850137         월세      300   260    32.91  서울시 강남구 역삼동          10\n",
       "896  32852414         월세      130   250    33.44  서울시 강남구 역삼동          10\n",
       "897  32809154         월세      120    70    19.83  서울시 강남구 역삼동           9\n",
       "898  32844154         월세      100   100    29.75  서울시 강남구 역삼동           9\n",
       "899  32656329         전세    24000     0    59.50  서울시 강남구 역삼동          10"
      ]
     },
     "execution_count": 49,
     "metadata": {},
     "output_type": "execute_result"
    }
   ],
   "source": [
    "items = response.json()[\"items\"]\n",
    "columns = [\"item_id\", \"sales_type\", \"deposit\", \"rent\", \"size_m2\", \"address1\", \"manage_cost\"]\n",
    "items[:2]\n",
    "df = pd.DataFrame(items)[columns]\n",
    "df.tail(5)"
   ]
  },
  {
   "cell_type": "code",
   "execution_count": 60,
   "id": "21c84a87-eba3-4947-ba62-73e9dcde69b1",
   "metadata": {},
   "outputs": [],
   "source": [
    "# 함수 만들기\n",
    "def oneroom(addr):\n",
    "    \"\"\" This function is crawling information of oneroom from zigbang\n",
    "    \n",
    "    Params\n",
    "    ------\n",
    "    addr : str : address\n",
    "    \n",
    "    Return\n",
    "    ------\n",
    "    type : DataFrame : display item_id, sales_type, deposit, rent, size_m2, address1, manage_cost columns\n",
    "    \n",
    "    \"\"\"\n",
    "    \n",
    "    # 1. 동이름 > 위도, 경도\n",
    "    url = f\"https://apis.zigbang.com/v2/search?leaseYn=N&q={addr}&serviceType=원룸\"\n",
    "    response = requests.get(url)\n",
    "    \n",
    "    data = response.json()['items'][0]\n",
    "    lat, lng = data['lat'], data['lng']\n",
    "    \n",
    "    # 2. 위도, 경도 > geohash(영역) 변환\n",
    "    geohash = geohash2.encode(lat, lng, precision=5)\n",
    "    \n",
    "    # 3. geohash > 매물 아이디\n",
    "    url = f\"https://apis.zigbang.com/v2/items?deposit_gteq=0&domain=zigbang\\\n",
    "&geohash={geohash}&needHasNoFiltered=true&rent_gteq=0&sales_type_in=전세|월세&service_type_eq=원룸\"\n",
    "\n",
    "    response = requests.get(url)\n",
    "    \n",
    "    items = response.json()['items']\n",
    "    ids = [item['item_id'] for item in items]\n",
    "    \n",
    "    # 4. 매물 아이디 > 매물 정보\n",
    "    url = \"https://apis.zigbang.com/v2/items/list\"\n",
    "    params = {\n",
    "        \"domain\" : \"zigbang\",\n",
    "        \"withCoalition\": \"true\",\n",
    "        \"item_ids\" : ids[:900]\n",
    "    }\n",
    "    response = requests.post(url, params)\n",
    "    \n",
    "    items = response.json()[\"items\"]\n",
    "    columns = [\"item_id\", \"sales_type\", \"deposit\", \"rent\", \"size_m2\", \"address1\", \"manage_cost\"]\n",
    "    \n",
    "    return pd.DataFrame(items)[columns]\n",
    "    "
   ]
  },
  {
   "cell_type": "code",
   "execution_count": 61,
   "id": "17fa6109-face-4d18-9606-5252b691e2f1",
   "metadata": {},
   "outputs": [
    {
     "data": {
      "text/html": [
       "<div>\n",
       "<style scoped>\n",
       "    .dataframe tbody tr th:only-of-type {\n",
       "        vertical-align: middle;\n",
       "    }\n",
       "\n",
       "    .dataframe tbody tr th {\n",
       "        vertical-align: top;\n",
       "    }\n",
       "\n",
       "    .dataframe thead th {\n",
       "        text-align: right;\n",
       "    }\n",
       "</style>\n",
       "<table border=\"1\" class=\"dataframe\">\n",
       "  <thead>\n",
       "    <tr style=\"text-align: right;\">\n",
       "      <th></th>\n",
       "      <th>item_id</th>\n",
       "      <th>sales_type</th>\n",
       "      <th>deposit</th>\n",
       "      <th>rent</th>\n",
       "      <th>size_m2</th>\n",
       "      <th>address1</th>\n",
       "      <th>manage_cost</th>\n",
       "    </tr>\n",
       "  </thead>\n",
       "  <tbody>\n",
       "    <tr>\n",
       "      <th>744</th>\n",
       "      <td>32862490</td>\n",
       "      <td>전세</td>\n",
       "      <td>43000</td>\n",
       "      <td>0</td>\n",
       "      <td>31.74</td>\n",
       "      <td>서울시 마포구 중동</td>\n",
       "      <td>5</td>\n",
       "    </tr>\n",
       "    <tr>\n",
       "      <th>745</th>\n",
       "      <td>32866975</td>\n",
       "      <td>월세</td>\n",
       "      <td>3000</td>\n",
       "      <td>90</td>\n",
       "      <td>49.59</td>\n",
       "      <td>서울시 마포구 중동</td>\n",
       "      <td>2</td>\n",
       "    </tr>\n",
       "  </tbody>\n",
       "</table>\n",
       "</div>"
      ],
      "text/plain": [
       "      item_id sales_type  deposit  rent  size_m2    address1 manage_cost\n",
       "744  32862490         전세    43000     0    31.74  서울시 마포구 중동           5\n",
       "745  32866975         월세     3000    90    49.59  서울시 마포구 중동           2"
      ]
     },
     "execution_count": 61,
     "metadata": {},
     "output_type": "execute_result"
    }
   ],
   "source": [
    "addr = \"마포구 합정동\"\n",
    "df = oneroom(addr)\n",
    "df.tail(2)"
   ]
  },
  {
   "cell_type": "code",
   "execution_count": 63,
   "id": "e9e79267-c3ec-48f2-8b43-11c4e941d20a",
   "metadata": {},
   "outputs": [
    {
     "data": {
      "text/html": [
       "<div>\n",
       "<style scoped>\n",
       "    .dataframe tbody tr th:only-of-type {\n",
       "        vertical-align: middle;\n",
       "    }\n",
       "\n",
       "    .dataframe tbody tr th {\n",
       "        vertical-align: top;\n",
       "    }\n",
       "\n",
       "    .dataframe thead th {\n",
       "        text-align: right;\n",
       "    }\n",
       "</style>\n",
       "<table border=\"1\" class=\"dataframe\">\n",
       "  <thead>\n",
       "    <tr style=\"text-align: right;\">\n",
       "      <th></th>\n",
       "      <th>item_id</th>\n",
       "      <th>sales_type</th>\n",
       "      <th>deposit</th>\n",
       "      <th>rent</th>\n",
       "      <th>size_m2</th>\n",
       "      <th>address1</th>\n",
       "      <th>manage_cost</th>\n",
       "    </tr>\n",
       "  </thead>\n",
       "  <tbody>\n",
       "    <tr>\n",
       "      <th>95</th>\n",
       "      <td>32794268</td>\n",
       "      <td>월세</td>\n",
       "      <td>1000</td>\n",
       "      <td>90</td>\n",
       "      <td>59.50</td>\n",
       "      <td>서울시 마포구 합정동</td>\n",
       "      <td>2</td>\n",
       "    </tr>\n",
       "    <tr>\n",
       "      <th>96</th>\n",
       "      <td>32794303</td>\n",
       "      <td>월세</td>\n",
       "      <td>3000</td>\n",
       "      <td>80</td>\n",
       "      <td>59.50</td>\n",
       "      <td>서울시 마포구 합정동</td>\n",
       "      <td>2</td>\n",
       "    </tr>\n",
       "    <tr>\n",
       "      <th>97</th>\n",
       "      <td>32804404</td>\n",
       "      <td>월세</td>\n",
       "      <td>2000</td>\n",
       "      <td>85</td>\n",
       "      <td>61.24</td>\n",
       "      <td>서울시 마포구 합정동</td>\n",
       "      <td>2</td>\n",
       "    </tr>\n",
       "    <tr>\n",
       "      <th>98</th>\n",
       "      <td>32812101</td>\n",
       "      <td>월세</td>\n",
       "      <td>3000</td>\n",
       "      <td>80</td>\n",
       "      <td>61.24</td>\n",
       "      <td>서울시 마포구 합정동</td>\n",
       "      <td>2</td>\n",
       "    </tr>\n",
       "    <tr>\n",
       "      <th>99</th>\n",
       "      <td>32836233</td>\n",
       "      <td>월세</td>\n",
       "      <td>1000</td>\n",
       "      <td>45</td>\n",
       "      <td>13.95</td>\n",
       "      <td>서울시 마포구 합정동</td>\n",
       "      <td>5</td>\n",
       "    </tr>\n",
       "  </tbody>\n",
       "</table>\n",
       "</div>"
      ],
      "text/plain": [
       "     item_id sales_type  deposit  rent  size_m2     address1 manage_cost\n",
       "95  32794268         월세     1000    90    59.50  서울시 마포구 합정동           2\n",
       "96  32794303         월세     3000    80    59.50  서울시 마포구 합정동           2\n",
       "97  32804404         월세     2000    85    61.24  서울시 마포구 합정동           2\n",
       "98  32812101         월세     3000    80    61.24  서울시 마포구 합정동           2\n",
       "99  32836233         월세     1000    45    13.95  서울시 마포구 합정동           5"
      ]
     },
     "execution_count": 63,
     "metadata": {},
     "output_type": "execute_result"
    }
   ],
   "source": [
    "df_filtered = df[df[\"address1\"].str.contains(addr)].reset_index(drop=True)\n",
    "df_filtered.tail(5)"
   ]
  },
  {
   "cell_type": "code",
   "execution_count": null,
   "id": "bdef7123-1b1d-45c4-80ce-74628037aa0d",
   "metadata": {},
   "outputs": [],
   "source": [
    "# 모듈 파일 만들기 : .py"
   ]
  },
  {
   "cell_type": "code",
   "execution_count": 64,
   "id": "b3be2ba5-0ff1-4822-8378-a6fe881395a7",
   "metadata": {
    "tags": []
   },
   "outputs": [
    {
     "name": "stdout",
     "output_type": "stream",
     "text": [
      " C 드라이브의 볼륨에는 이름이 없습니다.\n",
      " 볼륨 일련 번호: 7C6C-FC35\n",
      "\n",
      " C:\\Users\\User\\Webcrawing\\20220803\\code 디렉터리\n",
      "\n",
      "2022-08-04  오후 12:26    <DIR>          .\n",
      "2022-08-04  오후 12:26    <DIR>          ..\n",
      "2022-08-04  오전 11:08    <DIR>          .ipynb_checkpoints\n",
      "2022-08-04  오전 11:07            58,808 01_naver_api_2.ipynb\n",
      "2022-08-03  오후 03:37            33,157 01_requests_naver_stock.ipynb\n",
      "2022-08-03  오후 05:21            23,642 02_requests_api.ipynb\n",
      "2022-08-04  오후 12:26            19,703 02_zigbang.ipynb\n",
      "2022-08-03  오후 04:45            10,060 covid.xlsx\n",
      "2022-08-03  오후 04:55             6,132 covid_en.xlsx\n",
      "               6개 파일             151,502 바이트\n",
      "               3개 디렉터리  134,529,159,168 바이트 남음\n"
     ]
    }
   ],
   "source": [
    "ls"
   ]
  },
  {
   "cell_type": "code",
   "execution_count": 65,
   "id": "17c29f2b-60c2-4ca2-872d-b5b7b2fc7df8",
   "metadata": {},
   "outputs": [
    {
     "name": "stdout",
     "output_type": "stream",
     "text": [
      "Writing zigbang.py\n"
     ]
    }
   ],
   "source": [
    "%%writefile zigbang.py\n",
    "\n",
    "import requests\n",
    "import pandas as pd\n",
    "import geohash2\n",
    "\n",
    "def oneroom(addr):\n",
    "    \"\"\" This function is crawling information of oneroom from zigbang\n",
    "    \n",
    "    Params\n",
    "    ------\n",
    "    addr : str : address\n",
    "    \n",
    "    Return\n",
    "    ------\n",
    "    type : DataFrame : display item_id, sales_type, deposit, rent, size_m2, address1, manage_cost columns\n",
    "    \n",
    "    \"\"\"\n",
    "    \n",
    "    # 1. 동이름 > 위도, 경도\n",
    "    url = f\"https://apis.zigbang.com/v2/search?leaseYn=N&q={addr}&serviceType=원룸\"\n",
    "    response = requests.get(url)\n",
    "    \n",
    "    data = response.json()['items'][0]\n",
    "    lat, lng = data['lat'], data['lng']\n",
    "    \n",
    "    # 2. 위도, 경도 > geohash(영역) 변환\n",
    "    geohash = geohash2.encode(lat, lng, precision=5)\n",
    "    \n",
    "    # 3. geohash > 매물 아이디\n",
    "    url = f\"https://apis.zigbang.com/v2/items?deposit_gteq=0&domain=zigbang\\\n",
    "&geohash={geohash}&needHasNoFiltered=true&rent_gteq=0&sales_type_in=전세|월세&service_type_eq=원룸\"\n",
    "\n",
    "    response = requests.get(url)\n",
    "    \n",
    "    items = response.json()['items']\n",
    "    ids = [item['item_id'] for item in items]\n",
    "    \n",
    "    # 4. 매물 아이디 > 매물 정보\n",
    "    url = \"https://apis.zigbang.com/v2/items/list\"\n",
    "    params = {\n",
    "        \"domain\" : \"zigbang\",\n",
    "        \"withCoalition\": \"true\",\n",
    "        \"item_ids\" : ids[:900]\n",
    "    }\n",
    "    response = requests.post(url, params)\n",
    "    \n",
    "    items = response.json()[\"items\"]\n",
    "    columns = [\"item_id\", \"sales_type\", \"deposit\", \"rent\", \"size_m2\", \"address1\", \"manage_cost\"]\n",
    "    \n",
    "    return pd.DataFrame(items)[columns]\n",
    "    "
   ]
  },
  {
   "cell_type": "code",
   "execution_count": 69,
   "id": "d827d21c-835e-4c0a-b6cd-9b465e0fd2b7",
   "metadata": {},
   "outputs": [],
   "source": [
    "import zigbang as zb"
   ]
  },
  {
   "cell_type": "code",
   "execution_count": 70,
   "id": "06963904-8671-47de-8ea2-40e8a18f2d8c",
   "metadata": {},
   "outputs": [
    {
     "data": {
      "text/html": [
       "<div>\n",
       "<style scoped>\n",
       "    .dataframe tbody tr th:only-of-type {\n",
       "        vertical-align: middle;\n",
       "    }\n",
       "\n",
       "    .dataframe tbody tr th {\n",
       "        vertical-align: top;\n",
       "    }\n",
       "\n",
       "    .dataframe thead th {\n",
       "        text-align: right;\n",
       "    }\n",
       "</style>\n",
       "<table border=\"1\" class=\"dataframe\">\n",
       "  <thead>\n",
       "    <tr style=\"text-align: right;\">\n",
       "      <th></th>\n",
       "      <th>item_id</th>\n",
       "      <th>sales_type</th>\n",
       "      <th>deposit</th>\n",
       "      <th>rent</th>\n",
       "      <th>size_m2</th>\n",
       "      <th>address1</th>\n",
       "      <th>manage_cost</th>\n",
       "    </tr>\n",
       "  </thead>\n",
       "  <tbody>\n",
       "    <tr>\n",
       "      <th>744</th>\n",
       "      <td>32862490</td>\n",
       "      <td>전세</td>\n",
       "      <td>43000</td>\n",
       "      <td>0</td>\n",
       "      <td>31.74</td>\n",
       "      <td>서울시 마포구 중동</td>\n",
       "      <td>5</td>\n",
       "    </tr>\n",
       "    <tr>\n",
       "      <th>745</th>\n",
       "      <td>32866975</td>\n",
       "      <td>월세</td>\n",
       "      <td>3000</td>\n",
       "      <td>90</td>\n",
       "      <td>49.59</td>\n",
       "      <td>서울시 마포구 중동</td>\n",
       "      <td>2</td>\n",
       "    </tr>\n",
       "  </tbody>\n",
       "</table>\n",
       "</div>"
      ],
      "text/plain": [
       "      item_id sales_type  deposit  rent  size_m2    address1 manage_cost\n",
       "744  32862490         전세    43000     0    31.74  서울시 마포구 중동           5\n",
       "745  32866975         월세     3000    90    49.59  서울시 마포구 중동           2"
      ]
     },
     "execution_count": 70,
     "metadata": {},
     "output_type": "execute_result"
    }
   ],
   "source": [
    "df = zb.oneroom(\"망원동\")\n",
    "df.tail(2)"
   ]
  },
  {
   "cell_type": "code",
   "execution_count": 71,
   "id": "6db68b2e-aecf-44aa-a902-4d60d4b78be0",
   "metadata": {},
   "outputs": [
    {
     "name": "stdout",
     "output_type": "stream",
     "text": [
      "Variable      Type         Data/Info\n",
      "------------------------------------\n",
      "ab            module       <module 'zigbang' from 'C<...>20803\\\\code\\\\zigbang.py'>\n",
      "addr          str          마포구 합정동\n",
      "addr1         str          마포구 합정동\n",
      "columns       list         n=7\n",
      "data          dict         n=13\n",
      "df            DataFrame          item_id sales_type <...>n\\n[746 rows x 7 columns]\n",
      "df_filtered   DataFrame         item_id sales_type  <...>n\\n[100 rows x 7 columns]\n",
      "geohash       str          wydm6\n",
      "geohash2      module       <module 'geohash2' from '<...>\\\\geohash2\\\\__init__.py'>\n",
      "ids           list         n=2344\n",
      "items         list         n=900\n",
      "lat           float        37.495365142822266\n",
      "lng           float        127.03306579589844\n",
      "oneroom       function     <function oneroom at 0x000002A7949A6DC0>\n",
      "params        dict         n=3\n",
      "pd            module       <module 'pandas' from 'C:<...>es\\\\pandas\\\\__init__.py'>\n",
      "requests      module       <module 'requests' from '<...>\\\\requests\\\\__init__.py'>\n",
      "response      Response     <Response [200]>\n",
      "url           str          https://apis.zigbang.com/v2/items/list\n",
      "zb            module       <module 'zigbang' from 'C<...>20803\\\\code\\\\zigbang.py'>\n"
     ]
    }
   ],
   "source": [
    "%whos #현재 사용하고 있는 변수목록\n",
    "%reset #변수 초기화"
   ]
  },
  {
   "cell_type": "code",
   "execution_count": null,
   "id": "62d9a3d7-bcb1-4ad5-b49b-8a3747fadd89",
   "metadata": {},
   "outputs": [],
   "source": []
  }
 ],
 "metadata": {
  "kernelspec": {
   "display_name": "Python 3",
   "language": "python",
   "name": "python3"
  },
  "language_info": {
   "codemirror_mode": {
    "name": "ipython",
    "version": 3
   },
   "file_extension": ".py",
   "mimetype": "text/x-python",
   "name": "python",
   "nbconvert_exporter": "python",
   "pygments_lexer": "ipython3",
   "version": "3.8.8"
  }
 },
 "nbformat": 4,
 "nbformat_minor": 5
}
