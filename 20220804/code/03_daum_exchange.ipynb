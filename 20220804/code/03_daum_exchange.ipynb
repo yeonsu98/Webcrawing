{
 "cells": [
  {
   "cell_type": "markdown",
   "id": "cee934b7-2af4-484e-8ab8-e3e36f1584d5",
   "metadata": {},
   "source": [
    "#### Daum Exchange\n",
    "- 환율 정보 수집\n",
    "- headers :\n",
    "- https://finance.daum.net/exchanges"
   ]
  },
  {
   "cell_type": "code",
   "execution_count": 2,
   "id": "15eb4d7a-8772-4856-9eda-c39afe224596",
   "metadata": {},
   "outputs": [],
   "source": [
    "import pandas as pd\n",
    "import requests"
   ]
  },
  {
   "cell_type": "code",
   "execution_count": null,
   "id": "f00f0608-75ca-4268-8601-50f9a10aec17",
   "metadata": {},
   "outputs": [],
   "source": [
    "# 1. 웹서비스 분석 : URL"
   ]
  },
  {
   "cell_type": "code",
   "execution_count": 4,
   "id": "b6cfe855-916e-461f-b0f6-68f713d10cfc",
   "metadata": {},
   "outputs": [],
   "source": [
    "url = \"https://finance.daum.net/api/exchanges/summaries\""
   ]
  },
  {
   "cell_type": "code",
   "execution_count": 5,
   "id": "e3af4107-d7ed-49a2-9754-488d1044836a",
   "metadata": {},
   "outputs": [],
   "source": [
    "# 2. requests > response : JSON(str)"
   ]
  },
  {
   "cell_type": "code",
   "execution_count": 13,
   "id": "23244a0f-1174-4959-a3b6-fd95678efd03",
   "metadata": {},
   "outputs": [],
   "source": [
    "headers = { # 보통 cookie, referer, **user-agent**\n",
    "    \"user-agent\": \"Mozilla/5.0 (Windows NT 10.0; Win64; x64) AppleWebKit/537.36 (KHTML, like Gecko) Chrome/103.0.0.0 Safari/537.36\",\n",
    "    \"referer\": \"https://finance.daum.net/exchanges\", # 무조건 , 해주는게 좋음!\n",
    "}"
   ]
  },
  {
   "cell_type": "code",
   "execution_count": 14,
   "id": "d003ee98-b03c-40e6-aeb5-552e7367e4e0",
   "metadata": {},
   "outputs": [
    {
     "data": {
      "text/plain": [
       "<Response [200]>"
      ]
     },
     "execution_count": 14,
     "metadata": {},
     "output_type": "execute_result"
    }
   ],
   "source": [
    "response = requests.get(url, headers=headers)\n",
    "response #headers를 추가해주자! (보통 user_agent 먼저 해보자 => 설정 안해주면 파이썬으로 떠서 정상적인 사용자가 아니라고 판단)"
   ]
  },
  {
   "cell_type": "code",
   "execution_count": null,
   "id": "ae87389e-015d-451b-8e0b-e105959d5e17",
   "metadata": {},
   "outputs": [],
   "source": [
    "#. JSON(str) > DataFrame"
   ]
  },
  {
   "cell_type": "code",
   "execution_count": 19,
   "id": "69363e22-8a09-4f06-a156-e0b5831eab2c",
   "metadata": {},
   "outputs": [
    {
     "data": {
      "text/html": [
       "<div>\n",
       "<style scoped>\n",
       "    .dataframe tbody tr th:only-of-type {\n",
       "        vertical-align: middle;\n",
       "    }\n",
       "\n",
       "    .dataframe tbody tr th {\n",
       "        vertical-align: top;\n",
       "    }\n",
       "\n",
       "    .dataframe thead th {\n",
       "        text-align: right;\n",
       "    }\n",
       "</style>\n",
       "<table border=\"1\" class=\"dataframe\">\n",
       "  <thead>\n",
       "    <tr style=\"text-align: right;\">\n",
       "      <th></th>\n",
       "      <th>symbolCode</th>\n",
       "      <th>currencyCode</th>\n",
       "      <th>basePrice</th>\n",
       "    </tr>\n",
       "  </thead>\n",
       "  <tbody>\n",
       "    <tr>\n",
       "      <th>40</th>\n",
       "      <td>FRX.KRWQAR</td>\n",
       "      <td>QAR</td>\n",
       "      <td>357.82</td>\n",
       "    </tr>\n",
       "    <tr>\n",
       "      <th>41</th>\n",
       "      <td>FRX.KRWTRY</td>\n",
       "      <td>TRY</td>\n",
       "      <td>73.04</td>\n",
       "    </tr>\n",
       "  </tbody>\n",
       "</table>\n",
       "</div>"
      ],
      "text/plain": [
       "    symbolCode currencyCode  basePrice\n",
       "40  FRX.KRWQAR          QAR     357.82\n",
       "41  FRX.KRWTRY          TRY      73.04"
      ]
     },
     "execution_count": 19,
     "metadata": {},
     "output_type": "execute_result"
    }
   ],
   "source": [
    "data = response.json()[\"data\"]\n",
    "df = pd.DataFrame(data)[[\"symbolCode\", \"currencyCode\", \"basePrice\"]]\n",
    "df.tail(2)"
   ]
  },
  {
   "cell_type": "code",
   "execution_count": null,
   "id": "fa06e814-b903-49a6-b4d4-4f1fda17d6e3",
   "metadata": {},
   "outputs": [],
   "source": []
  }
 ],
 "metadata": {
  "kernelspec": {
   "display_name": "Python 3",
   "language": "python",
   "name": "python3"
  },
  "language_info": {
   "codemirror_mode": {
    "name": "ipython",
    "version": 3
   },
   "file_extension": ".py",
   "mimetype": "text/x-python",
   "name": "python",
   "nbconvert_exporter": "python",
   "pygments_lexer": "ipython3",
   "version": "3.8.8"
  }
 },
 "nbformat": 4,
 "nbformat_minor": 5
}
