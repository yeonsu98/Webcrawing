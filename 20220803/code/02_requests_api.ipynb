{
 "cells": [
  {
   "cell_type": "markdown",
   "id": "b4df90d8-0139-4149-9132-2cd83cbbafae",
   "metadata": {},
   "source": [
    "### API\n",
    "- application programing interface\n",
    "- api를 사용해서 데이터를 수집하는 것은 서비스에 데이터를 제공하는 공식적인 방법으로 데이터 수집\n",
    "- naver api : papago api : 네이버 제공 번역 서비스"
   ]
  },
  {
   "cell_type": "code",
   "execution_count": 1,
   "id": "eb8926f5-3316-4274-9652-3a5a4a07c533",
   "metadata": {},
   "outputs": [],
   "source": [
    "import pandas as pd\n",
    "import requests, json"
   ]
  },
  {
   "cell_type": "code",
   "execution_count": 2,
   "id": "7954de9e-9d2b-464a-b37d-f9d25998c89d",
   "metadata": {},
   "outputs": [],
   "source": [
    "# 1. APP 등록 > app_key 수집(request_token)\n",
    "# https://developers.naver.com"
   ]
  },
  {
   "cell_type": "code",
   "execution_count": 12,
   "id": "beb442dc-3c77-4151-b679-1ef9a1f20f28",
   "metadata": {},
   "outputs": [],
   "source": [
    "CLIENT_ID, CLIENT_SECRET = \"3IggRLfWgbei77lDntce\", \"cmsf8eaQPA\""
   ]
  },
  {
   "cell_type": "code",
   "execution_count": 13,
   "id": "519a5544-8c43-45ef-a42f-13b6d9f6174f",
   "metadata": {},
   "outputs": [],
   "source": [
    "# 2. Naver api Document 확인 > URL"
   ]
  },
  {
   "cell_type": "code",
   "execution_count": 14,
   "id": "61749c3c-6ded-4275-9e1e-96783aaeed59",
   "metadata": {},
   "outputs": [],
   "source": [
    "txt = \"파이썬은 재미있습니다.\"\n",
    "url = \"https://openapi.naver.com/v1/papago/n2mt\"\n",
    "params = {\n",
    "    \"source\" : \"ko\",\n",
    "    \"target\": \"en\",\n",
    "    \"text\" : txt\n",
    "}\n",
    "headers = {\n",
    "    \"Content-Type\" : \"application/json\",\n",
    "    \"X-Naver-Client-Id\": CLIENT_ID,\n",
    "    \"X-Naver-Client-Secret\": CLIENT_SECRET,\n",
    "}"
   ]
  },
  {
   "cell_type": "code",
   "execution_count": 15,
   "id": "5052e3b1-7495-4d26-8531-337ad34c1f29",
   "metadata": {},
   "outputs": [],
   "source": [
    "# 3. request(url, app_key) > response(json) : JSON(str)"
   ]
  },
  {
   "cell_type": "code",
   "execution_count": 16,
   "id": "efcb4484-2886-4b68-92f3-95b8f8331c32",
   "metadata": {},
   "outputs": [],
   "source": [
    "# json.dumps() : 인터넷 트래픽에서는 영문, 숫자, 특수문자만 사용가능\n",
    "# 한글과 같은 문자를 인코딩(영문, 숫자, 특수문자로 변환해줌)"
   ]
  },
  {
   "cell_type": "code",
   "execution_count": 17,
   "id": "30dd3bfd-7b32-4e36-b931-73b152c9b9f5",
   "metadata": {},
   "outputs": [
    {
     "data": {
      "text/plain": [
       "'{\"message\":{\"result\":{\"srcLangType\":\"ko\",\"tarLangType\":\"en\",\"translatedText\":\"Python is fun.\",\"engineType\":\"N2MT\",\"pivot\":null,\"dict\":null,\"tarDict\":null},\"@type\":\"response\",\"@service\":\"naverservice.n'"
      ]
     },
     "execution_count": 17,
     "metadata": {},
     "output_type": "execute_result"
    }
   ],
   "source": [
    "response = requests.post(url, json.dumps(params), headers=headers)\n",
    "response.text[:200]"
   ]
  },
  {
   "cell_type": "code",
   "execution_count": 18,
   "id": "c64b745a-4078-4420-bd16-6750aeffc9a9",
   "metadata": {},
   "outputs": [],
   "source": [
    "# 4. JSON(str) > list, dict > dataFrame"
   ]
  },
  {
   "cell_type": "code",
   "execution_count": 20,
   "id": "e7cdf244-16a0-4d14-a2a5-6e05eec71b30",
   "metadata": {},
   "outputs": [],
   "source": [
    "txt_en = response.json()[\"message\"][\"result\"][\"translatedText\"]"
   ]
  },
  {
   "cell_type": "code",
   "execution_count": null,
   "id": "8012a912-f35f-41b6-9661-89be16726843",
   "metadata": {},
   "outputs": [],
   "source": [
    "# 5. 함수로 작성"
   ]
  },
  {
   "cell_type": "code",
   "execution_count": 21,
   "id": "5086dd4e-7875-42c0-9454-ba951115e327",
   "metadata": {},
   "outputs": [],
   "source": [
    "def translate(txt):\n",
    "\n",
    "    CLIENT_ID, CLIENT_SECRET = \"3IggRLfWgbei77lDntce\", \"cmsf8eaQPA\"\n",
    "    url = \"https://openapi.naver.com/v1/papago/n2mt\"\n",
    "    \n",
    "    params = {\n",
    "        \"source\" : \"ko\",\n",
    "        \"target\": \"en\",\n",
    "        \"text\" : txt\n",
    "    }\n",
    "    \n",
    "    headers = {\n",
    "        \"Content-Type\" : \"application/json\",\n",
    "        \"X-Naver-Client-Id\": CLIENT_ID,\n",
    "        \"X-Naver-Client-Secret\": CLIENT_SECRET,\n",
    "    }\n",
    "    \n",
    "    response = requests.post(url, json.dumps(params), headers=headers)\n",
    "    txt_en = response.json()[\"message\"][\"result\"][\"translatedText\"]\n",
    "    \n",
    "    return txt_en"
   ]
  },
  {
   "cell_type": "code",
   "execution_count": 22,
   "id": "9c310703-ddf6-4043-ae9d-04e520c57983",
   "metadata": {},
   "outputs": [
    {
     "data": {
      "text/plain": [
       "'Web crawling is fun.'"
      ]
     },
     "execution_count": 22,
     "metadata": {},
     "output_type": "execute_result"
    }
   ],
   "source": [
    "txt = \"웹크롤링은 재미있습니다.\"\n",
    "txt_en = translate(txt)\n",
    "txt_en"
   ]
  },
  {
   "cell_type": "code",
   "execution_count": 23,
   "id": "8630820f-3ea1-4071-bea9-6d4538499ba4",
   "metadata": {},
   "outputs": [],
   "source": [
    "# 6. 한글 엑셀 파일을 영문으로 "
   ]
  },
  {
   "cell_type": "code",
   "execution_count": 24,
   "id": "7cfd3eee-15f6-4fa5-a167-61691d555cfa",
   "metadata": {},
   "outputs": [
    {
     "name": "stdout",
     "output_type": "stream",
     "text": [
      " C 드라이브의 볼륨에는 이름이 없습니다.\n",
      " 볼륨 일련 번호: 7C6C-FC35\n",
      "\n",
      " C:\\Users\\User\\Webcrawing\\20220803\\code 디렉터리\n",
      "\n",
      "2022-08-03  오후 04:52    <DIR>          .\n",
      "2022-08-03  오후 04:52    <DIR>          ..\n",
      "2022-08-03  오후 03:41    <DIR>          .ipynb_checkpoints\n",
      "2022-08-03  오후 03:37            33,157 01_requests_naver_stock.ipynb\n",
      "2022-08-03  오후 04:52            15,564 02_requests_api.ipynb\n",
      "2022-08-03  오후 04:45            10,060 covid.xlsx\n",
      "               3개 파일              58,781 바이트\n",
      "               3개 디렉터리  134,408,421,376 바이트 남음\n"
     ]
    }
   ],
   "source": [
    "%ls"
   ]
  },
  {
   "cell_type": "code",
   "execution_count": 25,
   "id": "7b9e7d57-31ef-446e-9a0c-11651df73ec6",
   "metadata": {},
   "outputs": [
    {
     "data": {
      "text/html": [
       "<div>\n",
       "<style scoped>\n",
       "    .dataframe tbody tr th:only-of-type {\n",
       "        vertical-align: middle;\n",
       "    }\n",
       "\n",
       "    .dataframe tbody tr th {\n",
       "        vertical-align: top;\n",
       "    }\n",
       "\n",
       "    .dataframe thead th {\n",
       "        text-align: right;\n",
       "    }\n",
       "</style>\n",
       "<table border=\"1\" class=\"dataframe\">\n",
       "  <thead>\n",
       "    <tr style=\"text-align: right;\">\n",
       "      <th></th>\n",
       "      <th>category</th>\n",
       "      <th>title</th>\n",
       "    </tr>\n",
       "  </thead>\n",
       "  <tbody>\n",
       "    <tr>\n",
       "      <th>4</th>\n",
       "      <td>104</td>\n",
       "      <td>\"코로나 확진자 '0명'인 날은 절대 오지 않는다\" 美전문가</td>\n",
       "    </tr>\n",
       "    <tr>\n",
       "      <th>5</th>\n",
       "      <td>104</td>\n",
       "      <td>올림픽 다가오는데 도쿄 코로나 확산 빨라져...일주일새 25％↑</td>\n",
       "    </tr>\n",
       "  </tbody>\n",
       "</table>\n",
       "</div>"
      ],
      "text/plain": [
       "   category                                title\n",
       "4       104    \"코로나 확진자 '0명'인 날은 절대 오지 않는다\" 美전문가\n",
       "5       104  올림픽 다가오는데 도쿄 코로나 확산 빨라져...일주일새 25％↑"
      ]
     },
     "execution_count": 25,
     "metadata": {},
     "output_type": "execute_result"
    }
   ],
   "source": [
    "covid = pd.read_excel(\"covid.xlsx\")[[\"category\", \"title\"]]\n",
    "covid.tail(2)"
   ]
  },
  {
   "cell_type": "code",
   "execution_count": 26,
   "id": "24f0ade8-8631-432f-9297-ac501d30fa7d",
   "metadata": {},
   "outputs": [],
   "source": [
    "covid_en = covid[\"title\"].apply(translate)"
   ]
  },
  {
   "cell_type": "code",
   "execution_count": 28,
   "id": "e9c25438-24b0-42fa-9e56-d070c6793da7",
   "metadata": {},
   "outputs": [
    {
     "data": {
      "text/html": [
       "<div>\n",
       "<style scoped>\n",
       "    .dataframe tbody tr th:only-of-type {\n",
       "        vertical-align: middle;\n",
       "    }\n",
       "\n",
       "    .dataframe tbody tr th {\n",
       "        vertical-align: top;\n",
       "    }\n",
       "\n",
       "    .dataframe thead th {\n",
       "        text-align: right;\n",
       "    }\n",
       "</style>\n",
       "<table border=\"1\" class=\"dataframe\">\n",
       "  <thead>\n",
       "    <tr style=\"text-align: right;\">\n",
       "      <th></th>\n",
       "      <th>category</th>\n",
       "      <th>title</th>\n",
       "      <th>title_en</th>\n",
       "    </tr>\n",
       "  </thead>\n",
       "  <tbody>\n",
       "    <tr>\n",
       "      <th>0</th>\n",
       "      <td>101</td>\n",
       "      <td>SK바이오사이언스, 코로나19 백신 임상 3상 시험계획 제출</td>\n",
       "      <td>SK Bioscience Submits Phase III Clinical Trial...</td>\n",
       "    </tr>\n",
       "    <tr>\n",
       "      <th>1</th>\n",
       "      <td>102</td>\n",
       "      <td>고양시 노래연습장 코로나19 누적확진 41명</td>\n",
       "      <td>41 cumulative COVID-19 confirmed patients at G...</td>\n",
       "    </tr>\n",
       "    <tr>\n",
       "      <th>2</th>\n",
       "      <td>103</td>\n",
       "      <td>코로나19 신규 감염, 28일 오후 9시까지 542명</td>\n",
       "      <td>New COVID-19 infections, 542 people by 9 p.m. ...</td>\n",
       "    </tr>\n",
       "    <tr>\n",
       "      <th>3</th>\n",
       "      <td>103</td>\n",
       "      <td>프로야구 수도권 구단서 코로나19 확진자 발생</td>\n",
       "      <td>Covid-19 confirmed cases in professional baseb...</td>\n",
       "    </tr>\n",
       "    <tr>\n",
       "      <th>4</th>\n",
       "      <td>104</td>\n",
       "      <td>\"코로나 확진자 '0명'인 날은 절대 오지 않는다\" 美전문가</td>\n",
       "      <td>\"The day when there are zero confirmed cases o...</td>\n",
       "    </tr>\n",
       "    <tr>\n",
       "      <th>5</th>\n",
       "      <td>104</td>\n",
       "      <td>올림픽 다가오는데 도쿄 코로나 확산 빨라져...일주일새 25％↑</td>\n",
       "      <td>As the Olympics are approaching, the spread of...</td>\n",
       "    </tr>\n",
       "  </tbody>\n",
       "</table>\n",
       "</div>"
      ],
      "text/plain": [
       "   category                                title  \\\n",
       "0       101    SK바이오사이언스, 코로나19 백신 임상 3상 시험계획 제출   \n",
       "1       102             고양시 노래연습장 코로나19 누적확진 41명   \n",
       "2       103        코로나19 신규 감염, 28일 오후 9시까지 542명   \n",
       "3       103            프로야구 수도권 구단서 코로나19 확진자 발생   \n",
       "4       104    \"코로나 확진자 '0명'인 날은 절대 오지 않는다\" 美전문가   \n",
       "5       104  올림픽 다가오는데 도쿄 코로나 확산 빨라져...일주일새 25％↑   \n",
       "\n",
       "                                            title_en  \n",
       "0  SK Bioscience Submits Phase III Clinical Trial...  \n",
       "1  41 cumulative COVID-19 confirmed patients at G...  \n",
       "2  New COVID-19 infections, 542 people by 9 p.m. ...  \n",
       "3  Covid-19 confirmed cases in professional baseb...  \n",
       "4  \"The day when there are zero confirmed cases o...  \n",
       "5  As the Olympics are approaching, the spread of...  "
      ]
     },
     "execution_count": 28,
     "metadata": {},
     "output_type": "execute_result"
    }
   ],
   "source": [
    "covid['title_en'] = covid_en\n",
    "covid"
   ]
  },
  {
   "cell_type": "code",
   "execution_count": 29,
   "id": "253c2d18-839f-46e7-a9cf-14630d84423d",
   "metadata": {},
   "outputs": [],
   "source": [
    "covid.to_excel(\"covid_en.xlsx\", index=False, encoding=\"utf-8-sig\")"
   ]
  },
  {
   "cell_type": "code",
   "execution_count": null,
   "id": "077eba8e-fbd0-4eb9-8a08-7a20ac26bf76",
   "metadata": {},
   "outputs": [],
   "source": [
    "# 함수 : Scope\n",
    "# 변수를 선언할 때 함수 밖에서 선언하는 것과 함수 안에서 선언하는 변수의 메모리 저장공간이 다름\n",
    "# 전역(global)영역 : 함수 밖의 영역\n",
    "# 지역(local)영역 : 함수 안의 영역\n",
    "# global : 지역 영역에서 전역영역에 있는 변수를 가져올 때 사용"
   ]
  },
  {
   "cell_type": "code",
   "execution_count": 33,
   "id": "a87f0075-d229-4c6d-9704-85a1e664d2ae",
   "metadata": {},
   "outputs": [
    {
     "name": "stdout",
     "output_type": "stream",
     "text": [
      "20\n"
     ]
    }
   ],
   "source": [
    "data = 10\n",
    "\n",
    "def change():\n",
    "    global data # 전역영역에 있는 data를 지역영역으로 가져옴\n",
    "    data = 20\n",
    "    \n",
    "change()\n",
    "print(data)"
   ]
  },
  {
   "cell_type": "code",
   "execution_count": null,
   "id": "1f77c9fd-ed87-41fd-be11-afbe0bb542d2",
   "metadata": {},
   "outputs": [],
   "source": [
    "# 실습 과제\n",
    "# https://finance.daum.net/exchanges\n",
    "# headers : referer, user-agent 설정"
   ]
  },
  {
   "cell_type": "code",
   "execution_count": 39,
   "id": "7de1352e-7e1e-498c-8352-61d43c80967f",
   "metadata": {},
   "outputs": [],
   "source": [
    "import pandas as pd\n",
    "import requests"
   ]
  },
  {
   "cell_type": "code",
   "execution_count": 51,
   "id": "a6ec976e-da8c-40f0-a777-5dc0a67fa827",
   "metadata": {},
   "outputs": [],
   "source": [
    "headers = {\n",
    "    \"user-agent\": \"user-agent: Mozilla/5.0 (Macintosh; Intel Mac OS X 10_15_7) AppleWebKit/537.36 (KHTML, like Gecko) Chrome/103.0.0.0 Safari/537.36\",\n",
    "    \"referer\": \"https://finance.daum.net/exchanges\",\n",
    "}\n",
    "url = \"https://finance.daum.net/api/exchanges/summaries\""
   ]
  },
  {
   "cell_type": "code",
   "execution_count": 52,
   "id": "2abe49ff-cc98-48a6-b33d-409e4b5538bf",
   "metadata": {},
   "outputs": [
    {
     "data": {
      "text/plain": [
       "'{\"data\":[{\"symbolCode\":\"FRX.KRWUSD\",\"date\":\"2022-08-03 17:07:12\",\"currencyCode\":\"USD\",\"currencyName\":\"달러\",\"currencyUnit\":1,\"country\":\"미국\",\"region\":{\"korName\":\"아메리카\",\"engName\":\"America\"},\"name\":\"미국 (KR'"
      ]
     },
     "execution_count": 52,
     "metadata": {},
     "output_type": "execute_result"
    }
   ],
   "source": [
    "response = requests.get(url, headers=headers)\n",
    "response.text[:200]"
   ]
  },
  {
   "cell_type": "code",
   "execution_count": 54,
   "id": "8cf7b41c-6d3c-4be2-9a26-34605e081b5d",
   "metadata": {},
   "outputs": [
    {
     "data": {
      "text/html": [
       "<div>\n",
       "<style scoped>\n",
       "    .dataframe tbody tr th:only-of-type {\n",
       "        vertical-align: middle;\n",
       "    }\n",
       "\n",
       "    .dataframe tbody tr th {\n",
       "        vertical-align: top;\n",
       "    }\n",
       "\n",
       "    .dataframe thead th {\n",
       "        text-align: right;\n",
       "    }\n",
       "</style>\n",
       "<table border=\"1\" class=\"dataframe\">\n",
       "  <thead>\n",
       "    <tr style=\"text-align: right;\">\n",
       "      <th></th>\n",
       "      <th>symbolCode</th>\n",
       "      <th>date</th>\n",
       "      <th>currencyCode</th>\n",
       "      <th>currencyName</th>\n",
       "      <th>currencyUnit</th>\n",
       "      <th>country</th>\n",
       "      <th>region</th>\n",
       "      <th>name</th>\n",
       "      <th>recurrenceCount</th>\n",
       "      <th>basePrice</th>\n",
       "      <th>...</th>\n",
       "      <th>changeRate</th>\n",
       "      <th>cashBuyingPrice</th>\n",
       "      <th>cashSellingPrice</th>\n",
       "      <th>ttBuyingPrice</th>\n",
       "      <th>ttSellingPrice</th>\n",
       "      <th>tcBuyingPrice</th>\n",
       "      <th>fcSellingPrice</th>\n",
       "      <th>exchangeCommission</th>\n",
       "      <th>usDollarRate</th>\n",
       "      <th>chartImageUrl</th>\n",
       "    </tr>\n",
       "  </thead>\n",
       "  <tbody>\n",
       "    <tr>\n",
       "      <th>0</th>\n",
       "      <td>FRX.KRWUSD</td>\n",
       "      <td>2022-08-03 17:07:12</td>\n",
       "      <td>USD</td>\n",
       "      <td>달러</td>\n",
       "      <td>1</td>\n",
       "      <td>미국</td>\n",
       "      <td>{'korName': '아메리카', 'engName': 'America'}</td>\n",
       "      <td>미국 (KRW/USD)</td>\n",
       "      <td>416</td>\n",
       "      <td>1311.5</td>\n",
       "      <td>...</td>\n",
       "      <td>0.000381</td>\n",
       "      <td>1334.45</td>\n",
       "      <td>1288.55</td>\n",
       "      <td>1298.7</td>\n",
       "      <td>1324.3</td>\n",
       "      <td>None</td>\n",
       "      <td>None</td>\n",
       "      <td>4.1352</td>\n",
       "      <td>1.0</td>\n",
       "      <td>{'day': 'https://t1.daumcdn.net/finance/chart/...</td>\n",
       "    </tr>\n",
       "  </tbody>\n",
       "</table>\n",
       "<p>1 rows × 22 columns</p>\n",
       "</div>"
      ],
      "text/plain": [
       "   symbolCode                 date currencyCode currencyName  currencyUnit  \\\n",
       "0  FRX.KRWUSD  2022-08-03 17:07:12          USD           달러             1   \n",
       "\n",
       "  country                                     region          name  \\\n",
       "0      미국  {'korName': '아메리카', 'engName': 'America'}  미국 (KRW/USD)   \n",
       "\n",
       "   recurrenceCount  basePrice  ... changeRate  cashBuyingPrice  \\\n",
       "0              416     1311.5  ...   0.000381          1334.45   \n",
       "\n",
       "   cashSellingPrice  ttBuyingPrice  ttSellingPrice  tcBuyingPrice  \\\n",
       "0           1288.55         1298.7          1324.3           None   \n",
       "\n",
       "   fcSellingPrice exchangeCommission usDollarRate  \\\n",
       "0            None             4.1352          1.0   \n",
       "\n",
       "                                       chartImageUrl  \n",
       "0  {'day': 'https://t1.daumcdn.net/finance/chart/...  \n",
       "\n",
       "[1 rows x 22 columns]"
      ]
     },
     "execution_count": 54,
     "metadata": {},
     "output_type": "execute_result"
    }
   ],
   "source": [
    "data = response.json()['data']\n",
    "df = pd.DataFrame(data)\n",
    "df.head(1)"
   ]
  },
  {
   "cell_type": "code",
   "execution_count": 55,
   "id": "cffc5b40-ef73-4fd9-832f-135a7a60b1a1",
   "metadata": {},
   "outputs": [
    {
     "data": {
      "text/html": [
       "<div>\n",
       "<style scoped>\n",
       "    .dataframe tbody tr th:only-of-type {\n",
       "        vertical-align: middle;\n",
       "    }\n",
       "\n",
       "    .dataframe tbody tr th {\n",
       "        vertical-align: top;\n",
       "    }\n",
       "\n",
       "    .dataframe thead th {\n",
       "        text-align: right;\n",
       "    }\n",
       "</style>\n",
       "<table border=\"1\" class=\"dataframe\">\n",
       "  <thead>\n",
       "    <tr style=\"text-align: right;\">\n",
       "      <th></th>\n",
       "      <th>date</th>\n",
       "      <th>currencyCode</th>\n",
       "      <th>currencyName</th>\n",
       "      <th>country</th>\n",
       "      <th>name</th>\n",
       "      <th>basePrice</th>\n",
       "    </tr>\n",
       "  </thead>\n",
       "  <tbody>\n",
       "    <tr>\n",
       "      <th>0</th>\n",
       "      <td>2022-08-03 17:07:12</td>\n",
       "      <td>USD</td>\n",
       "      <td>달러</td>\n",
       "      <td>미국</td>\n",
       "      <td>미국 (KRW/USD)</td>\n",
       "      <td>1311.50</td>\n",
       "    </tr>\n",
       "    <tr>\n",
       "      <th>1</th>\n",
       "      <td>2022-08-03 17:07:12</td>\n",
       "      <td>JPY</td>\n",
       "      <td>엔</td>\n",
       "      <td>일본</td>\n",
       "      <td>일본 (KRW/JPY100)</td>\n",
       "      <td>985.24</td>\n",
       "    </tr>\n",
       "    <tr>\n",
       "      <th>2</th>\n",
       "      <td>2022-08-03 17:07:11</td>\n",
       "      <td>CNY</td>\n",
       "      <td>위안</td>\n",
       "      <td>중국</td>\n",
       "      <td>중국 (KRW/CNY)</td>\n",
       "      <td>193.87</td>\n",
       "    </tr>\n",
       "    <tr>\n",
       "      <th>3</th>\n",
       "      <td>2022-08-03 17:07:11</td>\n",
       "      <td>EUR</td>\n",
       "      <td>유로</td>\n",
       "      <td>유로</td>\n",
       "      <td>유로 (KRW/EUR)</td>\n",
       "      <td>1335.63</td>\n",
       "    </tr>\n",
       "    <tr>\n",
       "      <th>4</th>\n",
       "      <td>2022-08-03 17:07:11</td>\n",
       "      <td>GBP</td>\n",
       "      <td>파운드</td>\n",
       "      <td>영국</td>\n",
       "      <td>영국 (KRW/GBP)</td>\n",
       "      <td>1599.90</td>\n",
       "    </tr>\n",
       "  </tbody>\n",
       "</table>\n",
       "</div>"
      ],
      "text/plain": [
       "                  date currencyCode currencyName country             name  \\\n",
       "0  2022-08-03 17:07:12          USD           달러      미국     미국 (KRW/USD)   \n",
       "1  2022-08-03 17:07:12          JPY            엔      일본  일본 (KRW/JPY100)   \n",
       "2  2022-08-03 17:07:11          CNY           위안      중국     중국 (KRW/CNY)   \n",
       "3  2022-08-03 17:07:11          EUR           유로      유로     유로 (KRW/EUR)   \n",
       "4  2022-08-03 17:07:11          GBP          파운드      영국     영국 (KRW/GBP)   \n",
       "\n",
       "   basePrice  \n",
       "0    1311.50  \n",
       "1     985.24  \n",
       "2     193.87  \n",
       "3    1335.63  \n",
       "4    1599.90  "
      ]
     },
     "execution_count": 55,
     "metadata": {},
     "output_type": "execute_result"
    }
   ],
   "source": [
    "columns = [\"date\", \"currencyCode\", \"currencyName\", \"country\", \"name\", \"basePrice\"]\n",
    "df[columns].head()"
   ]
  },
  {
   "cell_type": "code",
   "execution_count": null,
   "id": "d841432f-d4aa-4ae7-8f90-d434408d76b3",
   "metadata": {},
   "outputs": [],
   "source": []
  }
 ],
 "metadata": {
  "kernelspec": {
   "display_name": "Python 3",
   "language": "python",
   "name": "python3"
  },
  "language_info": {
   "codemirror_mode": {
    "name": "ipython",
    "version": 3
   },
   "file_extension": ".py",
   "mimetype": "text/x-python",
   "name": "python",
   "nbconvert_exporter": "python",
   "pygments_lexer": "ipython3",
   "version": "3.8.8"
  }
 },
 "nbformat": 4,
 "nbformat_minor": 5
}
