{
 "cells": [
  {
   "cell_type": "markdown",
   "id": "26beb033-806c-4021-bca0-6207f3e836c1",
   "metadata": {},
   "source": [
    "### WebCrawing\n",
    "- 웹페이지의 종류\n",
    "    - 정적페이지 : 페이지의 데이터가 변경될 때 URL이 변경 : Html\n",
    "    - 동적페이지 : 페이지의 데이터가 변경될 때 URL이 변경 X : Json\n",
    "- requests package\n",
    "    - 브라우져의 URL을 입력하면 서버에서 데이터를 다운받아 화면에 출력 : URL입력 > Data 가져옴\n",
    "    - requests 패키지 : URL > Data\n",
    "    "
   ]
  },
  {
   "cell_type": "markdown",
   "id": "1c94567c-1fe0-4312-8efb-beda56af5046",
   "metadata": {},
   "source": [
    "### Naver Stock Data\n",
    "- Kospi 주가 지수\n",
    "- Kosdaq 주가 지수\n",
    "- USD : 원달러 환율 \n"
   ]
  },
  {
   "cell_type": "markdown",
   "id": "fd6155ac-57e7-4ece-ae08-1cb37b0eea82",
   "metadata": {
    "tags": []
   },
   "source": [
    "### KOSPI 데이터 수집 코드 작성"
   ]
  },
  {
   "cell_type": "code",
   "execution_count": 1,
   "id": "9e952a57-836e-4315-8c5d-7217dc188bbf",
   "metadata": {},
   "outputs": [],
   "source": [
    "# 필요한 패키지 import\n",
    "import requests\n",
    "import pandas as pd"
   ]
  },
  {
   "cell_type": "code",
   "execution_count": 2,
   "id": "16cfd2ee-e8a9-47b0-84f6-dc0e7b41c5cb",
   "metadata": {},
   "outputs": [],
   "source": [
    "# 1. ** 웹서비스를 분석 ** : 크롬 개발자도구 사용(트래픽 확인) > URL 얻음\n",
    "# https://m.stock.naver.com/"
   ]
  },
  {
   "cell_type": "code",
   "execution_count": 3,
   "id": "0733514e-06a4-48b5-aa87-89520ad30073",
   "metadata": {},
   "outputs": [],
   "source": [
    "url = \"https://m.stock.naver.com/api/index/KOSPI/price?pageSize=10&page=4\""
   ]
  },
  {
   "cell_type": "code",
   "execution_count": 4,
   "id": "0025302d-ecef-4558-be10-dd46e5742b3b",
   "metadata": {},
   "outputs": [],
   "source": [
    "# 2. requests > response : JSON(str)"
   ]
  },
  {
   "cell_type": "code",
   "execution_count": 5,
   "id": "7e5b8ff1-eca3-4d3c-a76a-a0e144fab106",
   "metadata": {},
   "outputs": [
    {
     "data": {
      "text/plain": [
       "<Response [200]>"
      ]
     },
     "execution_count": 5,
     "metadata": {},
     "output_type": "execute_result"
    }
   ],
   "source": [
    "response = requests.get(url)\n",
    "response"
   ]
  },
  {
   "cell_type": "code",
   "execution_count": 6,
   "id": "e9025335-97a0-4ac8-a4f3-2c76d6c0fec2",
   "metadata": {},
   "outputs": [
    {
     "data": {
      "text/plain": [
       "'[{\"localTradedAt\":\"2022-06-22\",\"closePrice\":\"2,342.81\",\"compareToPreviousClosePrice\":\"-66.12\",\"compareToPreviousPrice\":{\"code\":\"5\",\"text\":\"하락\",\"name\":\"FALLING\"},\"fluctuationsRatio\":\"-2.74\",\"openPrice\"'"
      ]
     },
     "execution_count": 6,
     "metadata": {},
     "output_type": "execute_result"
    }
   ],
   "source": [
    "response.text[:200]"
   ]
  },
  {
   "cell_type": "code",
   "execution_count": 7,
   "id": "37eee047-2647-4d67-aacc-a243428a0689",
   "metadata": {},
   "outputs": [],
   "source": [
    "# 3. JSON(str) > list, dict > DataFrame 출력"
   ]
  },
  {
   "cell_type": "code",
   "execution_count": 8,
   "id": "f47cf2fb-a86c-484b-866b-9b9ece12860a",
   "metadata": {},
   "outputs": [
    {
     "data": {
      "text/plain": [
       "(list,\n",
       " [{'localTradedAt': '2022-06-22',\n",
       "   'closePrice': '2,342.81',\n",
       "   'compareToPreviousClosePrice': '-66.12',\n",
       "   'compareToPreviousPrice': {'code': '5', 'text': '하락', 'name': 'FALLING'},\n",
       "   'fluctuationsRatio': '-2.74',\n",
       "   'openPrice': '2,417.11',\n",
       "   'highPrice': '2,418.05',\n",
       "   'lowPrice': '2,342.81'}])"
      ]
     },
     "execution_count": 8,
     "metadata": {},
     "output_type": "execute_result"
    }
   ],
   "source": [
    "data = response.json()\n",
    "type(data), data[:1]"
   ]
  },
  {
   "cell_type": "code",
   "execution_count": 9,
   "id": "b37dcacc-5dca-4241-bc18-d5dfd569aced",
   "metadata": {},
   "outputs": [
    {
     "data": {
      "text/html": [
       "<div>\n",
       "<style scoped>\n",
       "    .dataframe tbody tr th:only-of-type {\n",
       "        vertical-align: middle;\n",
       "    }\n",
       "\n",
       "    .dataframe tbody tr th {\n",
       "        vertical-align: top;\n",
       "    }\n",
       "\n",
       "    .dataframe thead th {\n",
       "        text-align: right;\n",
       "    }\n",
       "</style>\n",
       "<table border=\"1\" class=\"dataframe\">\n",
       "  <thead>\n",
       "    <tr style=\"text-align: right;\">\n",
       "      <th></th>\n",
       "      <th>localTradedAt</th>\n",
       "      <th>closePrice</th>\n",
       "    </tr>\n",
       "  </thead>\n",
       "  <tbody>\n",
       "    <tr>\n",
       "      <th>8</th>\n",
       "      <td>2022-06-10</td>\n",
       "      <td>2,595.87</td>\n",
       "    </tr>\n",
       "    <tr>\n",
       "      <th>9</th>\n",
       "      <td>2022-06-09</td>\n",
       "      <td>2,625.44</td>\n",
       "    </tr>\n",
       "  </tbody>\n",
       "</table>\n",
       "</div>"
      ],
      "text/plain": [
       "  localTradedAt closePrice\n",
       "8    2022-06-10   2,595.87\n",
       "9    2022-06-09   2,625.44"
      ]
     },
     "execution_count": 9,
     "metadata": {},
     "output_type": "execute_result"
    }
   ],
   "source": [
    "df = pd.DataFrame(data)[[\"localTradedAt\", \"closePrice\"]]\n",
    "df.tail(2)"
   ]
  },
  {
   "cell_type": "markdown",
   "id": "daeb0644-1892-421f-a62e-a6454666c196",
   "metadata": {
    "tags": []
   },
   "source": [
    "### KOSDAQ 데이터 수집 코드 작성"
   ]
  },
  {
   "cell_type": "code",
   "execution_count": 10,
   "id": "b8ab77f8-4b21-43c8-8362-4760cda82938",
   "metadata": {},
   "outputs": [],
   "source": [
    "# 1. 웹서비스를 분석"
   ]
  },
  {
   "cell_type": "code",
   "execution_count": 11,
   "id": "3cccf8ee-5858-49bd-a598-f665a7b0ff43",
   "metadata": {},
   "outputs": [],
   "source": [
    "url = \"https://m.stock.naver.com/api/index/KOSDAQ/price?pageSize=10&page=4\""
   ]
  },
  {
   "cell_type": "code",
   "execution_count": 12,
   "id": "f862e39d-4a88-4397-80da-791a486f8640",
   "metadata": {},
   "outputs": [],
   "source": [
    "# 2. requests > response : JSON(str)"
   ]
  },
  {
   "cell_type": "code",
   "execution_count": 13,
   "id": "e44955ab-16b7-4049-a657-7b76c4e0cbcb",
   "metadata": {},
   "outputs": [
    {
     "data": {
      "text/plain": [
       "'[{\"localTradedAt\":\"2022-06-22\",\"closePrice\":\"746.96\",\"compareToPreviousClosePrice\":\"-31.34\",\"compareToPreviousPrice\":{\"code\":\"5\",\"text\":\"하락\",\"name\":\"FALLING\"},\"fluctuationsRatio\":\"-4.03\",\"openPrice\":\"'"
      ]
     },
     "execution_count": 13,
     "metadata": {},
     "output_type": "execute_result"
    }
   ],
   "source": [
    "response = requests.get(url)\n",
    "response.text[:200]"
   ]
  },
  {
   "cell_type": "code",
   "execution_count": 14,
   "id": "1614f90f-0ee0-4382-9bce-449503fe65aa",
   "metadata": {},
   "outputs": [],
   "source": [
    "# 3. JSON(str) > list, dict > DataFrame 출력"
   ]
  },
  {
   "cell_type": "code",
   "execution_count": 15,
   "id": "8eb36609-b939-4ffb-bb64-27fba6834429",
   "metadata": {
    "tags": []
   },
   "outputs": [
    {
     "data": {
      "text/html": [
       "<div>\n",
       "<style scoped>\n",
       "    .dataframe tbody tr th:only-of-type {\n",
       "        vertical-align: middle;\n",
       "    }\n",
       "\n",
       "    .dataframe tbody tr th {\n",
       "        vertical-align: top;\n",
       "    }\n",
       "\n",
       "    .dataframe thead th {\n",
       "        text-align: right;\n",
       "    }\n",
       "</style>\n",
       "<table border=\"1\" class=\"dataframe\">\n",
       "  <thead>\n",
       "    <tr style=\"text-align: right;\">\n",
       "      <th></th>\n",
       "      <th>localTradedAt</th>\n",
       "      <th>closePrice</th>\n",
       "    </tr>\n",
       "  </thead>\n",
       "  <tbody>\n",
       "    <tr>\n",
       "      <th>8</th>\n",
       "      <td>2022-06-10</td>\n",
       "      <td>869.86</td>\n",
       "    </tr>\n",
       "    <tr>\n",
       "      <th>9</th>\n",
       "      <td>2022-06-09</td>\n",
       "      <td>877.18</td>\n",
       "    </tr>\n",
       "  </tbody>\n",
       "</table>\n",
       "</div>"
      ],
      "text/plain": [
       "  localTradedAt closePrice\n",
       "8    2022-06-10     869.86\n",
       "9    2022-06-09     877.18"
      ]
     },
     "execution_count": 15,
     "metadata": {},
     "output_type": "execute_result"
    }
   ],
   "source": [
    "data = response.json()\n",
    "df = pd.DataFrame(data)[[\"localTradedAt\", \"closePrice\"]]\n",
    "df.tail(2)"
   ]
  },
  {
   "cell_type": "markdown",
   "id": "3db4e0d1-14d9-47d8-8321-be580af637a5",
   "metadata": {},
   "source": [
    "### 함수 만들기\n",
    "- param : pagesize, page"
   ]
  },
  {
   "cell_type": "code",
   "execution_count": 22,
   "id": "6bb1ecc1-344c-4568-b4ff-28552e0bb45c",
   "metadata": {},
   "outputs": [],
   "source": [
    "def stock_price(pagesize, page, code='KOSPI'):\n",
    "    \"\"\" This function is crawling stock price from naver webpage\n",
    "    \n",
    "    Params\n",
    "    ------\n",
    "    pagesize : int : one page size\n",
    "    page : int : page number\n",
    "    code : str : KOSPI or KOSDAQ\n",
    "    \n",
    "    Return\n",
    "    ------\n",
    "    type : DataFrame : display date, price columns\n",
    "    \n",
    "    \"\"\"\n",
    "    url = f\"https://m.stock.naver.com/api/index/{code}/price?pageSize={pagesize}&page={page}\"\n",
    "    \n",
    "    response = requests.get(url)\n",
    "    data = response.json()\n",
    "    \n",
    "    return pd.DataFrame(data)[[\"localTradedAt\", \"closePrice\"]]"
   ]
  },
  {
   "cell_type": "code",
   "execution_count": 19,
   "id": "48f75d65-f371-481f-9ae0-699ca7ebff2e",
   "metadata": {},
   "outputs": [],
   "source": [
    "# 최근 60일치 데이터 가져오기\n",
    "kospi = stock_price(60, 1, 'KOSPI')\n",
    "kosdaq = stock_price(60, 1, 'KOSDAQ')"
   ]
  },
  {
   "cell_type": "code",
   "execution_count": 21,
   "id": "e093089b-2469-454c-b57f-f31cd9f85d47",
   "metadata": {},
   "outputs": [
    {
     "name": "stdout",
     "output_type": "stream",
     "text": [
      "Help on function stock_price in module __main__:\n",
      "\n",
      "stock_price(pagesize, page, code='KOSPI')\n",
      "    This function is crawling stock price from naver webpage\n",
      "    \n",
      "    Params\n",
      "    ------\n",
      "    pagesize : int : one page size\n",
      "    page : int : page number\n",
      "    code : str : KOSPI or KOSDAQ\n",
      "    \n",
      "    Return\n",
      "    ------\n",
      "    type : DataFrame : display date, price columns\n",
      "\n"
     ]
    }
   ],
   "source": [
    "# docstring : 함수를 사용하는 방법을 문자열로 작성\n",
    "# help(), shift + tab 이용\n",
    "help(stock_price)"
   ]
  },
  {
   "cell_type": "markdown",
   "id": "3a7b2752-76d5-4f9f-a46d-6f00d5aad7d0",
   "metadata": {},
   "source": [
    "### 원달러 환율 데이터 수집\n",
    "- 시장지표 > 미국 > 일별시세(더보기)"
   ]
  },
  {
   "cell_type": "code",
   "execution_count": null,
   "id": "103b3512-0d01-49ea-ae90-7a4022c4cb22",
   "metadata": {},
   "outputs": [],
   "source": [
    "# 최근 60일치 원달러 환율 데이터 수집"
   ]
  },
  {
   "cell_type": "code",
   "execution_count": 34,
   "id": "fc6756d6-59cc-4b8c-99b4-79bfa4eb1f9e",
   "metadata": {},
   "outputs": [],
   "source": [
    "# 1. 웹페이지 분석\n",
    "page, pagesize = 1, 60\n",
    "url = f\"https://api.stock.naver.com/marketindex/exchange/FX_USDKRW/prices?page={page}&pageSize={pagesize}\""
   ]
  },
  {
   "cell_type": "code",
   "execution_count": 35,
   "id": "986847ce-ce38-4162-9685-34ef788f0413",
   "metadata": {},
   "outputs": [
    {
     "data": {
      "text/plain": [
       "'[{\"localTradedAt\":\"2022-08-03\",\"closePrice\":\"1,309.70\",\"fluctuations\":\"-2.30\",\"fluctuationsRatio\":\"-0.18\",\"fluctuationsType\":{\"code\":\"5\",\"text\":\"하락\",\"name\":\"FALLING\"},\"cashBuyValue\":\"1,332.61\",\"cashSe'"
      ]
     },
     "execution_count": 35,
     "metadata": {},
     "output_type": "execute_result"
    }
   ],
   "source": [
    "# 2. requests > response : JSON(str)\n",
    "response = requests.get(url)\n",
    "response.text[:200]"
   ]
  },
  {
   "cell_type": "code",
   "execution_count": 36,
   "id": "133d5a35-a5ae-4259-8517-ae79ef11976e",
   "metadata": {},
   "outputs": [],
   "source": [
    "# 3. JSON(str) > list, dict > DataFrame 출력"
   ]
  },
  {
   "cell_type": "code",
   "execution_count": 37,
   "id": "6bb913e7-477e-468e-aeb6-a9481692d201",
   "metadata": {},
   "outputs": [],
   "source": [
    "data = response.json()"
   ]
  },
  {
   "cell_type": "code",
   "execution_count": 39,
   "id": "e28de6e5-8ab7-4009-b153-e98a48e0277f",
   "metadata": {},
   "outputs": [
    {
     "data": {
      "text/html": [
       "<div>\n",
       "<style scoped>\n",
       "    .dataframe tbody tr th:only-of-type {\n",
       "        vertical-align: middle;\n",
       "    }\n",
       "\n",
       "    .dataframe tbody tr th {\n",
       "        vertical-align: top;\n",
       "    }\n",
       "\n",
       "    .dataframe thead th {\n",
       "        text-align: right;\n",
       "    }\n",
       "</style>\n",
       "<table border=\"1\" class=\"dataframe\">\n",
       "  <thead>\n",
       "    <tr style=\"text-align: right;\">\n",
       "      <th></th>\n",
       "      <th>localTradedAt</th>\n",
       "      <th>closePrice</th>\n",
       "    </tr>\n",
       "  </thead>\n",
       "  <tbody>\n",
       "    <tr>\n",
       "      <th>58</th>\n",
       "      <td>2022-05-11</td>\n",
       "      <td>1,274.50</td>\n",
       "    </tr>\n",
       "    <tr>\n",
       "      <th>59</th>\n",
       "      <td>2022-05-10</td>\n",
       "      <td>1,276.00</td>\n",
       "    </tr>\n",
       "  </tbody>\n",
       "</table>\n",
       "</div>"
      ],
      "text/plain": [
       "   localTradedAt closePrice\n",
       "58    2022-05-11   1,274.50\n",
       "59    2022-05-10   1,276.00"
      ]
     },
     "execution_count": 39,
     "metadata": {},
     "output_type": "execute_result"
    }
   ],
   "source": [
    "usd = pd.DataFrame(data)[[\"localTradedAt\", \"closePrice\"]]\n",
    "usd.tail(2)"
   ]
  },
  {
   "cell_type": "code",
   "execution_count": 41,
   "id": "a0a753c1-373c-49bf-9fe7-5be5920af353",
   "metadata": {},
   "outputs": [],
   "source": [
    "def usd_price(pagesize, page, code=\"USD\"):\n",
    "    \"\"\" This function is crawling usd price from naver webpage\n",
    "    \n",
    "    Params\n",
    "    ------\n",
    "    pagesize : int : one page size\n",
    "    page : int : page number\n",
    "    code : str : nation code\n",
    "    \n",
    "    Return\n",
    "    ------\n",
    "    type : DataFrame : display dataframe\n",
    "    \n",
    "    \"\"\"\n",
    "    url = f\"https://api.stock.naver.com/marketindex/exchange/FX_{code}KRW/prices?page={page}&pageSize={pagesize}\"\n",
    "    \n",
    "    response = requests.get(url)\n",
    "    data = response.json()\n",
    "    \n",
    "    return pd.DataFrame(data)[[\"localTradedAt\", \"closePrice\"]]"
   ]
  },
  {
   "cell_type": "code",
   "execution_count": 44,
   "id": "9becb899-9d40-466e-a1ba-f4492bd3da88",
   "metadata": {
    "tags": []
   },
   "outputs": [
    {
     "data": {
      "text/html": [
       "<div>\n",
       "<style scoped>\n",
       "    .dataframe tbody tr th:only-of-type {\n",
       "        vertical-align: middle;\n",
       "    }\n",
       "\n",
       "    .dataframe tbody tr th {\n",
       "        vertical-align: top;\n",
       "    }\n",
       "\n",
       "    .dataframe thead th {\n",
       "        text-align: right;\n",
       "    }\n",
       "</style>\n",
       "<table border=\"1\" class=\"dataframe\">\n",
       "  <thead>\n",
       "    <tr style=\"text-align: right;\">\n",
       "      <th></th>\n",
       "      <th>localTradedAt</th>\n",
       "      <th>closePrice</th>\n",
       "    </tr>\n",
       "  </thead>\n",
       "  <tbody>\n",
       "    <tr>\n",
       "      <th>0</th>\n",
       "      <td>2022-08-03</td>\n",
       "      <td>1,333.64</td>\n",
       "    </tr>\n",
       "    <tr>\n",
       "      <th>1</th>\n",
       "      <td>2022-08-02</td>\n",
       "      <td>1,337.98</td>\n",
       "    </tr>\n",
       "    <tr>\n",
       "      <th>2</th>\n",
       "      <td>2022-08-01</td>\n",
       "      <td>1,339.32</td>\n",
       "    </tr>\n",
       "    <tr>\n",
       "      <th>3</th>\n",
       "      <td>2022-07-29</td>\n",
       "      <td>1,333.20</td>\n",
       "    </tr>\n",
       "    <tr>\n",
       "      <th>4</th>\n",
       "      <td>2022-07-28</td>\n",
       "      <td>1,323.87</td>\n",
       "    </tr>\n",
       "    <tr>\n",
       "      <th>5</th>\n",
       "      <td>2022-07-27</td>\n",
       "      <td>1,329.24</td>\n",
       "    </tr>\n",
       "    <tr>\n",
       "      <th>6</th>\n",
       "      <td>2022-07-26</td>\n",
       "      <td>1,329.35</td>\n",
       "    </tr>\n",
       "    <tr>\n",
       "      <th>7</th>\n",
       "      <td>2022-07-25</td>\n",
       "      <td>1,339.95</td>\n",
       "    </tr>\n",
       "    <tr>\n",
       "      <th>8</th>\n",
       "      <td>2022-07-22</td>\n",
       "      <td>1,340.39</td>\n",
       "    </tr>\n",
       "    <tr>\n",
       "      <th>9</th>\n",
       "      <td>2022-07-21</td>\n",
       "      <td>1,339.06</td>\n",
       "    </tr>\n",
       "  </tbody>\n",
       "</table>\n",
       "</div>"
      ],
      "text/plain": [
       "  localTradedAt closePrice\n",
       "0    2022-08-03   1,333.64\n",
       "1    2022-08-02   1,337.98\n",
       "2    2022-08-01   1,339.32\n",
       "3    2022-07-29   1,333.20\n",
       "4    2022-07-28   1,323.87\n",
       "5    2022-07-27   1,329.24\n",
       "6    2022-07-26   1,329.35\n",
       "7    2022-07-25   1,339.95\n",
       "8    2022-07-22   1,340.39\n",
       "9    2022-07-21   1,339.06"
      ]
     },
     "execution_count": 44,
     "metadata": {},
     "output_type": "execute_result"
    }
   ],
   "source": [
    "usd_price(10, 1, code=\"EUR\")"
   ]
  },
  {
   "cell_type": "code",
   "execution_count": null,
   "id": "22257ed5-0785-4405-9ac7-ac44903d443a",
   "metadata": {
    "tags": []
   },
   "outputs": [],
   "source": [
    "# 데이터 분석\n",
    "# 상관관계분석 : 두 데이터 집합 사이에 어떤 관계가 있는지 확인하는 분석방법\n",
    "# 원달러 환율이 높으면 코스피, 코스닥 지수가 낮다."
   ]
  },
  {
   "cell_type": "code",
   "execution_count": null,
   "id": "e5140d84-a3d7-47cd-8a66-bc92f0c09d7f",
   "metadata": {},
   "outputs": [],
   "source": [
    "# 피어슨 상관계수\n",
    "# 1과 가까울수록 강한 양의 상관관계를 갖는다.\n",
    "# -1과 가까울수록 강한 음의 상관관계를 갖는다.\n",
    "# 0과 가까울수록 관계가 없다."
   ]
  },
  {
   "cell_type": "code",
   "execution_count": 49,
   "id": "cb037a89-a074-4b9a-94be-d92a254314be",
   "metadata": {
    "tags": []
   },
   "outputs": [
    {
     "data": {
      "text/html": [
       "<div>\n",
       "<style scoped>\n",
       "    .dataframe tbody tr th:only-of-type {\n",
       "        vertical-align: middle;\n",
       "    }\n",
       "\n",
       "    .dataframe tbody tr th {\n",
       "        vertical-align: top;\n",
       "    }\n",
       "\n",
       "    .dataframe thead th {\n",
       "        text-align: right;\n",
       "    }\n",
       "</style>\n",
       "<table border=\"1\" class=\"dataframe\">\n",
       "  <thead>\n",
       "    <tr style=\"text-align: right;\">\n",
       "      <th></th>\n",
       "      <th>localTradedAt</th>\n",
       "      <th>kospi</th>\n",
       "      <th>kosdaq</th>\n",
       "      <th>usd</th>\n",
       "    </tr>\n",
       "  </thead>\n",
       "  <tbody>\n",
       "    <tr>\n",
       "      <th>0</th>\n",
       "      <td>2022-08-03</td>\n",
       "      <td>2,456.12</td>\n",
       "      <td>813.72</td>\n",
       "      <td>1,309.70</td>\n",
       "    </tr>\n",
       "    <tr>\n",
       "      <th>1</th>\n",
       "      <td>2022-08-02</td>\n",
       "      <td>2,439.62</td>\n",
       "      <td>804.34</td>\n",
       "      <td>1,312.00</td>\n",
       "    </tr>\n",
       "    <tr>\n",
       "      <th>2</th>\n",
       "      <td>2022-08-01</td>\n",
       "      <td>2,452.25</td>\n",
       "      <td>807.61</td>\n",
       "      <td>1,305.00</td>\n",
       "    </tr>\n",
       "    <tr>\n",
       "      <th>3</th>\n",
       "      <td>2022-07-29</td>\n",
       "      <td>2,451.50</td>\n",
       "      <td>803.62</td>\n",
       "      <td>1,304.50</td>\n",
       "    </tr>\n",
       "    <tr>\n",
       "      <th>4</th>\n",
       "      <td>2022-07-28</td>\n",
       "      <td>2,435.27</td>\n",
       "      <td>798.32</td>\n",
       "      <td>1,302.00</td>\n",
       "    </tr>\n",
       "  </tbody>\n",
       "</table>\n",
       "</div>"
      ],
      "text/plain": [
       "  localTradedAt     kospi  kosdaq       usd\n",
       "0    2022-08-03  2,456.12  813.72  1,309.70\n",
       "1    2022-08-02  2,439.62  804.34  1,312.00\n",
       "2    2022-08-01  2,452.25  807.61  1,305.00\n",
       "3    2022-07-29  2,451.50  803.62  1,304.50\n",
       "4    2022-07-28  2,435.27  798.32  1,302.00"
      ]
     },
     "execution_count": 49,
     "metadata": {},
     "output_type": "execute_result"
    }
   ],
   "source": [
    "df = kospi.copy()\n",
    "df[\"kosdaq\"] = kosdaq['closePrice']\n",
    "df['usd'] = usd['closePrice']\n",
    "df = df.rename(columns={'closePrice' : 'kospi'})\n",
    "df.head()"
   ]
  },
  {
   "cell_type": "code",
   "execution_count": 59,
   "id": "e8717355-ec37-4167-9e38-ca67b234f8d6",
   "metadata": {},
   "outputs": [],
   "source": [
    "# 컬럼의 데이터 타입 변경 : str > float\n",
    "# df[column].apply() : 모든 데이터를 함수에 대입한 결과를 출력\n",
    "# lamda\n",
    "df['kospi'] = df['kospi'].apply(lambda data: float(data.replace(',', '')))\n",
    "df['kosdaq'] = df['kosdaq'].apply(lambda data: float(data.replace(',', '')))\n",
    "df['usd'] = df['usd'].apply(lambda data: float(data.replace(',', '')))"
   ]
  },
  {
   "cell_type": "code",
   "execution_count": 62,
   "id": "b920b937-9221-457a-8002-c0716d054eda",
   "metadata": {},
   "outputs": [
    {
     "data": {
      "text/plain": [
       "localTradedAt     object\n",
       "kospi            float64\n",
       "kosdaq           float64\n",
       "usd              float64\n",
       "dtype: object"
      ]
     },
     "execution_count": 62,
     "metadata": {},
     "output_type": "execute_result"
    }
   ],
   "source": [
    "df.dtypes"
   ]
  },
  {
   "cell_type": "code",
   "execution_count": 63,
   "id": "47dcc0d6-323f-40d8-9f7d-01d2114a9d8a",
   "metadata": {},
   "outputs": [
    {
     "data": {
      "text/html": [
       "<div>\n",
       "<style scoped>\n",
       "    .dataframe tbody tr th:only-of-type {\n",
       "        vertical-align: middle;\n",
       "    }\n",
       "\n",
       "    .dataframe tbody tr th {\n",
       "        vertical-align: top;\n",
       "    }\n",
       "\n",
       "    .dataframe thead th {\n",
       "        text-align: right;\n",
       "    }\n",
       "</style>\n",
       "<table border=\"1\" class=\"dataframe\">\n",
       "  <thead>\n",
       "    <tr style=\"text-align: right;\">\n",
       "      <th></th>\n",
       "      <th>kospi</th>\n",
       "      <th>kosdaq</th>\n",
       "      <th>usd</th>\n",
       "    </tr>\n",
       "  </thead>\n",
       "  <tbody>\n",
       "    <tr>\n",
       "      <th>kospi</th>\n",
       "      <td>1.000000</td>\n",
       "      <td>0.984042</td>\n",
       "      <td>-0.878291</td>\n",
       "    </tr>\n",
       "    <tr>\n",
       "      <th>kosdaq</th>\n",
       "      <td>0.984042</td>\n",
       "      <td>1.000000</td>\n",
       "      <td>-0.821246</td>\n",
       "    </tr>\n",
       "    <tr>\n",
       "      <th>usd</th>\n",
       "      <td>-0.878291</td>\n",
       "      <td>-0.821246</td>\n",
       "      <td>1.000000</td>\n",
       "    </tr>\n",
       "  </tbody>\n",
       "</table>\n",
       "</div>"
      ],
      "text/plain": [
       "           kospi    kosdaq       usd\n",
       "kospi   1.000000  0.984042 -0.878291\n",
       "kosdaq  0.984042  1.000000 -0.821246\n",
       "usd    -0.878291 -0.821246  1.000000"
      ]
     },
     "execution_count": 63,
     "metadata": {},
     "output_type": "execute_result"
    }
   ],
   "source": [
    "df[['kospi', 'kosdaq', 'usd']].corr()"
   ]
  },
  {
   "cell_type": "code",
   "execution_count": null,
   "id": "a4bde365-49da-4732-a162-8b0f86595fd8",
   "metadata": {},
   "outputs": [],
   "source": [
    "# kospi - kosdaq : 0.984 -> 1과 가까우면 강한 양의 상관관계\n",
    "# kospi - usd : -0.878 -> -1과 가까우면 강함 음의 상관관계\n",
    "# 현재 원달러 환율이 높으니 kospi가 낮으니 지금 코스피 주식을 사자"
   ]
  },
  {
   "cell_type": "code",
   "execution_count": null,
   "id": "540594e9-7d00-4811-a14e-e99788177d42",
   "metadata": {},
   "outputs": [],
   "source": [
    "# copy()"
   ]
  },
  {
   "cell_type": "code",
   "execution_count": 69,
   "id": "3d74b8af-0f41-4c2c-864e-8f350a8126c6",
   "metadata": {},
   "outputs": [
    {
     "name": "stdout",
     "output_type": "stream",
     "text": [
      "[1, 2, 3] [1, 2, 3]\n",
      "[1, 4, 3] [1, 4, 3]\n",
      "[1, 4, 3] [1, 4, 3] [1, 2, 3]\n"
     ]
    }
   ],
   "source": [
    "data1 = [1, 2, 3]\n",
    "\n",
    "data2 = data1 # 얕은 복사: 주소 복사, 같은 주소값을 사용한다.\n",
    "data3 = data1.copy() # 깊은 복사: 값복사, 새로운 주소값을 만든다.\n",
    "\n",
    "print(data1, data2) # [1, 2, 3] [1, 2, 3]\n",
    "\n",
    "data1[1] = 4\n",
    "print(data1, data2) # [1, 4, 3] [1, 4, 3]\n",
    "print(data1, data2, data3) # [1, 4, 3] [1, 4, 3] [1, 2, 3]"
   ]
  },
  {
   "cell_type": "code",
   "execution_count": null,
   "id": "9816088a-22ff-40c6-b61a-59773d5f7c0b",
   "metadata": {},
   "outputs": [],
   "source": [
    "# apply(func) : 모든 데이터를 func을 적용시킨 결과 출력"
   ]
  },
  {
   "cell_type": "code",
   "execution_count": 71,
   "id": "ecb65728-e970-41a9-9d3e-4932b9a6b1d2",
   "metadata": {},
   "outputs": [
    {
     "data": {
      "text/html": [
       "<div>\n",
       "<style scoped>\n",
       "    .dataframe tbody tr th:only-of-type {\n",
       "        vertical-align: middle;\n",
       "    }\n",
       "\n",
       "    .dataframe tbody tr th {\n",
       "        vertical-align: top;\n",
       "    }\n",
       "\n",
       "    .dataframe thead th {\n",
       "        text-align: right;\n",
       "    }\n",
       "</style>\n",
       "<table border=\"1\" class=\"dataframe\">\n",
       "  <thead>\n",
       "    <tr style=\"text-align: right;\">\n",
       "      <th></th>\n",
       "      <th>age</th>\n",
       "    </tr>\n",
       "  </thead>\n",
       "  <tbody>\n",
       "    <tr>\n",
       "      <th>0</th>\n",
       "      <td>23</td>\n",
       "    </tr>\n",
       "    <tr>\n",
       "      <th>1</th>\n",
       "      <td>36</td>\n",
       "    </tr>\n",
       "    <tr>\n",
       "      <th>2</th>\n",
       "      <td>27</td>\n",
       "    </tr>\n",
       "  </tbody>\n",
       "</table>\n",
       "</div>"
      ],
      "text/plain": [
       "   age\n",
       "0   23\n",
       "1   36\n",
       "2   27"
      ]
     },
     "execution_count": 71,
     "metadata": {},
     "output_type": "execute_result"
    }
   ],
   "source": [
    "df = pd.DataFrame([{\"age\" : 23}, {\"age\" : 36}, {\"age\" : 27}])\n",
    "df"
   ]
  },
  {
   "cell_type": "code",
   "execution_count": 72,
   "id": "8563d189-9e25-44be-af55-beb880ca6d50",
   "metadata": {},
   "outputs": [],
   "source": [
    "# 연령대 컬럼 추가\n",
    "def change_ages(age):\n",
    "    return age//10 * 10"
   ]
  },
  {
   "cell_type": "code",
   "execution_count": 74,
   "id": "e532ce11-1488-4417-be00-ab52fa37e85b",
   "metadata": {},
   "outputs": [
    {
     "data": {
      "text/html": [
       "<div>\n",
       "<style scoped>\n",
       "    .dataframe tbody tr th:only-of-type {\n",
       "        vertical-align: middle;\n",
       "    }\n",
       "\n",
       "    .dataframe tbody tr th {\n",
       "        vertical-align: top;\n",
       "    }\n",
       "\n",
       "    .dataframe thead th {\n",
       "        text-align: right;\n",
       "    }\n",
       "</style>\n",
       "<table border=\"1\" class=\"dataframe\">\n",
       "  <thead>\n",
       "    <tr style=\"text-align: right;\">\n",
       "      <th></th>\n",
       "      <th>age</th>\n",
       "      <th>ages</th>\n",
       "    </tr>\n",
       "  </thead>\n",
       "  <tbody>\n",
       "    <tr>\n",
       "      <th>0</th>\n",
       "      <td>23</td>\n",
       "      <td>20</td>\n",
       "    </tr>\n",
       "    <tr>\n",
       "      <th>1</th>\n",
       "      <td>36</td>\n",
       "      <td>30</td>\n",
       "    </tr>\n",
       "    <tr>\n",
       "      <th>2</th>\n",
       "      <td>27</td>\n",
       "      <td>20</td>\n",
       "    </tr>\n",
       "  </tbody>\n",
       "</table>\n",
       "</div>"
      ],
      "text/plain": [
       "   age  ages\n",
       "0   23    20\n",
       "1   36    30\n",
       "2   27    20"
      ]
     },
     "execution_count": 74,
     "metadata": {},
     "output_type": "execute_result"
    }
   ],
   "source": [
    "df['ages'] = df['age'].apply(change_ages)\n",
    "df"
   ]
  },
  {
   "cell_type": "code",
   "execution_count": null,
   "id": "1ee9b4af-ca24-45c5-a1bd-5f7f7464480d",
   "metadata": {},
   "outputs": [],
   "source": [
    "# lambda : 일회성 함수\n",
    "# 사용이유 : 간단한 함수(파라미터를 받아서 바로 리턴하는 함수)를 메모리 절약하여 사용"
   ]
  },
  {
   "cell_type": "code",
   "execution_count": 76,
   "id": "5a2f0ffd-8f07-4aae-add8-90770488bdfa",
   "metadata": {},
   "outputs": [],
   "source": [
    "# 함수 3개 사용, 메모리 3칸 사용\n",
    "def plus(n1, n2):\n",
    "    return n1 + n2\n",
    "\n",
    "def minus(n1, n2):\n",
    "    return n1 - n2\n",
    "\n",
    "def calc(func, n1, n2):\n",
    "    return func(n1, n2)"
   ]
  },
  {
   "cell_type": "code",
   "execution_count": 77,
   "id": "1ede0e33-a57a-4f2c-9d11-324c3a8f9cf4",
   "metadata": {},
   "outputs": [
    {
     "data": {
      "text/plain": [
       "(3, -1)"
      ]
     },
     "execution_count": 77,
     "metadata": {},
     "output_type": "execute_result"
    }
   ],
   "source": [
    "calc(plus, 1, 2), calc(minus, 1, 2)"
   ]
  },
  {
   "cell_type": "code",
   "execution_count": 79,
   "id": "7bf6c758-4ea8-440d-8d12-ea6abebb2131",
   "metadata": {},
   "outputs": [
    {
     "data": {
      "text/plain": [
       "(3, 3)"
      ]
     },
     "execution_count": 79,
     "metadata": {},
     "output_type": "execute_result"
    }
   ],
   "source": [
    "plus_lambda = lambda n1, n2: n1+n2\n",
    "plus(1, 2), plus_lambda(1, 2)"
   ]
  },
  {
   "cell_type": "code",
   "execution_count": 78,
   "id": "f417a832-8f1e-40f4-88fb-4705768b1cf1",
   "metadata": {},
   "outputs": [
    {
     "data": {
      "text/plain": [
       "(3, -1)"
      ]
     },
     "execution_count": 78,
     "metadata": {},
     "output_type": "execute_result"
    }
   ],
   "source": [
    "# 함수 1개 사용, 메모리 1개 사용\n",
    "def calc(func, n1, n2):\n",
    "    return func(n1, n2)\n",
    "\n",
    "calc(lambda n1, n2: n1+n2, 1, 2), calc(lambda n1, n2: n1-n2, 1, 2)"
   ]
  },
  {
   "cell_type": "code",
   "execution_count": null,
   "id": "46f0ad38-ec3f-4fb0-bfd0-60c2029be8e0",
   "metadata": {},
   "outputs": [],
   "source": []
  }
 ],
 "metadata": {
  "kernelspec": {
   "display_name": "Python 3",
   "language": "python",
   "name": "python3"
  },
  "language_info": {
   "codemirror_mode": {
    "name": "ipython",
    "version": 3
   },
   "file_extension": ".py",
   "mimetype": "text/x-python",
   "name": "python",
   "nbconvert_exporter": "python",
   "pygments_lexer": "ipython3",
   "version": "3.8.8"
  }
 },
 "nbformat": 4,
 "nbformat_minor": 5
}
