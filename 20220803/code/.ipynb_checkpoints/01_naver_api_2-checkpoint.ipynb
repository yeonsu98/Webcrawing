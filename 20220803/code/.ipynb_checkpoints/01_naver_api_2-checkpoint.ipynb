{
 "cells": [
  {
   "cell_type": "markdown",
   "id": "7bd8719d-2aa8-455e-8286-d7021a33c343",
   "metadata": {},
   "source": [
    "### 크롤링 정책\n",
    "- '웹주소'/robots.txt\n",
    "- User-agent : client의 정보(disallow는 가져가면 안되는 정보)\n",
    "- 크롤링에 대한 법적 제재 X\n",
    "- 과도한 크롤링으로 서비스에 영향을 주었을 때 문제가 될 수 있음!\n",
    "- 영업방해 및 지적재산권 침해 문제가 있음\n",
    "- 크롤링을 할 때는 되도록 API를 사용 권장  \n",
    "예) 네이버 (https://naver.com/robots.txt)   \n",
    "User-agent: *  \n",
    "Disallow: /  \n",
    "Allow : /$   "
   ]
  },
  {
   "cell_type": "markdown",
   "id": "2c4cb8b2-edb9-4da6-b648-47640e33bb25",
   "metadata": {},
   "source": [
    "### 네이버 검색어 트랜드 수집"
   ]
  },
  {
   "cell_type": "code",
   "execution_count": 1,
   "id": "b7ecedcc-21f3-486f-9d75-c7956ca45e5d",
   "metadata": {},
   "outputs": [],
   "source": [
    "import requests, json\n",
    "import pandas as pd"
   ]
  },
  {
   "cell_type": "code",
   "execution_count": null,
   "id": "379c7d39-aa07-418f-b589-6bdde4859104",
   "metadata": {},
   "outputs": [],
   "source": [
    "# 1. application key"
   ]
  },
  {
   "cell_type": "code",
   "execution_count": 2,
   "id": "3ae90cc7-989d-4efa-808e-471b74ae844a",
   "metadata": {},
   "outputs": [],
   "source": [
    "CLIENT_ID, CLIENT_SECRET = \"3IggRLfWgbei77lDntce\", \"cmsf8eaQPA\""
   ]
  },
  {
   "cell_type": "code",
   "execution_count": 3,
   "id": "5fd48749-bd77-4441-bb6a-540884bdc201",
   "metadata": {},
   "outputs": [],
   "source": [
    "# 2. document : url, params, headers"
   ]
  },
  {
   "cell_type": "code",
   "execution_count": 4,
   "id": "9247de48-aba9-43a1-b551-7ad10fb915f7",
   "metadata": {},
   "outputs": [],
   "source": [
    "url = \"https://openapi.naver.com/v1/datalab/search\"\n",
    "params = {\n",
    "    \"startDate\" : \"2018-01-01\",\n",
    "    \"endDate\" : \"2022-07-31\",\n",
    "    \"timeUnit\" : \"month\",\n",
    "    \"keywordGroups\" : [\n",
    "        {\"groupName\" : \"트위터\", \"keywords\" : [\"트위터\", \"트윗\"]},\n",
    "        {\"groupName\" : \"페이스북\", \"keywords\" : [\"페이스북\", \"페북\"]},\n",
    "        {\"groupName\" : \"인스타그램\", \"keywords\" : [\"인스타그램\", \"인스타\"]}\n",
    "    ]\n",
    "}"
   ]
  },
  {
   "cell_type": "code",
   "execution_count": 6,
   "id": "78f3eddb-959f-4d1f-a267-10c6b0ef52c9",
   "metadata": {},
   "outputs": [],
   "source": [
    "headers = {\n",
    "    \"Content-Type\": \"application/json\",\n",
    "    \"X-Naver-Client-Id\": CLIENT_ID,\n",
    "    \"X-Naver-Client-Secret\": CLIENT_SECRET\n",
    "}"
   ]
  },
  {
   "cell_type": "code",
   "execution_count": null,
   "id": "fba42966-3ef3-47ab-80c6-c24590830101",
   "metadata": {},
   "outputs": [],
   "source": [
    "# 3. requests(url, params, headers) > response(json) : JSON(str)"
   ]
  },
  {
   "cell_type": "code",
   "execution_count": 10,
   "id": "8aef8f1c-467a-4987-a037-3ed29554b970",
   "metadata": {},
   "outputs": [
    {
     "data": {
      "text/plain": [
       "<Response [200]>"
      ]
     },
     "execution_count": 10,
     "metadata": {},
     "output_type": "execute_result"
    }
   ],
   "source": [
    "response = requests.post(url, json.dumps(params), headers=headers)\n",
    "response"
   ]
  },
  {
   "cell_type": "code",
   "execution_count": 12,
   "id": "90fdf62c-2c1a-41a7-9507-7560728ead57",
   "metadata": {
    "collapsed": true,
    "jupyter": {
     "outputs_hidden": true
    },
    "tags": []
   },
   "outputs": [
    {
     "data": {
      "text/plain": [
       "'{\"startDate\":\"2018-01-01\",\"endDate\":\"2022-07-31\",\"timeUnit\":\"month\",\"results\":[{\"title\":\"트위터\",\"keywords\":[\"트위터\",\"트윗\"],\"data\":[{\"period\":\"2018-01-01\",\"ratio\":14.59502},{\"period\":\"2018-02-01\",\"ratio\":13.0238},{\"period\":\"2018-03-01\",\"ratio\":12.97953},{\"period\":\"2018-04-01\",\"ratio\":12.82991},{\"period\":\"2018-05-01\",\"ratio\":13.05391},{\"period\":\"2018-06-01\",\"ratio\":13.34512},{\"period\":\"2018-07-01\",\"ratio\":13.02773},{\"period\":\"2018-08-01\",\"ratio\":13.45399},{\"period\":\"2018-09-01\",\"ratio\":12.83755},{\"period\":\"2018-10-01\",\"ratio\":13.05677},{\"period\":\"2018-11-01\",\"ratio\":12.77338},{\"period\":\"2018-12-01\",\"ratio\":12.86931},{\"period\":\"2019-01-01\",\"ratio\":13.31172},{\"period\":\"2019-02-01\",\"ratio\":11.74776},{\"period\":\"2019-03-01\",\"ratio\":11.82313},{\"period\":\"2019-04-01\",\"ratio\":12.32991},{\"period\":\"2019-05-01\",\"ratio\":12.43771},{\"period\":\"2019-06-01\",\"ratio\":13.29913},{\"period\":\"2019-07-01\",\"ratio\":14.00593},{\"period\":\"2019-08-01\",\"ratio\":14.208},{\"period\":\"2019-09-01\",\"ratio\":14.00856},{\"period\":\"2019-10-01\",\"ratio\":14.88466},{\"period\":\"2019-11-01\",\"ratio\":14.352},{\"period\":\"2019-12-01\",\"ratio\":14.36689},{\"period\":\"2020-01-01\",\"ratio\":16.05722},{\"period\":\"2020-02-01\",\"ratio\":15.71465},{\"period\":\"2020-03-01\",\"ratio\":18.5669},{\"period\":\"2020-04-01\",\"ratio\":18.29928},{\"period\":\"2020-05-01\",\"ratio\":21.0523},{\"period\":\"2020-06-01\",\"ratio\":19.27569},{\"period\":\"2020-07-01\",\"ratio\":20.59297},{\"period\":\"2020-08-01\",\"ratio\":19.3598},{\"period\":\"2020-09-01\",\"ratio\":19.96801},{\"period\":\"2020-10-01\",\"ratio\":20.88909},{\"period\":\"2020-11-01\",\"ratio\":19.58926},{\"period\":\"2020-12-01\",\"ratio\":21.54861},{\"period\":\"2021-01-01\",\"ratio\":21.93972},{\"period\":\"2021-02-01\",\"ratio\":20.09926},{\"period\":\"2021-03-01\",\"ratio\":21.47994},{\"period\":\"2021-04-01\",\"ratio\":22.94525},{\"period\":\"2021-05-01\",\"ratio\":23.00813},{\"period\":\"2021-06-01\",\"ratio\":22.19201},{\"period\":\"2021-07-01\",\"ratio\":22.44472},{\"period\":\"2021-08-01\",\"ratio\":23.87169},{\"period\":\"2021-09-01\",\"ratio\":21.40248},{\"period\":\"2021-10-01\",\"ratio\":22.49636},{\"period\":\"2021-11-01\",\"ratio\":21.3438},{\"period\":\"2021-12-01\",\"ratio\":21.55931},{\"period\":\"2022-01-01\",\"ratio\":21.94339},{\"period\":\"2022-02-01\",\"ratio\":22.43099},{\"period\":\"2022-03-01\",\"ratio\":23.78266},{\"period\":\"2022-04-01\",\"ratio\":23.83847},{\"period\":\"2022-05-01\",\"ratio\":22.99363},{\"period\":\"2022-06-01\",\"ratio\":23.2411},{\"period\":\"2022-07-01\",\"ratio\":24.06197}]},{\"title\":\"페이스북\",\"keywords\":[\"페이스북\",\"페북\"],\"data\":[{\"period\":\"2018-01-01\",\"ratio\":97.80481},{\"period\":\"2018-02-01\",\"ratio\":89.05814},{\"period\":\"2018-03-01\",\"ratio\":98.84292},{\"period\":\"2018-04-01\",\"ratio\":100},{\"period\":\"2018-05-01\",\"ratio\":92.23588},{\"period\":\"2018-06-01\",\"ratio\":91.70143},{\"period\":\"2018-07-01\",\"ratio\":87.916},{\"period\":\"2018-08-01\",\"ratio\":83.56488},{\"period\":\"2018-09-01\",\"ratio\":82.66018},{\"period\":\"2018-10-01\",\"ratio\":81.30381},{\"period\":\"2018-11-01\",\"ratio\":76.80167},{\"period\":\"2018-12-01\",\"ratio\":75.43269},{\"period\":\"2019-01-01\",\"ratio\":70.21709},{\"period\":\"2019-02-01\",\"ratio\":62.57096},{\"period\":\"2019-03-01\",\"ratio\":70.02431},{\"period\":\"2019-04-01\",\"ratio\":71.67271},{\"period\":\"2019-05-01\",\"ratio\":67.79872},{\"period\":\"2019-06-01\",\"ratio\":69.23259},{\"period\":\"2019-07-01\",\"ratio\":64.22088},{\"period\":\"2019-08-01\",\"ratio\":61.74662},{\"period\":\"2019-09-01\",\"ratio\":62.30318},{\"period\":\"2019-10-01\",\"ratio\":62.46025},{\"period\":\"2019-11-01\",\"ratio\":59.88514},{\"period\":\"2019-12-01\",\"ratio\":57.80639},{\"period\":\"2020-01-01\",\"ratio\":55.94828},{\"period\":\"2020-02-01\",\"ratio\":56.90092},{\"period\":\"2020-03-01\",\"ratio\":63.03497},{\"period\":\"2020-04-01\",\"ratio\":57.31923},{\"period\":\"2020-05-01\",\"ratio\":56.65968},{\"period\":\"2020-06-01\",\"ratio\":54.42362},{\"period\":\"2020-07-01\",\"ratio\":56.80884},{\"period\":\"2020-08-01\",\"ratio\":54.60338},{\"period\":\"2020-09-01\",\"ratio\":51.64203},{\"period\":\"2020-10-01\",\"ratio\":48.64782},{\"period\":\"2020-11-01\",\"ratio\":46.34281},{\"period\":\"2020-12-01\",\"ratio\":47.16999},{\"period\":\"2021-01-01\",\"ratio\":43.23795},{\"period\":\"2021-02-01\",\"ratio\":37.94335},{\"period\":\"2021-03-01\",\"ratio\":42.96809},{\"period\":\"2021-04-01\",\"ratio\":42.4486},{\"period\":\"2021-05-01\",\"ratio\":39.64216},{\"period\":\"2021-06-01\",\"ratio\":38.09701},{\"period\":\"2021-07-01\",\"ratio\":36.44556},{\"period\":\"2021-08-01\",\"ratio\":34.16464},{\"period\":\"2021-09-01\",\"ratio\":31.2108},{\"period\":\"2021-10-01\",\"ratio\":32.85607},{\"period\":\"2021-11-01\",\"ratio\":28.60438},{\"period\":\"2021-12-01\",\"ratio\":27.23295},{\"period\":\"2022-01-01\",\"ratio\":25.93933},{\"period\":\"2022-02-01\",\"ratio\":23.6213},{\"period\":\"2022-03-01\",\"ratio\":24.75851},{\"period\":\"2022-04-01\",\"ratio\":22.22382},{\"period\":\"2022-05-01\",\"ratio\":21.65302},{\"period\":\"2022-06-01\",\"ratio\":20.04381},{\"period\":\"2022-07-01\",\"ratio\":19.53712}]},{\"title\":\"인스타그램\",\"keywords\":[\"인스타그램\",\"인스타\"],\"data\":[{\"period\":\"2018-01-01\",\"ratio\":23.41982},{\"period\":\"2018-02-01\",\"ratio\":22.53544},{\"period\":\"2018-03-01\",\"ratio\":25.3988},{\"period\":\"2018-04-01\",\"ratio\":26.55983},{\"period\":\"2018-05-01\",\"ratio\":28.60035},{\"period\":\"2018-06-01\",\"ratio\":28.40753},{\"period\":\"2018-07-01\",\"ratio\":27.84405},{\"period\":\"2018-08-01\",\"ratio\":29.84383},{\"period\":\"2018-09-01\",\"ratio\":25.05096},{\"period\":\"2018-10-01\",\"ratio\":27.2048},{\"period\":\"2018-11-01\",\"ratio\":21.97864},{\"period\":\"2018-12-01\",\"ratio\":20.8739},{\"period\":\"2019-01-01\",\"ratio\":22.51379},{\"period\":\"2019-02-01\",\"ratio\":19.33788},{\"period\":\"2019-03-01\",\"ratio\":21.67678},{\"period\":\"2019-04-01\",\"ratio\":21.16257},{\"period\":\"2019-05-01\",\"ratio\":20.9485},{\"period\":\"2019-06-01\",\"ratio\":21.76954},{\"period\":\"2019-07-01\",\"ratio\":22.586},{\"period\":\"2019-08-01\",\"ratio\":21.43535},{\"period\":\"2019-09-01\",\"ratio\":19.83802},{\"period\":\"2019-10-01\",\"ratio\":22.24957},{\"period\":\"2019-11-01\",\"ratio\":21.55812},{\"period\":\"2019-12-01\",\"ratio\":21.52333},{\"period\":\"2020-01-01\",\"ratio\":22.0381},{\"period\":\"2020-02-01\",\"ratio\":21.53446},{\"period\":\"2020-03-01\",\"ratio\":25.01454},{\"period\":\"2020-04-01\",\"ratio\":24.12708},{\"period\":\"2020-05-01\",\"ratio\":25.68412},{\"period\":\"2020-06-01\",\"ratio\":25.47291},{\"period\":\"2020-07-01\",\"ratio\":27.08637},{\"period\":\"2020-08-01\",\"ratio\":26.73002},{\"period\":\"2020-09-01\",\"ratio\":26.0109},{\"period\":\"2020-10-01\",\"ratio\":26.21388},{\"period\":\"2020-11-01\",\"ratio\":25.81836},{\"period\":\"2020-12-01\",\"ratio\":25.74078},{\"period\":\"2021-01-01\",\"ratio\":25.5243},{\"period\":\"2021-02-01\",\"ratio\":22.79679},{\"period\":\"2021-03-01\",\"ratio\":28.04835},{\"period\":\"2021-04-01\",\"ratio\":27.90414},{\"period\":\"2021-05-01\",\"ratio\":26.56014},{\"period\":\"2021-06-01\",\"ratio\":26.31208},{\"period\":\"2021-07-01\",\"ratio\":25.15776},{\"period\":\"2021-08-01\",\"ratio\":25.07517},{\"period\":\"2021-09-01\",\"ratio\":24.95299},{\"period\":\"2021-10-01\",\"ratio\":28.76584},{\"period\":\"2021-11-01\",\"ratio\":23.30904},{\"period\":\"2021-12-01\",\"ratio\":22.87539},{\"period\":\"2022-01-01\",\"ratio\":22.0805},{\"period\":\"2022-02-01\",\"ratio\":20.23895},{\"period\":\"2022-03-01\",\"ratio\":22.4226},{\"period\":\"2022-04-01\",\"ratio\":22.07676},{\"period\":\"2022-05-01\",\"ratio\":22.23291},{\"period\":\"2022-06-01\",\"ratio\":21.63141},{\"period\":\"2022-07-01\",\"ratio\":21.40551}]}]}'"
      ]
     },
     "execution_count": 12,
     "metadata": {},
     "output_type": "execute_result"
    }
   ],
   "source": [
    "response.text"
   ]
  },
  {
   "cell_type": "code",
   "execution_count": null,
   "id": "ba8648c4-7de3-4e95-8584-5983b3f59965",
   "metadata": {},
   "outputs": [],
   "source": [
    "# 4. JSON(str) > preprocessing > DataFrame  "
   ]
  },
  {
   "cell_type": "code",
   "execution_count": 21,
   "id": "117f1418-ea2e-4f84-8a14-8ec6e91727e1",
   "metadata": {},
   "outputs": [
    {
     "data": {
      "text/plain": [
       "[1, 9, 25, 49, 81]"
      ]
     },
     "execution_count": 21,
     "metadata": {},
     "output_type": "execute_result"
    }
   ],
   "source": [
    "# list comprehension : 간단한 for, if 문을 사용하여 리스트 데이터를 만들때 사용하는 방법\n",
    "# 0~9까지 홀수만 제곱해서 리스트 출력\n",
    "\n",
    "result = [i**2 for i in range(10) if i % 2]\n",
    "result"
   ]
  },
  {
   "cell_type": "code",
   "execution_count": 29,
   "id": "d8d4a59c-65c2-4319-9ad6-3741ab1105c8",
   "metadata": {
    "collapsed": true,
    "jupyter": {
     "outputs_hidden": true
    },
    "tags": []
   },
   "outputs": [
    {
     "data": {
      "text/plain": [
       "{'title': '트위터',\n",
       " 'keywords': ['트위터', '트윗'],\n",
       " 'data': [{'period': '2018-01-01', 'ratio': 14.59502},\n",
       "  {'period': '2018-02-01', 'ratio': 13.0238},\n",
       "  {'period': '2018-03-01', 'ratio': 12.97953},\n",
       "  {'period': '2018-04-01', 'ratio': 12.82991},\n",
       "  {'period': '2018-05-01', 'ratio': 13.05391},\n",
       "  {'period': '2018-06-01', 'ratio': 13.34512},\n",
       "  {'period': '2018-07-01', 'ratio': 13.02773},\n",
       "  {'period': '2018-08-01', 'ratio': 13.45399},\n",
       "  {'period': '2018-09-01', 'ratio': 12.83755},\n",
       "  {'period': '2018-10-01', 'ratio': 13.05677},\n",
       "  {'period': '2018-11-01', 'ratio': 12.77338},\n",
       "  {'period': '2018-12-01', 'ratio': 12.86931},\n",
       "  {'period': '2019-01-01', 'ratio': 13.31172},\n",
       "  {'period': '2019-02-01', 'ratio': 11.74776},\n",
       "  {'period': '2019-03-01', 'ratio': 11.82313},\n",
       "  {'period': '2019-04-01', 'ratio': 12.32991},\n",
       "  {'period': '2019-05-01', 'ratio': 12.43771},\n",
       "  {'period': '2019-06-01', 'ratio': 13.29913},\n",
       "  {'period': '2019-07-01', 'ratio': 14.00593},\n",
       "  {'period': '2019-08-01', 'ratio': 14.208},\n",
       "  {'period': '2019-09-01', 'ratio': 14.00856},\n",
       "  {'period': '2019-10-01', 'ratio': 14.88466},\n",
       "  {'period': '2019-11-01', 'ratio': 14.352},\n",
       "  {'period': '2019-12-01', 'ratio': 14.36689},\n",
       "  {'period': '2020-01-01', 'ratio': 16.05722},\n",
       "  {'period': '2020-02-01', 'ratio': 15.71465},\n",
       "  {'period': '2020-03-01', 'ratio': 18.5669},\n",
       "  {'period': '2020-04-01', 'ratio': 18.29928},\n",
       "  {'period': '2020-05-01', 'ratio': 21.0523},\n",
       "  {'period': '2020-06-01', 'ratio': 19.27569},\n",
       "  {'period': '2020-07-01', 'ratio': 20.59297},\n",
       "  {'period': '2020-08-01', 'ratio': 19.3598},\n",
       "  {'period': '2020-09-01', 'ratio': 19.96801},\n",
       "  {'period': '2020-10-01', 'ratio': 20.88909},\n",
       "  {'period': '2020-11-01', 'ratio': 19.58926},\n",
       "  {'period': '2020-12-01', 'ratio': 21.54861},\n",
       "  {'period': '2021-01-01', 'ratio': 21.93972},\n",
       "  {'period': '2021-02-01', 'ratio': 20.09926},\n",
       "  {'period': '2021-03-01', 'ratio': 21.47994},\n",
       "  {'period': '2021-04-01', 'ratio': 22.94525},\n",
       "  {'period': '2021-05-01', 'ratio': 23.00813},\n",
       "  {'period': '2021-06-01', 'ratio': 22.19201},\n",
       "  {'period': '2021-07-01', 'ratio': 22.44472},\n",
       "  {'period': '2021-08-01', 'ratio': 23.87169},\n",
       "  {'period': '2021-09-01', 'ratio': 21.40248},\n",
       "  {'period': '2021-10-01', 'ratio': 22.49636},\n",
       "  {'period': '2021-11-01', 'ratio': 21.3438},\n",
       "  {'period': '2021-12-01', 'ratio': 21.55931},\n",
       "  {'period': '2022-01-01', 'ratio': 21.94339},\n",
       "  {'period': '2022-02-01', 'ratio': 22.43099},\n",
       "  {'period': '2022-03-01', 'ratio': 23.78266},\n",
       "  {'period': '2022-04-01', 'ratio': 23.83847},\n",
       "  {'period': '2022-05-01', 'ratio': 22.99363},\n",
       "  {'period': '2022-06-01', 'ratio': 23.2411},\n",
       "  {'period': '2022-07-01', 'ratio': 24.06197}]}"
      ]
     },
     "execution_count": 29,
     "metadata": {},
     "output_type": "execute_result"
    }
   ],
   "source": [
    "data = response.json()['results']\n",
    "data[0]"
   ]
  },
  {
   "cell_type": "code",
   "execution_count": 33,
   "id": "c9a658fa-9eaf-4fad-9d25-4f43b0aab57d",
   "metadata": {
    "tags": []
   },
   "outputs": [
    {
     "data": {
      "text/html": [
       "<div>\n",
       "<style scoped>\n",
       "    .dataframe tbody tr th:only-of-type {\n",
       "        vertical-align: middle;\n",
       "    }\n",
       "\n",
       "    .dataframe tbody tr th {\n",
       "        vertical-align: top;\n",
       "    }\n",
       "\n",
       "    .dataframe thead th {\n",
       "        text-align: right;\n",
       "    }\n",
       "</style>\n",
       "<table border=\"1\" class=\"dataframe\">\n",
       "  <thead>\n",
       "    <tr style=\"text-align: right;\">\n",
       "      <th></th>\n",
       "      <th>date</th>\n",
       "      <th>twitter</th>\n",
       "      <th>facebook</th>\n",
       "      <th>instagram</th>\n",
       "    </tr>\n",
       "  </thead>\n",
       "  <tbody>\n",
       "    <tr>\n",
       "      <th>53</th>\n",
       "      <td>2022-06-01</td>\n",
       "      <td>23.24110</td>\n",
       "      <td>20.04381</td>\n",
       "      <td>21.63141</td>\n",
       "    </tr>\n",
       "    <tr>\n",
       "      <th>54</th>\n",
       "      <td>2022-07-01</td>\n",
       "      <td>24.06197</td>\n",
       "      <td>19.53712</td>\n",
       "      <td>21.40551</td>\n",
       "    </tr>\n",
       "  </tbody>\n",
       "</table>\n",
       "</div>"
      ],
      "text/plain": [
       "          date   twitter  facebook  instagram\n",
       "53  2022-06-01  23.24110  20.04381   21.63141\n",
       "54  2022-07-01  24.06197  19.53712   21.40551"
      ]
     },
     "execution_count": 33,
     "metadata": {},
     "output_type": "execute_result"
    }
   ],
   "source": [
    "df = pd.DataFrame({\n",
    "    \"date\" : [period[\"period\"] for period in data[0][\"data\"]],\n",
    "    \"twitter\" : [ratio[\"ratio\"] for ratio in data[0][\"data\"]],\n",
    "    \"facebook\" : [ratio[\"ratio\"] for ratio in data[1][\"data\"]],\n",
    "    \"instagram\" : [ratio[\"ratio\"] for ratio in data[2][\"data\"]]\n",
    "    \n",
    "})\n",
    "df.tail(2)"
   ]
  },
  {
   "cell_type": "code",
   "execution_count": null,
   "id": "ca8b1be5-42fe-4de7-bd3b-7b9d8ac05f15",
   "metadata": {},
   "outputs": [],
   "source": [
    "# 5. visualization"
   ]
  },
  {
   "cell_type": "code",
   "execution_count": 38,
   "id": "2cf8eaaa-f13a-48f2-b7f4-e590c14fe212",
   "metadata": {},
   "outputs": [
    {
     "data": {
      "text/plain": [
       "<AxesSubplot:>"
      ]
     },
     "execution_count": 38,
     "metadata": {},
     "output_type": "execute_result"
    },
    {
     "data": {
      "image/png": "[encoded data removed]",
      "text/plain": [
       "<Figure size 1080x360 with 1 Axes>"
      ]
     },
     "metadata": {
      "needs_background": "light"
     },
     "output_type": "display_data"
    }
   ],
   "source": [
    "df.plot(figsize=(15, 5))"
   ]
  },
  {
   "cell_type": "code",
   "execution_count": null,
   "id": "521bcd4f-cfe1-4985-94d6-60b911b4b093",
   "metadata": {},
   "outputs": [],
   "source": [
    "# https://pandas.pydata.org/docs/user_guide/10min.html"
   ]
  },
  {
   "cell_type": "code",
   "execution_count": null,
   "id": "d9415735-7800-452c-ae2a-60d1d41b408c",
   "metadata": {},
   "outputs": [],
   "source": [
    "# 과제 : 카카오 API 사용해 주소 > 위도, 경도, 우편번호 또는 반대 API 사용\n",
    "# - REST API 키 사용\n",
    "# - https://developers.kakao.com/docs/latest/ko/local/dev-guide"
   ]
  }
 ],
 "metadata": {
  "kernelspec": {
   "display_name": "Python 3",
   "language": "python",
   "name": "python3"
  },
  "language_info": {
   "codemirror_mode": {
    "name": "ipython",
    "version": 3
   },
   "file_extension": ".py",
   "mimetype": "text/x-python",
   "name": "python",
   "nbconvert_exporter": "python",
   "pygments_lexer": "ipython3",
   "version": "3.8.8"
  }
 },
 "nbformat": 4,
 "nbformat_minor": 5
}
