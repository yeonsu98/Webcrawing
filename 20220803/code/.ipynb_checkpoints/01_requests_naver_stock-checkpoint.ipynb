{
 "cells": [
  {
   "cell_type": "markdown",
   "id": "26beb033-806c-4021-bca0-6207f3e836c1",
   "metadata": {},
   "source": [
    "### WebCrawing\n",
    "- 웹페이지의 종류\n",
    "    - 정적페이지 : 페이지의 데이터가 변경될 때 URL이 변경 : Html\n",
    "    - 동적페이지 : 페이지의 데이터가 변경될 때 URL이 변경 X : Json\n",
    "- requests package\n",
    "    - 브라우져의 URL을 입력하면 서버에서 데이터를 다운받아 화면에 출력 : URL입력 > Data 가져옴\n",
    "    - requests 패키지 : URL > Data\n",
    "    "
   ]
  },
  {
   "cell_type": "markdown",
   "id": "1c94567c-1fe0-4312-8efb-beda56af5046",
   "metadata": {},
   "source": [
    "### Naver Stock Data\n",
    "- Kospi 주가 지수\n",
    "- Kosdaq 주가 지수\n",
    "- USD : 원달러 환율 \n"
   ]
  },
  {
   "cell_type": "markdown",
   "id": "fd6155ac-57e7-4ece-ae08-1cb37b0eea82",
   "metadata": {
    "tags": []
   },
   "source": [
    "### KOSPI 데이터 수집 코드 작성"
   ]
  },
  {
   "cell_type": "code",
   "execution_count": 3,
   "id": "9e952a57-836e-4315-8c5d-7217dc188bbf",
   "metadata": {},
   "outputs": [],
   "source": [
    "# 필요한 패키지 import\n",
    "import requests\n",
    "import pandas as pd"
   ]
  },
  {
   "cell_type": "code",
   "execution_count": null,
   "id": "16cfd2ee-e8a9-47b0-84f6-dc0e7b41c5cb",
   "metadata": {},
   "outputs": [],
   "source": [
    "# 1. ** 웹서비스를 분석 ** : 크롬 개발자도구 사용(트래픽 확인) > URL 얻음\n",
    "# https://m.stock.naver.com/"
   ]
  },
  {
   "cell_type": "code",
   "execution_count": 3,
   "id": "0733514e-06a4-48b5-aa87-89520ad30073",
   "metadata": {},
   "outputs": [],
   "source": [
    "url = \"https://m.stock.naver.com/api/index/KOSPI/price?pageSize=10&page=4\""
   ]
  },
  {
   "cell_type": "code",
   "execution_count": null,
   "id": "0025302d-ecef-4558-be10-dd46e5742b3b",
   "metadata": {},
   "outputs": [],
   "source": [
    "# 2. requests > response : JSON(str)"
   ]
  },
  {
   "cell_type": "code",
   "execution_count": 5,
   "id": "7e5b8ff1-eca3-4d3c-a76a-a0e144fab106",
   "metadata": {},
   "outputs": [
    {
     "data": {
      "text/plain": [
       "<Response [200]>"
      ]
     },
     "execution_count": 5,
     "metadata": {},
     "output_type": "execute_result"
    }
   ],
   "source": [
    "response = requests.get(url)\n",
    "response"
   ]
  },
  {
   "cell_type": "code",
   "execution_count": 7,
   "id": "e9025335-97a0-4ac8-a4f3-2c76d6c0fec2",
   "metadata": {},
   "outputs": [
    {
     "data": {
      "text/plain": [
       "'[{\"localTradedAt\":\"2022-06-22\",\"closePrice\":\"2,342.81\",\"compareToPreviousClosePrice\":\"-66.12\",\"compareToPreviousPrice\":{\"code\":\"5\",\"text\":\"하락\",\"name\":\"FALLING\"},\"fluctuationsRatio\":\"-2.74\",\"openPrice\"'"
      ]
     },
     "execution_count": 7,
     "metadata": {},
     "output_type": "execute_result"
    }
   ],
   "source": [
    "response.text[:200]"
   ]
  },
  {
   "cell_type": "code",
   "execution_count": null,
   "id": "37eee047-2647-4d67-aacc-a243428a0689",
   "metadata": {},
   "outputs": [],
   "source": [
    "# 3. JSON(str) > list, dict > DataFrame 출력"
   ]
  },
  {
   "cell_type": "code",
   "execution_count": 8,
   "id": "f47cf2fb-a86c-484b-866b-9b9ece12860a",
   "metadata": {},
   "outputs": [
    {
     "data": {
      "text/plain": [
       "(list,\n",
       " [{'localTradedAt': '2022-06-22',\n",
       "   'closePrice': '2,342.81',\n",
       "   'compareToPreviousClosePrice': '-66.12',\n",
       "   'compareToPreviousPrice': {'code': '5', 'text': '하락', 'name': 'FALLING'},\n",
       "   'fluctuationsRatio': '-2.74',\n",
       "   'openPrice': '2,417.11',\n",
       "   'highPrice': '2,418.05',\n",
       "   'lowPrice': '2,342.81'}])"
      ]
     },
     "execution_count": 8,
     "metadata": {},
     "output_type": "execute_result"
    }
   ],
   "source": [
    "data = response.json()\n",
    "type(data), data[:1]"
   ]
  },
  {
   "cell_type": "code",
   "execution_count": 12,
   "id": "b37dcacc-5dca-4241-bc18-d5dfd569aced",
   "metadata": {},
   "outputs": [
    {
     "data": {
      "text/html": [
       "<div>\n",
       "<style scoped>\n",
       "    .dataframe tbody tr th:only-of-type {\n",
       "        vertical-align: middle;\n",
       "    }\n",
       "\n",
       "    .dataframe tbody tr th {\n",
       "        vertical-align: top;\n",
       "    }\n",
       "\n",
       "    .dataframe thead th {\n",
       "        text-align: right;\n",
       "    }\n",
       "</style>\n",
       "<table border=\"1\" class=\"dataframe\">\n",
       "  <thead>\n",
       "    <tr style=\"text-align: right;\">\n",
       "      <th></th>\n",
       "      <th>localTradedAt</th>\n",
       "      <th>closePrice</th>\n",
       "    </tr>\n",
       "  </thead>\n",
       "  <tbody>\n",
       "    <tr>\n",
       "      <th>8</th>\n",
       "      <td>2022-06-10</td>\n",
       "      <td>2,595.87</td>\n",
       "    </tr>\n",
       "    <tr>\n",
       "      <th>9</th>\n",
       "      <td>2022-06-09</td>\n",
       "      <td>2,625.44</td>\n",
       "    </tr>\n",
       "  </tbody>\n",
       "</table>\n",
       "</div>"
      ],
      "text/plain": [
       "  localTradedAt closePrice\n",
       "8    2022-06-10   2,595.87\n",
       "9    2022-06-09   2,625.44"
      ]
     },
     "execution_count": 12,
     "metadata": {},
     "output_type": "execute_result"
    }
   ],
   "source": [
    "df = pd.DataFrame(data)[[\"localTradedAt\", \"closePrice\"]]\n",
    "df.tail(2)"
   ]
  },
  {
   "cell_type": "markdown",
   "id": "daeb0644-1892-421f-a62e-a6454666c196",
   "metadata": {
    "tags": []
   },
   "source": [
    "### KOSDAQ 데이터 수집 코드 작성"
   ]
  },
  {
   "cell_type": "code",
   "execution_count": null,
   "id": "b8ab77f8-4b21-43c8-8362-4760cda82938",
   "metadata": {},
   "outputs": [],
   "source": [
    "# 1. 웹서비스를 분석"
   ]
  },
  {
   "cell_type": "code",
   "execution_count": 9,
   "id": "3cccf8ee-5858-49bd-a598-f665a7b0ff43",
   "metadata": {},
   "outputs": [],
   "source": [
    "url = \"https://m.stock.naver.com/api/index/KOSDAQ/price?pageSize=10&page=4\""
   ]
  },
  {
   "cell_type": "code",
   "execution_count": 10,
   "id": "f862e39d-4a88-4397-80da-791a486f8640",
   "metadata": {},
   "outputs": [],
   "source": [
    "# 2. requests > response : JSON(str)"
   ]
  },
  {
   "cell_type": "code",
   "execution_count": 11,
   "id": "e44955ab-16b7-4049-a657-7b76c4e0cbcb",
   "metadata": {},
   "outputs": [
    {
     "data": {
      "text/plain": [
       "'[{\"localTradedAt\":\"2022-06-22\",\"closePrice\":\"746.96\",\"compareToPreviousClosePrice\":\"-31.34\",\"compareToPreviousPrice\":{\"code\":\"5\",\"text\":\"하락\",\"name\":\"FALLING\"},\"fluctuationsRatio\":\"-4.03\",\"openPrice\":\"'"
      ]
     },
     "execution_count": 11,
     "metadata": {},
     "output_type": "execute_result"
    }
   ],
   "source": [
    "response = requests.get(url)\n",
    "response.text[:200]"
   ]
  },
  {
   "cell_type": "code",
   "execution_count": 12,
   "id": "1614f90f-0ee0-4382-9bce-449503fe65aa",
   "metadata": {},
   "outputs": [],
   "source": [
    "# 3. JSON(str) > list, dict > DataFrame 출력"
   ]
  },
  {
   "cell_type": "code",
   "execution_count": 13,
   "id": "8eb36609-b939-4ffb-bb64-27fba6834429",
   "metadata": {
    "tags": []
   },
   "outputs": [
    {
     "data": {
      "text/html": [
       "<div>\n",
       "<style scoped>\n",
       "    .dataframe tbody tr th:only-of-type {\n",
       "        vertical-align: middle;\n",
       "    }\n",
       "\n",
       "    .dataframe tbody tr th {\n",
       "        vertical-align: top;\n",
       "    }\n",
       "\n",
       "    .dataframe thead th {\n",
       "        text-align: right;\n",
       "    }\n",
       "</style>\n",
       "<table border=\"1\" class=\"dataframe\">\n",
       "  <thead>\n",
       "    <tr style=\"text-align: right;\">\n",
       "      <th></th>\n",
       "      <th>localTradedAt</th>\n",
       "      <th>closePrice</th>\n",
       "    </tr>\n",
       "  </thead>\n",
       "  <tbody>\n",
       "    <tr>\n",
       "      <th>8</th>\n",
       "      <td>2022-06-10</td>\n",
       "      <td>869.86</td>\n",
       "    </tr>\n",
       "    <tr>\n",
       "      <th>9</th>\n",
       "      <td>2022-06-09</td>\n",
       "      <td>877.18</td>\n",
       "    </tr>\n",
       "  </tbody>\n",
       "</table>\n",
       "</div>"
      ],
      "text/plain": [
       "  localTradedAt closePrice\n",
       "8    2022-06-10     869.86\n",
       "9    2022-06-09     877.18"
      ]
     },
     "execution_count": 13,
     "metadata": {},
     "output_type": "execute_result"
    }
   ],
   "source": [
    "data = response.json()\n",
    "df = pd.DataFrame(data)[[\"localTradedAt\", \"closePrice\"]]\n",
    "df.tail(2)"
   ]
  },
  {
   "cell_type": "markdown",
   "id": "3db4e0d1-14d9-47d8-8321-be580af637a5",
   "metadata": {},
   "source": [
    "### 함수 만들기\n",
    "- param : pagesize, page"
   ]
  },
  {
   "cell_type": "code",
   "execution_count": 4,
   "id": "6bb1ecc1-344c-4568-b4ff-28552e0bb45c",
   "metadata": {},
   "outputs": [],
   "source": [
    "def stock_price(pagesize, page, code):\n",
    "    url = f\"https://m.stock.naver.com/api/index/{code}/price?pageSize={pagesize}&page={page}\"\n",
    "    \n",
    "    response = requests.get(url)\n",
    "    data = response.json()\n",
    "    \n",
    "    return pd.DataFrame(data)[[\"localTradedAt\", \"closePrice\"]]"
   ]
  },
  {
   "cell_type": "code",
   "execution_count": 5,
   "id": "03e96747-44a8-4c32-a558-e73c299375f1",
   "metadata": {},
   "outputs": [
    {
     "data": {
      "text/html": [
       "<div>\n",
       "<style scoped>\n",
       "    .dataframe tbody tr th:only-of-type {\n",
       "        vertical-align: middle;\n",
       "    }\n",
       "\n",
       "    .dataframe tbody tr th {\n",
       "        vertical-align: top;\n",
       "    }\n",
       "\n",
       "    .dataframe thead th {\n",
       "        text-align: right;\n",
       "    }\n",
       "</style>\n",
       "<table border=\"1\" class=\"dataframe\">\n",
       "  <thead>\n",
       "    <tr style=\"text-align: right;\">\n",
       "      <th></th>\n",
       "      <th>localTradedAt</th>\n",
       "      <th>closePrice</th>\n",
       "    </tr>\n",
       "  </thead>\n",
       "  <tbody>\n",
       "    <tr>\n",
       "      <th>0</th>\n",
       "      <td>2022-06-22</td>\n",
       "      <td>746.96</td>\n",
       "    </tr>\n",
       "    <tr>\n",
       "      <th>1</th>\n",
       "      <td>2022-06-21</td>\n",
       "      <td>778.30</td>\n",
       "    </tr>\n",
       "    <tr>\n",
       "      <th>2</th>\n",
       "      <td>2022-06-20</td>\n",
       "      <td>769.92</td>\n",
       "    </tr>\n",
       "    <tr>\n",
       "      <th>3</th>\n",
       "      <td>2022-06-17</td>\n",
       "      <td>798.69</td>\n",
       "    </tr>\n",
       "    <tr>\n",
       "      <th>4</th>\n",
       "      <td>2022-06-16</td>\n",
       "      <td>802.15</td>\n",
       "    </tr>\n",
       "    <tr>\n",
       "      <th>5</th>\n",
       "      <td>2022-06-15</td>\n",
       "      <td>799.41</td>\n",
       "    </tr>\n",
       "    <tr>\n",
       "      <th>6</th>\n",
       "      <td>2022-06-14</td>\n",
       "      <td>823.58</td>\n",
       "    </tr>\n",
       "    <tr>\n",
       "      <th>7</th>\n",
       "      <td>2022-06-13</td>\n",
       "      <td>828.77</td>\n",
       "    </tr>\n",
       "    <tr>\n",
       "      <th>8</th>\n",
       "      <td>2022-06-10</td>\n",
       "      <td>869.86</td>\n",
       "    </tr>\n",
       "    <tr>\n",
       "      <th>9</th>\n",
       "      <td>2022-06-09</td>\n",
       "      <td>877.18</td>\n",
       "    </tr>\n",
       "  </tbody>\n",
       "</table>\n",
       "</div>"
      ],
      "text/plain": [
       "  localTradedAt closePrice\n",
       "0    2022-06-22     746.96\n",
       "1    2022-06-21     778.30\n",
       "2    2022-06-20     769.92\n",
       "3    2022-06-17     798.69\n",
       "4    2022-06-16     802.15\n",
       "5    2022-06-15     799.41\n",
       "6    2022-06-14     823.58\n",
       "7    2022-06-13     828.77\n",
       "8    2022-06-10     869.86\n",
       "9    2022-06-09     877.18"
      ]
     },
     "execution_count": 5,
     "metadata": {},
     "output_type": "execute_result"
    }
   ],
   "source": [
    "stock_price(10, 4, 'KOSDAQ')"
   ]
  },
  {
   "cell_type": "code",
   "execution_count": 6,
   "id": "977de450-68b7-4988-9fb8-21b79f5a46d7",
   "metadata": {},
   "outputs": [
    {
     "data": {
      "text/html": [
       "<div>\n",
       "<style scoped>\n",
       "    .dataframe tbody tr th:only-of-type {\n",
       "        vertical-align: middle;\n",
       "    }\n",
       "\n",
       "    .dataframe tbody tr th {\n",
       "        vertical-align: top;\n",
       "    }\n",
       "\n",
       "    .dataframe thead th {\n",
       "        text-align: right;\n",
       "    }\n",
       "</style>\n",
       "<table border=\"1\" class=\"dataframe\">\n",
       "  <thead>\n",
       "    <tr style=\"text-align: right;\">\n",
       "      <th></th>\n",
       "      <th>localTradedAt</th>\n",
       "      <th>closePrice</th>\n",
       "    </tr>\n",
       "  </thead>\n",
       "  <tbody>\n",
       "    <tr>\n",
       "      <th>0</th>\n",
       "      <td>2022-06-22</td>\n",
       "      <td>2,342.81</td>\n",
       "    </tr>\n",
       "    <tr>\n",
       "      <th>1</th>\n",
       "      <td>2022-06-21</td>\n",
       "      <td>2,408.93</td>\n",
       "    </tr>\n",
       "    <tr>\n",
       "      <th>2</th>\n",
       "      <td>2022-06-20</td>\n",
       "      <td>2,391.03</td>\n",
       "    </tr>\n",
       "    <tr>\n",
       "      <th>3</th>\n",
       "      <td>2022-06-17</td>\n",
       "      <td>2,440.93</td>\n",
       "    </tr>\n",
       "    <tr>\n",
       "      <th>4</th>\n",
       "      <td>2022-06-16</td>\n",
       "      <td>2,451.41</td>\n",
       "    </tr>\n",
       "    <tr>\n",
       "      <th>5</th>\n",
       "      <td>2022-06-15</td>\n",
       "      <td>2,447.38</td>\n",
       "    </tr>\n",
       "    <tr>\n",
       "      <th>6</th>\n",
       "      <td>2022-06-14</td>\n",
       "      <td>2,492.97</td>\n",
       "    </tr>\n",
       "    <tr>\n",
       "      <th>7</th>\n",
       "      <td>2022-06-13</td>\n",
       "      <td>2,504.51</td>\n",
       "    </tr>\n",
       "    <tr>\n",
       "      <th>8</th>\n",
       "      <td>2022-06-10</td>\n",
       "      <td>2,595.87</td>\n",
       "    </tr>\n",
       "    <tr>\n",
       "      <th>9</th>\n",
       "      <td>2022-06-09</td>\n",
       "      <td>2,625.44</td>\n",
       "    </tr>\n",
       "  </tbody>\n",
       "</table>\n",
       "</div>"
      ],
      "text/plain": [
       "  localTradedAt closePrice\n",
       "0    2022-06-22   2,342.81\n",
       "1    2022-06-21   2,408.93\n",
       "2    2022-06-20   2,391.03\n",
       "3    2022-06-17   2,440.93\n",
       "4    2022-06-16   2,451.41\n",
       "5    2022-06-15   2,447.38\n",
       "6    2022-06-14   2,492.97\n",
       "7    2022-06-13   2,504.51\n",
       "8    2022-06-10   2,595.87\n",
       "9    2022-06-09   2,625.44"
      ]
     },
     "execution_count": 6,
     "metadata": {},
     "output_type": "execute_result"
    }
   ],
   "source": [
    "stock_price(10, 4, 'KOSPI')"
   ]
  }
 ],
 "metadata": {
  "kernelspec": {
   "display_name": "Python 3",
   "language": "python",
   "name": "python3"
  },
  "language_info": {
   "codemirror_mode": {
    "name": "ipython",
    "version": 3
   },
   "file_extension": ".py",
   "mimetype": "text/x-python",
   "name": "python",
   "nbconvert_exporter": "python",
   "pygments_lexer": "ipython3",
   "version": "3.8.8"
  }
 },
 "nbformat": 4,
 "nbformat_minor": 5
}
